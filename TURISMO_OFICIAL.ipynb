{
 "cells": [
  {
   "cell_type": "code",
   "execution_count": 151,
   "id": "0c8c480d",
   "metadata": {},
   "outputs": [],
   "source": [
    "import pycaret\n",
    "import pandas as pd\n",
    "from pycaret.datasets import get_data\n",
    "from pycaret.clustering import *"
   ]
  },
  {
   "cell_type": "code",
   "execution_count": 152,
   "id": "5a907012",
   "metadata": {},
   "outputs": [],
   "source": [
    "dataset = pd.read_excel('C:\\\\Users\\\\lucla\\\\Desktop\\\\new_sifilis\\\\Datasets\\\\TURISMO_OFICIAL.xlsx')\n"
   ]
  },
  {
   "cell_type": "code",
   "execution_count": 153,
   "id": "2171c09c",
   "metadata": {
    "scrolled": false
   },
   "outputs": [
    {
     "data": {
      "text/html": [
       "<div>\n",
       "<style scoped>\n",
       "    .dataframe tbody tr th:only-of-type {\n",
       "        vertical-align: middle;\n",
       "    }\n",
       "\n",
       "    .dataframe tbody tr th {\n",
       "        vertical-align: top;\n",
       "    }\n",
       "\n",
       "    .dataframe thead th {\n",
       "        text-align: right;\n",
       "    }\n",
       "</style>\n",
       "<table border=\"1\" class=\"dataframe\">\n",
       "  <thead>\n",
       "    <tr style=\"text-align: right;\">\n",
       "      <th></th>\n",
       "      <th>Código</th>\n",
       "      <th>Nome Município</th>\n",
       "      <th>SC_BAHIA</th>\n",
       "      <th>TURISMO</th>\n",
       "      <th>CATEGORIA</th>\n",
       "      <th>Habitantes</th>\n",
       "      <th>Porcentagem de Casos</th>\n",
       "    </tr>\n",
       "  </thead>\n",
       "  <tbody>\n",
       "    <tr>\n",
       "      <th>0</th>\n",
       "      <td>290010</td>\n",
       "      <td>Abaíra</td>\n",
       "      <td>2</td>\n",
       "      <td>1</td>\n",
       "      <td>2</td>\n",
       "      <td>9199</td>\n",
       "      <td>0.021741</td>\n",
       "    </tr>\n",
       "    <tr>\n",
       "      <th>1</th>\n",
       "      <td>290020</td>\n",
       "      <td>Abaré</td>\n",
       "      <td>3</td>\n",
       "      <td>0</td>\n",
       "      <td>0</td>\n",
       "      <td>20189</td>\n",
       "      <td>0.014860</td>\n",
       "    </tr>\n",
       "    <tr>\n",
       "      <th>2</th>\n",
       "      <td>290030</td>\n",
       "      <td>Acajutiba</td>\n",
       "      <td>9</td>\n",
       "      <td>0</td>\n",
       "      <td>0</td>\n",
       "      <td>15727</td>\n",
       "      <td>0.057226</td>\n",
       "    </tr>\n",
       "    <tr>\n",
       "      <th>3</th>\n",
       "      <td>290035</td>\n",
       "      <td>Adustina</td>\n",
       "      <td>15</td>\n",
       "      <td>1</td>\n",
       "      <td>2</td>\n",
       "      <td>17349</td>\n",
       "      <td>0.086460</td>\n",
       "    </tr>\n",
       "    <tr>\n",
       "      <th>4</th>\n",
       "      <td>290040</td>\n",
       "      <td>Água Fria</td>\n",
       "      <td>9</td>\n",
       "      <td>0</td>\n",
       "      <td>0</td>\n",
       "      <td>17508</td>\n",
       "      <td>0.051405</td>\n",
       "    </tr>\n",
       "    <tr>\n",
       "      <th>...</th>\n",
       "      <td>...</td>\n",
       "      <td>...</td>\n",
       "      <td>...</td>\n",
       "      <td>...</td>\n",
       "      <td>...</td>\n",
       "      <td>...</td>\n",
       "      <td>...</td>\n",
       "    </tr>\n",
       "    <tr>\n",
       "      <th>412</th>\n",
       "      <td>293330</td>\n",
       "      <td>Vitória da Conquista</td>\n",
       "      <td>1795</td>\n",
       "      <td>1</td>\n",
       "      <td>4</td>\n",
       "      <td>348718</td>\n",
       "      <td>0.514743</td>\n",
       "    </tr>\n",
       "    <tr>\n",
       "      <th>413</th>\n",
       "      <td>293340</td>\n",
       "      <td>Wagner</td>\n",
       "      <td>5</td>\n",
       "      <td>0</td>\n",
       "      <td>0</td>\n",
       "      <td>9753</td>\n",
       "      <td>0.051266</td>\n",
       "    </tr>\n",
       "    <tr>\n",
       "      <th>414</th>\n",
       "      <td>293345</td>\n",
       "      <td>Wanderley</td>\n",
       "      <td>11</td>\n",
       "      <td>0</td>\n",
       "      <td>0</td>\n",
       "      <td>12935</td>\n",
       "      <td>0.085041</td>\n",
       "    </tr>\n",
       "    <tr>\n",
       "      <th>415</th>\n",
       "      <td>293350</td>\n",
       "      <td>Wenceslau Guimarães</td>\n",
       "      <td>23</td>\n",
       "      <td>0</td>\n",
       "      <td>0</td>\n",
       "      <td>22365</td>\n",
       "      <td>0.102839</td>\n",
       "    </tr>\n",
       "    <tr>\n",
       "      <th>416</th>\n",
       "      <td>293360</td>\n",
       "      <td>Xique-Xique</td>\n",
       "      <td>18</td>\n",
       "      <td>0</td>\n",
       "      <td>0</td>\n",
       "      <td>48365</td>\n",
       "      <td>0.037217</td>\n",
       "    </tr>\n",
       "  </tbody>\n",
       "</table>\n",
       "<p>417 rows × 7 columns</p>\n",
       "</div>"
      ],
      "text/plain": [
       "     Código        Nome Município  SC_BAHIA  TURISMO  CATEGORIA  Habitantes  \\\n",
       "0    290010                Abaíra         2        1          2        9199   \n",
       "1    290020                 Abaré         3        0          0       20189   \n",
       "2    290030             Acajutiba         9        0          0       15727   \n",
       "3    290035              Adustina        15        1          2       17349   \n",
       "4    290040             Água Fria         9        0          0       17508   \n",
       "..      ...                   ...       ...      ...        ...         ...   \n",
       "412  293330  Vitória da Conquista      1795        1          4      348718   \n",
       "413  293340                Wagner         5        0          0        9753   \n",
       "414  293345             Wanderley        11        0          0       12935   \n",
       "415  293350   Wenceslau Guimarães        23        0          0       22365   \n",
       "416  293360           Xique-Xique        18        0          0       48365   \n",
       "\n",
       "     Porcentagem de Casos  \n",
       "0                0.021741  \n",
       "1                0.014860  \n",
       "2                0.057226  \n",
       "3                0.086460  \n",
       "4                0.051405  \n",
       "..                    ...  \n",
       "412              0.514743  \n",
       "413              0.051266  \n",
       "414              0.085041  \n",
       "415              0.102839  \n",
       "416              0.037217  \n",
       "\n",
       "[417 rows x 7 columns]"
      ]
     },
     "execution_count": 153,
     "metadata": {},
     "output_type": "execute_result"
    }
   ],
   "source": [
    "dataset"
   ]
  },
  {
   "cell_type": "code",
   "execution_count": 154,
   "id": "4f0ca80c",
   "metadata": {
    "scrolled": false
   },
   "outputs": [
    {
     "data": {
      "text/html": [
       "<style type=\"text/css\">\n",
       "#T_53a1f_row6_col1, #T_53a1f_row12_col1 {\n",
       "  background-color: lightgreen;\n",
       "}\n",
       "</style>\n",
       "<table id=\"T_53a1f\">\n",
       "  <thead>\n",
       "    <tr>\n",
       "      <th class=\"blank level0\" >&nbsp;</th>\n",
       "      <th id=\"T_53a1f_level0_col0\" class=\"col_heading level0 col0\" >Description</th>\n",
       "      <th id=\"T_53a1f_level0_col1\" class=\"col_heading level0 col1\" >Value</th>\n",
       "    </tr>\n",
       "  </thead>\n",
       "  <tbody>\n",
       "    <tr>\n",
       "      <th id=\"T_53a1f_level0_row0\" class=\"row_heading level0 row0\" >0</th>\n",
       "      <td id=\"T_53a1f_row0_col0\" class=\"data row0 col0\" >Session id</td>\n",
       "      <td id=\"T_53a1f_row0_col1\" class=\"data row0 col1\" >4868</td>\n",
       "    </tr>\n",
       "    <tr>\n",
       "      <th id=\"T_53a1f_level0_row1\" class=\"row_heading level0 row1\" >1</th>\n",
       "      <td id=\"T_53a1f_row1_col0\" class=\"data row1 col0\" >Original data shape</td>\n",
       "      <td id=\"T_53a1f_row1_col1\" class=\"data row1 col1\" >(417, 7)</td>\n",
       "    </tr>\n",
       "    <tr>\n",
       "      <th id=\"T_53a1f_level0_row2\" class=\"row_heading level0 row2\" >2</th>\n",
       "      <td id=\"T_53a1f_row2_col0\" class=\"data row2 col0\" >Transformed data shape</td>\n",
       "      <td id=\"T_53a1f_row2_col1\" class=\"data row2 col1\" >(417, 418)</td>\n",
       "    </tr>\n",
       "    <tr>\n",
       "      <th id=\"T_53a1f_level0_row3\" class=\"row_heading level0 row3\" >3</th>\n",
       "      <td id=\"T_53a1f_row3_col0\" class=\"data row3 col0\" >Ignore features</td>\n",
       "      <td id=\"T_53a1f_row3_col1\" class=\"data row3 col1\" >5</td>\n",
       "    </tr>\n",
       "    <tr>\n",
       "      <th id=\"T_53a1f_level0_row4\" class=\"row_heading level0 row4\" >4</th>\n",
       "      <td id=\"T_53a1f_row4_col0\" class=\"data row4 col0\" >Numeric features</td>\n",
       "      <td id=\"T_53a1f_row4_col1\" class=\"data row4 col1\" >1</td>\n",
       "    </tr>\n",
       "    <tr>\n",
       "      <th id=\"T_53a1f_level0_row5\" class=\"row_heading level0 row5\" >5</th>\n",
       "      <td id=\"T_53a1f_row5_col0\" class=\"data row5 col0\" >Categorical features</td>\n",
       "      <td id=\"T_53a1f_row5_col1\" class=\"data row5 col1\" >1</td>\n",
       "    </tr>\n",
       "    <tr>\n",
       "      <th id=\"T_53a1f_level0_row6\" class=\"row_heading level0 row6\" >6</th>\n",
       "      <td id=\"T_53a1f_row6_col0\" class=\"data row6 col0\" >Preprocess</td>\n",
       "      <td id=\"T_53a1f_row6_col1\" class=\"data row6 col1\" >True</td>\n",
       "    </tr>\n",
       "    <tr>\n",
       "      <th id=\"T_53a1f_level0_row7\" class=\"row_heading level0 row7\" >7</th>\n",
       "      <td id=\"T_53a1f_row7_col0\" class=\"data row7 col0\" >Imputation type</td>\n",
       "      <td id=\"T_53a1f_row7_col1\" class=\"data row7 col1\" >simple</td>\n",
       "    </tr>\n",
       "    <tr>\n",
       "      <th id=\"T_53a1f_level0_row8\" class=\"row_heading level0 row8\" >8</th>\n",
       "      <td id=\"T_53a1f_row8_col0\" class=\"data row8 col0\" >Numeric imputation</td>\n",
       "      <td id=\"T_53a1f_row8_col1\" class=\"data row8 col1\" >mean</td>\n",
       "    </tr>\n",
       "    <tr>\n",
       "      <th id=\"T_53a1f_level0_row9\" class=\"row_heading level0 row9\" >9</th>\n",
       "      <td id=\"T_53a1f_row9_col0\" class=\"data row9 col0\" >Categorical imputation</td>\n",
       "      <td id=\"T_53a1f_row9_col1\" class=\"data row9 col1\" >mode</td>\n",
       "    </tr>\n",
       "    <tr>\n",
       "      <th id=\"T_53a1f_level0_row10\" class=\"row_heading level0 row10\" >10</th>\n",
       "      <td id=\"T_53a1f_row10_col0\" class=\"data row10 col0\" >Maximum one-hot encoding</td>\n",
       "      <td id=\"T_53a1f_row10_col1\" class=\"data row10 col1\" >-1</td>\n",
       "    </tr>\n",
       "    <tr>\n",
       "      <th id=\"T_53a1f_level0_row11\" class=\"row_heading level0 row11\" >11</th>\n",
       "      <td id=\"T_53a1f_row11_col0\" class=\"data row11 col0\" >Encoding method</td>\n",
       "      <td id=\"T_53a1f_row11_col1\" class=\"data row11 col1\" >None</td>\n",
       "    </tr>\n",
       "    <tr>\n",
       "      <th id=\"T_53a1f_level0_row12\" class=\"row_heading level0 row12\" >12</th>\n",
       "      <td id=\"T_53a1f_row12_col0\" class=\"data row12 col0\" >Normalize</td>\n",
       "      <td id=\"T_53a1f_row12_col1\" class=\"data row12 col1\" >True</td>\n",
       "    </tr>\n",
       "    <tr>\n",
       "      <th id=\"T_53a1f_level0_row13\" class=\"row_heading level0 row13\" >13</th>\n",
       "      <td id=\"T_53a1f_row13_col0\" class=\"data row13 col0\" >Normalize method</td>\n",
       "      <td id=\"T_53a1f_row13_col1\" class=\"data row13 col1\" >zscore</td>\n",
       "    </tr>\n",
       "    <tr>\n",
       "      <th id=\"T_53a1f_level0_row14\" class=\"row_heading level0 row14\" >14</th>\n",
       "      <td id=\"T_53a1f_row14_col0\" class=\"data row14 col0\" >CPU Jobs</td>\n",
       "      <td id=\"T_53a1f_row14_col1\" class=\"data row14 col1\" >-1</td>\n",
       "    </tr>\n",
       "    <tr>\n",
       "      <th id=\"T_53a1f_level0_row15\" class=\"row_heading level0 row15\" >15</th>\n",
       "      <td id=\"T_53a1f_row15_col0\" class=\"data row15 col0\" >Use GPU</td>\n",
       "      <td id=\"T_53a1f_row15_col1\" class=\"data row15 col1\" >False</td>\n",
       "    </tr>\n",
       "    <tr>\n",
       "      <th id=\"T_53a1f_level0_row16\" class=\"row_heading level0 row16\" >16</th>\n",
       "      <td id=\"T_53a1f_row16_col0\" class=\"data row16 col0\" >Log Experiment</td>\n",
       "      <td id=\"T_53a1f_row16_col1\" class=\"data row16 col1\" >False</td>\n",
       "    </tr>\n",
       "    <tr>\n",
       "      <th id=\"T_53a1f_level0_row17\" class=\"row_heading level0 row17\" >17</th>\n",
       "      <td id=\"T_53a1f_row17_col0\" class=\"data row17 col0\" >Experiment Name</td>\n",
       "      <td id=\"T_53a1f_row17_col1\" class=\"data row17 col1\" >cluster-default-name</td>\n",
       "    </tr>\n",
       "    <tr>\n",
       "      <th id=\"T_53a1f_level0_row18\" class=\"row_heading level0 row18\" >18</th>\n",
       "      <td id=\"T_53a1f_row18_col0\" class=\"data row18 col0\" >USI</td>\n",
       "      <td id=\"T_53a1f_row18_col1\" class=\"data row18 col1\" >f0fb</td>\n",
       "    </tr>\n",
       "  </tbody>\n",
       "</table>\n"
      ],
      "text/plain": [
       "<pandas.io.formats.style.Styler at 0x1c45a187b90>"
      ]
     },
     "metadata": {},
     "output_type": "display_data"
    },
    {
     "data": {
      "text/plain": [
       "<pycaret.clustering.oop.ClusteringExperiment at 0x1c45a039bd0>"
      ]
     },
     "execution_count": 154,
     "metadata": {},
     "output_type": "execute_result"
    }
   ],
   "source": [
    "setup(dataset, normalize=True, ignore_features=['SC_BAHIA','CATEGORIA', 'TURISMO', 'Código', 'Habitantes'])"
   ]
  },
  {
   "cell_type": "code",
   "execution_count": 155,
   "id": "c8185f2e",
   "metadata": {
    "scrolled": true
   },
   "outputs": [],
   "source": [
    "# to check all the available models\n",
    "#models()"
   ]
  },
  {
   "cell_type": "code",
   "execution_count": 156,
   "id": "11576f41",
   "metadata": {
    "scrolled": false
   },
   "outputs": [
    {
     "data": {
      "text/html": [],
      "text/plain": [
       "<IPython.core.display.HTML object>"
      ]
     },
     "metadata": {},
     "output_type": "display_data"
    },
    {
     "data": {
      "text/html": [
       "<style type=\"text/css\">\n",
       "</style>\n",
       "<table id=\"T_1e902\">\n",
       "  <thead>\n",
       "    <tr>\n",
       "      <th class=\"blank level0\" >&nbsp;</th>\n",
       "      <th id=\"T_1e902_level0_col0\" class=\"col_heading level0 col0\" >Silhouette</th>\n",
       "      <th id=\"T_1e902_level0_col1\" class=\"col_heading level0 col1\" >Calinski-Harabasz</th>\n",
       "      <th id=\"T_1e902_level0_col2\" class=\"col_heading level0 col2\" >Davies-Bouldin</th>\n",
       "      <th id=\"T_1e902_level0_col3\" class=\"col_heading level0 col3\" >Homogeneity</th>\n",
       "      <th id=\"T_1e902_level0_col4\" class=\"col_heading level0 col4\" >Rand Index</th>\n",
       "      <th id=\"T_1e902_level0_col5\" class=\"col_heading level0 col5\" >Completeness</th>\n",
       "    </tr>\n",
       "  </thead>\n",
       "  <tbody>\n",
       "    <tr>\n",
       "      <th id=\"T_1e902_level0_row0\" class=\"row_heading level0 row0\" >0</th>\n",
       "      <td id=\"T_1e902_row0_col0\" class=\"data row0 col0\" >0.0002</td>\n",
       "      <td id=\"T_1e902_row0_col1\" class=\"data row0 col1\" >1.2201</td>\n",
       "      <td id=\"T_1e902_row0_col2\" class=\"data row0 col2\" >14.2916</td>\n",
       "      <td id=\"T_1e902_row0_col3\" class=\"data row0 col3\" >0</td>\n",
       "      <td id=\"T_1e902_row0_col4\" class=\"data row0 col4\" >0</td>\n",
       "      <td id=\"T_1e902_row0_col5\" class=\"data row0 col5\" >0</td>\n",
       "    </tr>\n",
       "  </tbody>\n",
       "</table>\n"
      ],
      "text/plain": [
       "<pandas.io.formats.style.Styler at 0x1c45a038850>"
      ]
     },
     "metadata": {},
     "output_type": "display_data"
    },
    {
     "data": {
      "text/html": [],
      "text/plain": [
       "<IPython.core.display.HTML object>"
      ]
     },
     "metadata": {},
     "output_type": "display_data"
    }
   ],
   "source": [
    "# train kmeans model\n",
    "modelo = create_model('kmeans')"
   ]
  },
  {
   "cell_type": "code",
   "execution_count": 157,
   "id": "9b09a190",
   "metadata": {
    "scrolled": false
   },
   "outputs": [
    {
     "data": {
      "text/html": [
       "<div>\n",
       "<style scoped>\n",
       "    .dataframe tbody tr th:only-of-type {\n",
       "        vertical-align: middle;\n",
       "    }\n",
       "\n",
       "    .dataframe tbody tr th {\n",
       "        vertical-align: top;\n",
       "    }\n",
       "\n",
       "    .dataframe thead th {\n",
       "        text-align: right;\n",
       "    }\n",
       "</style>\n",
       "<table border=\"1\" class=\"dataframe\">\n",
       "  <thead>\n",
       "    <tr style=\"text-align: right;\">\n",
       "      <th></th>\n",
       "      <th>Nome Município</th>\n",
       "      <th>Porcentagem de Casos</th>\n",
       "      <th>Cluster</th>\n",
       "    </tr>\n",
       "  </thead>\n",
       "  <tbody>\n",
       "    <tr>\n",
       "      <th>0</th>\n",
       "      <td>Abaíra</td>\n",
       "      <td>0.021741</td>\n",
       "      <td>Cluster 0</td>\n",
       "    </tr>\n",
       "    <tr>\n",
       "      <th>1</th>\n",
       "      <td>Abaré</td>\n",
       "      <td>0.014860</td>\n",
       "      <td>Cluster 0</td>\n",
       "    </tr>\n",
       "    <tr>\n",
       "      <th>2</th>\n",
       "      <td>Acajutiba</td>\n",
       "      <td>0.057226</td>\n",
       "      <td>Cluster 2</td>\n",
       "    </tr>\n",
       "    <tr>\n",
       "      <th>3</th>\n",
       "      <td>Adustina</td>\n",
       "      <td>0.086460</td>\n",
       "      <td>Cluster 2</td>\n",
       "    </tr>\n",
       "    <tr>\n",
       "      <th>4</th>\n",
       "      <td>Água Fria</td>\n",
       "      <td>0.051405</td>\n",
       "      <td>Cluster 1</td>\n",
       "    </tr>\n",
       "    <tr>\n",
       "      <th>...</th>\n",
       "      <td>...</td>\n",
       "      <td>...</td>\n",
       "      <td>...</td>\n",
       "    </tr>\n",
       "    <tr>\n",
       "      <th>412</th>\n",
       "      <td>Vitória da Conquista</td>\n",
       "      <td>0.514743</td>\n",
       "      <td>Cluster 3</td>\n",
       "    </tr>\n",
       "    <tr>\n",
       "      <th>413</th>\n",
       "      <td>Wagner</td>\n",
       "      <td>0.051266</td>\n",
       "      <td>Cluster 1</td>\n",
       "    </tr>\n",
       "    <tr>\n",
       "      <th>414</th>\n",
       "      <td>Wanderley</td>\n",
       "      <td>0.085041</td>\n",
       "      <td>Cluster 2</td>\n",
       "    </tr>\n",
       "    <tr>\n",
       "      <th>415</th>\n",
       "      <td>Wenceslau Guimarães</td>\n",
       "      <td>0.102839</td>\n",
       "      <td>Cluster 2</td>\n",
       "    </tr>\n",
       "    <tr>\n",
       "      <th>416</th>\n",
       "      <td>Xique-Xique</td>\n",
       "      <td>0.037217</td>\n",
       "      <td>Cluster 1</td>\n",
       "    </tr>\n",
       "  </tbody>\n",
       "</table>\n",
       "<p>417 rows × 3 columns</p>\n",
       "</div>"
      ],
      "text/plain": [
       "           Nome Município  Porcentagem de Casos    Cluster\n",
       "0                  Abaíra              0.021741  Cluster 0\n",
       "1                   Abaré              0.014860  Cluster 0\n",
       "2               Acajutiba              0.057226  Cluster 2\n",
       "3                Adustina              0.086460  Cluster 2\n",
       "4               Água Fria              0.051405  Cluster 1\n",
       "..                    ...                   ...        ...\n",
       "412  Vitória da Conquista              0.514743  Cluster 3\n",
       "413                Wagner              0.051266  Cluster 1\n",
       "414             Wanderley              0.085041  Cluster 2\n",
       "415   Wenceslau Guimarães              0.102839  Cluster 2\n",
       "416           Xique-Xique              0.037217  Cluster 1\n",
       "\n",
       "[417 rows x 3 columns]"
      ]
     },
     "execution_count": 157,
     "metadata": {},
     "output_type": "execute_result"
    }
   ],
   "source": [
    "cluster = assign_model(modelo)\n",
    "cluster"
   ]
  },
  {
   "cell_type": "code",
   "execution_count": 158,
   "id": "0d4225f4",
   "metadata": {
    "scrolled": false
   },
   "outputs": [
    {
     "data": {
      "text/html": [],
      "text/plain": [
       "<IPython.core.display.HTML object>"
      ]
     },
     "metadata": {},
     "output_type": "display_data"
    },
    {
     "data": {
      "application/vnd.plotly.v1+json": {
       "config": {
        "plotlyServerURL": "https://plot.ly"
       },
       "data": [
        {
         "alignmentgroup": "True",
         "bingroup": "x",
         "hovertemplate": "Cluster=Cluster 0<br>Porcentagem de Casos=%{x}<br>count=%{y}<extra></extra>",
         "legendgroup": "Cluster 0",
         "marker": {
          "color": "#636efa",
          "opacity": 0.7,
          "pattern": {
           "shape": ""
          }
         },
         "name": "Cluster 0",
         "offsetgroup": "Cluster 0",
         "orientation": "v",
         "showlegend": true,
         "type": "histogram",
         "x": [
          0.021741495,
          0.0086318515,
          0.008784387,
          0.013473717,
          0.022346368,
          0,
          0.023944449,
          0.016911888,
          0.017254766,
          0.02226056,
          0,
          0,
          0,
          0.019078247,
          0.022063691,
          0,
          0,
          0.011550011,
          0.011296882,
          0.008974244,
          0.009100009,
          0.009851246,
          0,
          0,
          0.026571011,
          0.027458949,
          0.0054743527,
          0.019585898,
          0.018296588,
          0.007163837,
          0.025108805,
          0.02258356,
          0.018424124,
          0,
          0.021415569,
          0.012773227,
          0.02349624,
          0.014579385,
          0.026851764,
          0.024116725,
          0.013588803,
          0.02701451,
          0.022084806,
          0.007210672,
          0.016886188,
          0.011842027,
          0.016266335,
          0.017838031,
          0.013881498,
          0.0062386924,
          0.023637868,
          0,
          0.015867978,
          0.011102476,
          0.020828994,
          0.018319212,
          0.023132084,
          0.016836435,
          0.0039225686,
          0.01209775,
          0.022608358,
          0.018162005,
          0.02217,
          0.02373183,
          0.007292882,
          0,
          0.005110123,
          0.018409425,
          0.014008872,
          0.0065715974,
          0.020032052,
          0.010912266,
          0.022719527,
          0.007264802,
          0,
          0.013963555,
          0.016698208,
          0.02087247,
          0,
          0.017089635,
          0.00826993,
          0.0055915904,
          0.014685007,
          0,
          0.017725782,
          0.017099863,
          0.0062359693,
          0.019033117,
          0.009615385,
          0.02473207,
          0.005122426,
          0.022766726,
          0.010356255,
          0.014859577,
          0.009180208,
          0.015064779,
          0.0091124475,
          0,
          0.021251727,
          0.019210188,
          0.017806267,
          0.009175995,
          0.008710043,
          0.005761696,
          0.01715781,
          0.023349483,
          0.0067750677,
          0.021333333
         ],
         "xaxis": "x",
         "yaxis": "y"
        },
        {
         "alignmentgroup": "True",
         "customdata": [
          [
           "Abaíra",
           "Cluster 0"
          ],
          [
           "Milagres",
           "Cluster 0"
          ],
          [
           "Conceição do Coité",
           "Cluster 0"
          ],
          [
           "Monte Santo",
           "Cluster 0"
          ],
          [
           "Morpará",
           "Cluster 0"
          ],
          [
           "Cocos",
           "Cluster 0"
          ],
          [
           "Mortugaba",
           "Cluster 0"
          ],
          [
           "Cipó",
           "Cluster 0"
          ],
          [
           "Chorrochó",
           "Cluster 0"
          ],
          [
           "Central",
           "Cluster 0"
          ],
          [
           "Caturama",
           "Cluster 0"
          ],
          [
           "Mundo Novo",
           "Cluster 0"
          ],
          [
           "Catolândia",
           "Cluster 0"
          ],
          [
           "Casa Nova",
           "Cluster 0"
          ],
          [
           "Nordestina",
           "Cluster 0"
          ],
          [
           "Novo Horizonte",
           "Cluster 0"
          ],
          [
           "Novo Triunfo",
           "Cluster 0"
          ],
          [
           "Canudos",
           "Cluster 0"
          ],
          [
           "Ibirapuã",
           "Cluster 0"
          ],
          [
           "Paramirim",
           "Cluster 0"
          ],
          [
           "Paratinga",
           "Cluster 0"
          ],
          [
           "Canápolis",
           "Cluster 0"
          ],
          [
           "Campo Alegre de Lourdes",
           "Cluster 0"
          ],
          [
           "Pé de Serra",
           "Cluster 0"
          ],
          [
           "Pedrão",
           "Cluster 0"
          ],
          [
           "Pedro Alexandre",
           "Cluster 0"
          ],
          [
           "Piatã",
           "Cluster 0"
          ],
          [
           "Pilão Arcado",
           "Cluster 0"
          ],
          [
           "Marcionílio Souza",
           "Cluster 0"
          ],
          [
           "Mansidão",
           "Cluster 0"
          ],
          [
           "Coração de Maria",
           "Cluster 0"
          ],
          [
           "Malhada de Pedras",
           "Cluster 0"
          ],
          [
           "Igaporã",
           "Cluster 0"
          ],
          [
           "Ibipitanga",
           "Cluster 0"
          ],
          [
           "Ibipeba",
           "Cluster 0"
          ],
          [
           "Ipirá",
           "Cluster 0"
          ],
          [
           "Iraquara",
           "Cluster 0"
          ],
          [
           "Heliópolis",
           "Cluster 0"
          ],
          [
           "Irecê",
           "Cluster 0"
          ],
          [
           "Itaeté",
           "Cluster 0"
          ],
          [
           "Itaguaçu da Bahia",
           "Cluster 0"
          ],
          [
           "Formosa do Rio Preto",
           "Cluster 0"
          ],
          [
           "Jaborandi",
           "Cluster 0"
          ],
          [
           "Jeremoabo",
           "Cluster 0"
          ],
          [
           "Feira da Mata",
           "Cluster 0"
          ],
          [
           "Pindaí",
           "Cluster 0"
          ],
          [
           "Fátima",
           "Cluster 0"
          ],
          [
           "Érico Cardoso",
           "Cluster 0"
          ],
          [
           "Entre Rios",
           "Cluster 0"
          ],
          [
           "Lagoa Real",
           "Cluster 0"
          ],
          [
           "Elísio Medrado",
           "Cluster 0"
          ],
          [
           "Lajedinho",
           "Cluster 0"
          ],
          [
           "Dom Basílio",
           "Cluster 0"
          ],
          [
           "Lamarão",
           "Cluster 0"
          ],
          [
           "Cristópolis",
           "Cluster 0"
          ],
          [
           "Crisópolis",
           "Cluster 0"
          ],
          [
           "Licínio de Almeida",
           "Cluster 0"
          ],
          [
           "Macajuba",
           "Cluster 0"
          ],
          [
           "Macaúbas",
           "Cluster 0"
          ],
          [
           "Macururé",
           "Cluster 0"
          ],
          [
           "Euclides da Cunha",
           "Cluster 0"
          ],
          [
           "Pintadas",
           "Cluster 0"
          ],
          [
           "Palmas de Monte Alto",
           "Cluster 0"
          ],
          [
           "Ibitiara",
           "Cluster 0"
          ],
          [
           "Rio de Contas",
           "Cluster 0"
          ],
          [
           "Rio do Antônio",
           "Cluster 0"
          ],
          [
           "Antas",
           "Cluster 0"
          ],
          [
           "Barrocas",
           "Cluster 0"
          ],
          [
           "Santa Bárbara",
           "Cluster 0"
          ],
          [
           "Barro Alto",
           "Cluster 0"
          ],
          [
           "Santa Brígida",
           "Cluster 0"
          ],
          [
           "Santana",
           "Cluster 0"
          ],
          [
           "Amélia Rodrigues",
           "Cluster 0"
          ],
          [
           "Banzaê",
           "Cluster 0"
          ],
          [
           "Baixa Grande",
           "Cluster 0"
          ],
          [
           "Baianópolis",
           "Cluster 0"
          ],
          [
           "Santo Estêvão",
           "Cluster 0"
          ],
          [
           "Planaltino",
           "Cluster 0"
          ],
          [
           "São Gabriel",
           "Cluster 0"
          ],
          [
           "Aramari",
           "Cluster 0"
          ],
          [
           "São Miguel das Matas",
           "Cluster 0"
          ],
          [
           "Tanque Novo",
           "Cluster 0"
          ],
          [
           "Sátiro Dias",
           "Cluster 0"
          ],
          [
           "Tabocas do Brejo Velho",
           "Cluster 0"
          ],
          [
           "Sítio do Quinto",
           "Cluster 0"
          ],
          [
           "Sebastião Laranjeiras",
           "Cluster 0"
          ],
          [
           "Serra Preta",
           "Cluster 0"
          ],
          [
           "Tucano",
           "Cluster 0"
          ],
          [
           "Ubaíra",
           "Cluster 0"
          ],
          [
           "Rio do Pires",
           "Cluster 0"
          ],
          [
           "Umburanas",
           "Cluster 0"
          ],
          [
           "Cachoeira",
           "Cluster 0"
          ],
          [
           "Cabaceiras do Paraguaçu",
           "Cluster 0"
          ],
          [
           "Abaré",
           "Cluster 0"
          ],
          [
           "Buritirama",
           "Cluster 0"
          ],
          [
           "Queimadas",
           "Cluster 0"
          ],
          [
           "Brotas de Macaúbas",
           "Cluster 0"
          ],
          [
           "Brejolândia",
           "Cluster 0"
          ],
          [
           "Quixabeira",
           "Cluster 0"
          ],
          [
           "Riacho de Santana",
           "Cluster 0"
          ],
          [
           "Boquira",
           "Cluster 0"
          ],
          [
           "Botuporã",
           "Cluster 0"
          ],
          [
           "Anguera",
           "Cluster 0"
          ],
          [
           "Urandi",
           "Cluster 0"
          ],
          [
           "Riachão das Neves",
           "Cluster 0"
          ],
          [
           "Bonito",
           "Cluster 0"
          ],
          [
           "Boninal",
           "Cluster 0"
          ],
          [
           "Varzedo",
           "Cluster 0"
          ]
         ],
         "hovertemplate": "Cluster=%{customdata[1]}<br>Porcentagem de Casos=%{x}<br>Nome Município=%{customdata[0]}<extra></extra>",
         "legendgroup": "Cluster 0",
         "marker": {
          "color": "#636efa"
         },
         "name": "Cluster 0",
         "notched": true,
         "offsetgroup": "Cluster 0",
         "showlegend": false,
         "type": "box",
         "x": [
          0.021741495,
          0.0086318515,
          0.008784387,
          0.013473717,
          0.022346368,
          0,
          0.023944449,
          0.016911888,
          0.017254766,
          0.02226056,
          0,
          0,
          0,
          0.019078247,
          0.022063691,
          0,
          0,
          0.011550011,
          0.011296882,
          0.008974244,
          0.009100009,
          0.009851246,
          0,
          0,
          0.026571011,
          0.027458949,
          0.0054743527,
          0.019585898,
          0.018296588,
          0.007163837,
          0.025108805,
          0.02258356,
          0.018424124,
          0,
          0.021415569,
          0.012773227,
          0.02349624,
          0.014579385,
          0.026851764,
          0.024116725,
          0.013588803,
          0.02701451,
          0.022084806,
          0.007210672,
          0.016886188,
          0.011842027,
          0.016266335,
          0.017838031,
          0.013881498,
          0.0062386924,
          0.023637868,
          0,
          0.015867978,
          0.011102476,
          0.020828994,
          0.018319212,
          0.023132084,
          0.016836435,
          0.0039225686,
          0.01209775,
          0.022608358,
          0.018162005,
          0.02217,
          0.02373183,
          0.007292882,
          0,
          0.005110123,
          0.018409425,
          0.014008872,
          0.0065715974,
          0.020032052,
          0.010912266,
          0.022719527,
          0.007264802,
          0,
          0.013963555,
          0.016698208,
          0.02087247,
          0,
          0.017089635,
          0.00826993,
          0.0055915904,
          0.014685007,
          0,
          0.017725782,
          0.017099863,
          0.0062359693,
          0.019033117,
          0.009615385,
          0.02473207,
          0.005122426,
          0.022766726,
          0.010356255,
          0.014859577,
          0.009180208,
          0.015064779,
          0.0091124475,
          0,
          0.021251727,
          0.019210188,
          0.017806267,
          0.009175995,
          0.008710043,
          0.005761696,
          0.01715781,
          0.023349483,
          0.0067750677,
          0.021333333
         ],
         "xaxis": "x2",
         "yaxis": "y2"
        },
        {
         "alignmentgroup": "True",
         "bingroup": "x",
         "hovertemplate": "Cluster=Cluster 1<br>Porcentagem de Casos=%{x}<br>count=%{y}<extra></extra>",
         "legendgroup": "Cluster 1",
         "marker": {
          "color": "#EF553B",
          "opacity": 0.7,
          "pattern": {
           "shape": ""
          }
         },
         "name": "Cluster 1",
         "offsetgroup": "Cluster 1",
         "orientation": "v",
         "showlegend": true,
         "type": "histogram",
         "x": [
          0.031070374,
          0.036815155,
          0.04030633,
          0.03033367,
          0.044185467,
          0.045281067,
          0.04526935,
          0.043863498,
          0.04531722,
          0.030299969,
          0.02953628,
          0.03213606,
          0.033429164,
          0.032260146,
          0.05108035,
          0.051266275,
          0.050403226,
          0.03173218,
          0.031032918,
          0.050845303,
          0.037498124,
          0.031433363,
          0.036575228,
          0.032432433,
          0.04486317,
          0.035080027,
          0.04447942,
          0.035595633,
          0.031623736,
          0.03913384,
          0.039176,
          0.042940572,
          0.051803406,
          0.030129557,
          0.03744617,
          0.039040133,
          0.043182556,
          0.03203075,
          0.04196188,
          0.03209311,
          0.028933663,
          0.04297009,
          0.0283246,
          0.033760972,
          0.052297346,
          0.041695926,
          0.028304556,
          0.032678768,
          0.037216995,
          0.031433363,
          0.03722731,
          0.046291254,
          0.0510139,
          0.033589453,
          0.029169401,
          0.032341525,
          0.03818043,
          0.042959016,
          0.035811488,
          0.04017947,
          0.043462064,
          0.047651462,
          0.047588833,
          0.04496268,
          0.03216468,
          0.033802055,
          0.033134528,
          0.046973005,
          0.037489906,
          0.04975478,
          0.051405072,
          0.042277712,
          0.04092909,
          0.029460866,
          0.050224077,
          0.043703906
         ],
         "xaxis": "x",
         "yaxis": "y"
        },
        {
         "alignmentgroup": "True",
         "customdata": [
          [
           "Ichu",
           "Cluster 1"
          ],
          [
           "Irará",
           "Cluster 1"
          ],
          [
           "Jucuruçu",
           "Cluster 1"
          ],
          [
           "Utinga",
           "Cluster 1"
          ],
          [
           "Itapicuru",
           "Cluster 1"
          ],
          [
           "Jacaraci",
           "Cluster 1"
          ],
          [
           "Itiruçu",
           "Cluster 1"
          ],
          [
           "Iuiú",
           "Cluster 1"
          ],
          [
           "Vereda",
           "Cluster 1"
          ],
          [
           "Iramaia",
           "Cluster 1"
          ],
          [
           "Itarantim",
           "Cluster 1"
          ],
          [
           "Inhambupe",
           "Cluster 1"
          ],
          [
           "Itatim",
           "Cluster 1"
          ],
          [
           "Ipecaetá",
           "Cluster 1"
          ],
          [
           "Ituaçu",
           "Cluster 1"
          ],
          [
           "Wagner",
           "Cluster 1"
          ],
          [
           "Teodoro Sampaio",
           "Cluster 1"
          ],
          [
           "Piritiba",
           "Cluster 1"
          ],
          [
           "Sento Sé",
           "Cluster 1"
          ],
          [
           "Presidente Dutra",
           "Cluster 1"
          ],
          [
           "Presidente Jânio Quadros",
           "Cluster 1"
          ],
          [
           "Quijingue",
           "Cluster 1"
          ],
          [
           "Paripiranga",
           "Cluster 1"
          ],
          [
           "Palmeiras",
           "Cluster 1"
          ],
          [
           "Ouriçangas",
           "Cluster 1"
          ],
          [
           "Oliveira dos Brejinhos",
           "Cluster 1"
          ],
          [
           "Olindina",
           "Cluster 1"
          ],
          [
           "Nova Itarana",
           "Cluster 1"
          ],
          [
           "Riachão do Jacuípe",
           "Cluster 1"
          ],
          [
           "Mutuípe",
           "Cluster 1"
          ],
          [
           "Muritiba",
           "Cluster 1"
          ],
          [
           "Muquém de São Francisco",
           "Cluster 1"
          ],
          [
           "Ribeira do Amparo",
           "Cluster 1"
          ],
          [
           "Mucugê",
           "Cluster 1"
          ],
          [
           "Santa Teresinha",
           "Cluster 1"
          ],
          [
           "Santaluz",
           "Cluster 1"
          ],
          [
           "Santanópolis",
           "Cluster 1"
          ],
          [
           "Matina",
           "Cluster 1"
          ],
          [
           "Santo Amaro",
           "Cluster 1"
          ],
          [
           "Livramento de Nossa Senhora",
           "Cluster 1"
          ],
          [
           "São Gonçalo dos Campos",
           "Cluster 1"
          ],
          [
           "Lençóis",
           "Cluster 1"
          ],
          [
           "Lapão",
           "Cluster 1"
          ],
          [
           "Lajedo do Tabocal",
           "Cluster 1"
          ],
          [
           "Saúde",
           "Cluster 1"
          ],
          [
           "Seabra",
           "Cluster 1"
          ],
          [
           "Jussiape",
           "Cluster 1"
          ],
          [
           "São Desidério",
           "Cluster 1"
          ],
          [
           "Xique-Xique",
           "Cluster 1"
          ],
          [
           "Cardeal da Silva",
           "Cluster 1"
          ],
          [
           "Canarana",
           "Cluster 1"
          ],
          [
           "Campo Formoso",
           "Cluster 1"
          ],
          [
           "Caatiba",
           "Cluster 1"
          ],
          [
           "Caculé",
           "Cluster 1"
          ],
          [
           "Caldeirão Grande",
           "Cluster 1"
          ],
          [
           "Cruz das Almas",
           "Cluster 1"
          ],
          [
           "Aporá",
           "Cluster 1"
          ],
          [
           "Gentio do Ouro",
           "Cluster 1"
          ],
          [
           "Aracatu",
           "Cluster 1"
          ],
          [
           "Coribe",
           "Cluster 1"
          ],
          [
           "Caetanos",
           "Cluster 1"
          ],
          [
           "Angical",
           "Cluster 1"
          ],
          [
           "Araças",
           "Cluster 1"
          ],
          [
           "Correntina",
           "Cluster 1"
          ],
          [
           "Caetité",
           "Cluster 1"
          ],
          [
           "Candiba",
           "Cluster 1"
          ],
          [
           "Antônio Gonçalves",
           "Cluster 1"
          ],
          [
           "Cansanção",
           "Cluster 1"
          ],
          [
           "Cícero Dantas",
           "Cluster 1"
          ],
          [
           "Boa Nova",
           "Cluster 1"
          ],
          [
           "Água Fria",
           "Cluster 1"
          ],
          [
           "Esplanada",
           "Cluster 1"
          ],
          [
           "Caraíbas",
           "Cluster 1"
          ],
          [
           "Ibiassucê",
           "Cluster 1"
          ],
          [
           "Iaçu",
           "Cluster 1"
          ],
          [
           "Barra",
           "Cluster 1"
          ]
         ],
         "hovertemplate": "Cluster=%{customdata[1]}<br>Porcentagem de Casos=%{x}<br>Nome Município=%{customdata[0]}<extra></extra>",
         "legendgroup": "Cluster 1",
         "marker": {
          "color": "#EF553B"
         },
         "name": "Cluster 1",
         "notched": true,
         "offsetgroup": "Cluster 1",
         "showlegend": false,
         "type": "box",
         "x": [
          0.031070374,
          0.036815155,
          0.04030633,
          0.03033367,
          0.044185467,
          0.045281067,
          0.04526935,
          0.043863498,
          0.04531722,
          0.030299969,
          0.02953628,
          0.03213606,
          0.033429164,
          0.032260146,
          0.05108035,
          0.051266275,
          0.050403226,
          0.03173218,
          0.031032918,
          0.050845303,
          0.037498124,
          0.031433363,
          0.036575228,
          0.032432433,
          0.04486317,
          0.035080027,
          0.04447942,
          0.035595633,
          0.031623736,
          0.03913384,
          0.039176,
          0.042940572,
          0.051803406,
          0.030129557,
          0.03744617,
          0.039040133,
          0.043182556,
          0.03203075,
          0.04196188,
          0.03209311,
          0.028933663,
          0.04297009,
          0.0283246,
          0.033760972,
          0.052297346,
          0.041695926,
          0.028304556,
          0.032678768,
          0.037216995,
          0.031433363,
          0.03722731,
          0.046291254,
          0.0510139,
          0.033589453,
          0.029169401,
          0.032341525,
          0.03818043,
          0.042959016,
          0.035811488,
          0.04017947,
          0.043462064,
          0.047651462,
          0.047588833,
          0.04496268,
          0.03216468,
          0.033802055,
          0.033134528,
          0.046973005,
          0.037489906,
          0.04975478,
          0.051405072,
          0.042277712,
          0.04092909,
          0.029460866,
          0.050224077,
          0.043703906
         ],
         "xaxis": "x2",
         "yaxis": "y2"
        },
        {
         "alignmentgroup": "True",
         "bingroup": "x",
         "hovertemplate": "Cluster=Cluster 2<br>Porcentagem de Casos=%{x}<br>count=%{y}<extra></extra>",
         "legendgroup": "Cluster 2",
         "marker": {
          "color": "#00cc96",
          "opacity": 0.7,
          "pattern": {
           "shape": ""
          }
         },
         "name": "Cluster 2",
         "offsetgroup": "Cluster 2",
         "orientation": "v",
         "showlegend": true,
         "type": "histogram",
         "x": [
          0.114536606,
          0.05925575,
          0.083548106,
          0.11903188,
          0.10255358,
          0.12002527,
          0.05431093,
          0.11248594,
          0.100063674,
          0.103268996,
          0.084395304,
          0.07953867,
          0.10439866,
          0.075841546,
          0.11085109,
          0.071571715,
          0.15789473,
          0.13747054,
          0.08853173,
          0.12423547,
          0.057908252,
          0.14755307,
          0.056580286,
          0.14995112,
          0.10370047,
          0.13169447,
          0.09996843,
          0.12753294,
          0.09605225,
          0.054044317,
          0.14620979,
          0.13700882,
          0.055716515,
          0.13822435,
          0.08444757,
          0.11753884,
          0.06523157,
          0.072849534,
          0.12501489,
          0.068440415,
          0.12559101,
          0.073446326,
          0.10716433,
          0.062080473,
          0.08297135,
          0.14167908,
          0.13817881,
          0.060905635,
          0.15660265,
          0.12759623,
          0.12176878,
          0.08866458,
          0.086460315,
          0.057226427,
          0.085040584,
          0.08007571,
          0.06855968,
          0.05482225,
          0.09683667,
          0.12184073,
          0.095984645,
          0.07167816,
          0.111690246,
          0.1406711,
          0.09615385,
          0.076985784,
          0.11515163,
          0.076327555,
          0.06380264,
          0.13407715,
          0.059187762,
          0.1457851,
          0.13408421,
          0.08345697,
          0.0662471,
          0.05733945,
          0.057591464,
          0.0709607,
          0.12155787,
          0.108444184,
          0.059537098,
          0.14369693,
          0.08858244,
          0.1553398,
          0.1438849,
          0.09304489,
          0.0874672,
          0.0754717,
          0.102715544,
          0.05759895,
          0.08333965,
          0.113078065,
          0.14849648,
          0.08147114,
          0.05837799,
          0.05380201,
          0.09019009,
          0.058680147,
          0.053184416,
          0.14445776,
          0.078789786,
          0.07281875,
          0.082586125,
          0.12777172,
          0.1354035,
          0.054369986,
          0.085881144,
          0.1280857,
          0.13152388,
          0.10283926,
          0.07246587,
          0.06829166,
          0.06512112,
          0.12682585,
          0.13994291,
          0.13170089,
          0.059435364,
          0.15426861,
          0.09845427,
          0.06542167,
          0.064744964,
          0.11220826,
          0.1133566,
          0.0667334,
          0.06514941,
          0.14802283,
          0.07308415,
          0.09610764,
          0.10036604,
          0.094476745,
          0.06442607,
          0.080925405,
          0.110581204,
          0.10121457,
          0.07581118,
          0.08914747,
          0.079982705,
          0.07468767,
          0.1572327,
          0.058399845,
          0.10154862,
          0.0684697,
          0.070170514,
          0.056818184,
          0.06978367
         ],
         "xaxis": "x",
         "yaxis": "y"
        },
        {
         "alignmentgroup": "True",
         "customdata": [
          [
           "Bom Jesus da Serra",
           "Cluster 2"
          ],
          [
           "Potiraguá",
           "Cluster 2"
          ],
          [
           "Bom Jesus da Lapa",
           "Cluster 2"
          ],
          [
           "Brejões",
           "Cluster 2"
          ],
          [
           "Boa Vista do Tupim",
           "Cluster 2"
          ],
          [
           "Ponto Novo",
           "Cluster 2"
          ],
          [
           "Retirolândia",
           "Cluster 2"
          ],
          [
           "Remanso",
           "Cluster 2"
          ],
          [
           "Ribeira do Pombal",
           "Cluster 2"
          ],
          [
           "Presidente Tancredo Neves",
           "Cluster 2"
          ],
          [
           "Piripá",
           "Cluster 2"
          ],
          [
           "Caém",
           "Cluster 2"
          ],
          [
           "Nilo Peçanha",
           "Cluster 2"
          ],
          [
           "Nova Canaã",
           "Cluster 2"
          ],
          [
           "Nova Fátima",
           "Cluster 2"
          ],
          [
           "Nova Ibiá",
           "Cluster 2"
          ],
          [
           "Nova Redenção",
           "Cluster 2"
          ],
          [
           "Nova Soure",
           "Cluster 2"
          ],
          [
           "Nova Viçosa",
           "Cluster 2"
          ],
          [
           "Capim Grosso",
           "Cluster 2"
          ],
          [
           "Pojuca",
           "Cluster 2"
          ],
          [
           "Capela do Alto Alegre",
           "Cluster 2"
          ],
          [
           "Candeal",
           "Cluster 2"
          ],
          [
           "Paulo Afonso",
           "Cluster 2"
          ],
          [
           "Camamu",
           "Cluster 2"
          ],
          [
           "Cairu",
           "Cluster 2"
          ],
          [
           "Cafarnaum",
           "Cluster 2"
          ],
          [
           "Pindobaçu",
           "Cluster 2"
          ],
          [
           "Piraí do Norte",
           "Cluster 2"
          ],
          [
           "Biritinga",
           "Cluster 2"
          ],
          [
           "Cândido Sales",
           "Cluster 2"
          ],
          [
           "Belo Campo",
           "Cluster 2"
          ],
          [
           "Ibititá",
           "Cluster 2"
          ],
          [
           "Rodelas",
           "Cluster 2"
          ],
          [
           "Tanhaçu",
           "Cluster 2"
          ],
          [
           "Anagé",
           "Cluster 2"
          ],
          [
           "Taperoá",
           "Cluster 2"
          ],
          [
           "Tapiramutá",
           "Cluster 2"
          ],
          [
           "América Dourada",
           "Cluster 2"
          ],
          [
           "Teofilândia",
           "Cluster 2"
          ],
          [
           "Terra Nova",
           "Cluster 2"
          ],
          [
           "Tremedal",
           "Cluster 2"
          ],
          [
           "Amargosa",
           "Cluster 2"
          ],
          [
           "Uauá",
           "Cluster 2"
          ],
          [
           "Ubaitaba",
           "Cluster 2"
          ],
          [
           "Ubatã",
           "Cluster 2"
          ],
          [
           "Uibaí",
           "Cluster 2"
          ],
          [
           "Alagoinhas",
           "Cluster 2"
          ],
          [
           "Uruçuca",
           "Cluster 2"
          ],
          [
           "Valença",
           "Cluster 2"
          ],
          [
           "Valente",
           "Cluster 2"
          ],
          [
           "Várzea da Roça",
           "Cluster 2"
          ],
          [
           "Adustina",
           "Cluster 2"
          ],
          [
           "Acajutiba",
           "Cluster 2"
          ],
          [
           "Wanderley",
           "Cluster 2"
          ],
          [
           "Andaraí",
           "Cluster 2"
          ],
          [
           "Souto Soares",
           "Cluster 2"
          ],
          [
           "Sobradinho",
           "Cluster 2"
          ],
          [
           "Andorinha",
           "Cluster 2"
          ],
          [
           "Ruy Barbosa",
           "Cluster 2"
          ],
          [
           "Barro Preto",
           "Cluster 2"
          ],
          [
           "Santa Inês",
           "Cluster 2"
          ],
          [
           "Nazaré",
           "Cluster 2"
          ],
          [
           "Santa Rita de Cássia",
           "Cluster 2"
          ],
          [
           "Barra do Mendes",
           "Cluster 2"
          ],
          [
           "Barra da Estiva",
           "Cluster 2"
          ],
          [
           "Santo Antônio de Jesus",
           "Cluster 2"
          ],
          [
           "Aratuípe",
           "Cluster 2"
          ],
          [
           "São Domingos",
           "Cluster 2"
          ],
          [
           "Rio Real",
           "Cluster 2"
          ],
          [
           "São Felipe",
           "Cluster 2"
          ],
          [
           "Arataca",
           "Cluster 2"
          ],
          [
           "Araci",
           "Cluster 2"
          ],
          [
           "São José do Jacuípe",
           "Cluster 2"
          ],
          [
           "Sapeaçu",
           "Cluster 2"
          ],
          [
           "Antônio Cardoso",
           "Cluster 2"
          ],
          [
           "Serra do Ramalho",
           "Cluster 2"
          ],
          [
           "Serra Dourada",
           "Cluster 2"
          ],
          [
           "Serrinha",
           "Cluster 2"
          ],
          [
           "Serrolândia",
           "Cluster 2"
          ],
          [
           "Sítio do Mato",
           "Cluster 2"
          ],
          [
           "São Félix",
           "Cluster 2"
          ],
          [
           "Santa Maria da Vitória",
           "Cluster 2"
          ],
          [
           "Ourolândia",
           "Cluster 2"
          ],
          [
           "Jandaíra",
           "Cluster 2"
          ],
          [
           "Governador Mangabeira",
           "Cluster 2"
          ],
          [
           "Jussara",
           "Cluster 2"
          ],
          [
           "Lafaiete Coutinho",
           "Cluster 2"
          ],
          [
           "Itagibá",
           "Cluster 2"
          ],
          [
           "Laje",
           "Cluster 2"
          ],
          [
           "Itagi",
           "Cluster 2"
          ],
          [
           "João Dourado",
           "Cluster 2"
          ],
          [
           "Guajeru",
           "Cluster 2"
          ],
          [
           "Itaquara",
           "Cluster 2"
          ],
          [
           "Itaberaba",
           "Cluster 2"
          ],
          [
           "Cravolândia",
           "Cluster 2"
          ],
          [
           "Cotegipe",
           "Cluster 2"
          ],
          [
           "Guaratinga",
           "Cluster 2"
          ],
          [
           "Irajuba",
           "Cluster 2"
          ],
          [
           "Itacaré",
           "Cluster 2"
          ],
          [
           "Jitaúna",
           "Cluster 2"
          ],
          [
           "Jiquiriçá",
           "Cluster 2"
          ],
          [
           "Itamari",
           "Cluster 2"
          ],
          [
           "Itiúba",
           "Cluster 2"
          ],
          [
           "Gandu",
           "Cluster 2"
          ],
          [
           "Ituberá",
           "Cluster 2"
          ],
          [
           "Firmino Alves",
           "Cluster 2"
          ],
          [
           "Filadélfia",
           "Cluster 2"
          ],
          [
           "Jacobina",
           "Cluster 2"
          ],
          [
           "Wenceslau Guimarães",
           "Cluster 2"
          ],
          [
           "Jaguarari",
           "Cluster 2"
          ],
          [
           "Jaguaripe",
           "Cluster 2"
          ],
          [
           "Muniz Ferreira",
           "Cluster 2"
          ],
          [
           "Itaparica",
           "Cluster 2"
          ],
          [
           "Jequié",
           "Cluster 2"
          ],
          [
           "Itanhém",
           "Cluster 2"
          ],
          [
           "Itanagra",
           "Cluster 2"
          ],
          [
           "Feira de Santana",
           "Cluster 2"
          ],
          [
           "Ipupiara",
           "Cluster 2"
          ],
          [
           "Coronel João Sá",
           "Cluster 2"
          ],
          [
           "Curaçá",
           "Cluster 2"
          ],
          [
           "Maetinga",
           "Cluster 2"
          ],
          [
           "Catu",
           "Cluster 2"
          ],
          [
           "Mulungu do Morro",
           "Cluster 2"
          ],
          [
           "Conceição da Feira",
           "Cluster 2"
          ],
          [
           "Igrapiúna",
           "Cluster 2"
          ],
          [
           "Mirante",
           "Cluster 2"
          ],
          [
           "Mirangaba",
           "Cluster 2"
          ],
          [
           "Conceição do Jacuípe",
           "Cluster 2"
          ],
          [
           "Miguel Calmon",
           "Cluster 2"
          ],
          [
           "Iguaí",
           "Cluster 2"
          ],
          [
           "Madre de Deus",
           "Cluster 2"
          ],
          [
           "Ilhéus",
           "Cluster 2"
          ],
          [
           "Ibicuí",
           "Cluster 2"
          ],
          [
           "Ibicoara",
           "Cluster 2"
          ],
          [
           "Maraú",
           "Cluster 2"
          ],
          [
           "Maragogipe",
           "Cluster 2"
          ],
          [
           "Mascote",
           "Cluster 2"
          ],
          [
           "Cordeiros",
           "Cluster 2"
          ],
          [
           "Maiquinique",
           "Cluster 2"
          ],
          [
           "Mairi",
           "Cluster 2"
          ],
          [
           "Malhada",
           "Cluster 2"
          ],
          [
           "Manoel Vitorino",
           "Cluster 2"
          ],
          [
           "Glória",
           "Cluster 2"
          ],
          [
           "Contendas do Sincorá",
           "Cluster 2"
          ]
         ],
         "hovertemplate": "Cluster=%{customdata[1]}<br>Porcentagem de Casos=%{x}<br>Nome Município=%{customdata[0]}<extra></extra>",
         "legendgroup": "Cluster 2",
         "marker": {
          "color": "#00cc96"
         },
         "name": "Cluster 2",
         "notched": true,
         "offsetgroup": "Cluster 2",
         "showlegend": false,
         "type": "box",
         "x": [
          0.114536606,
          0.05925575,
          0.083548106,
          0.11903188,
          0.10255358,
          0.12002527,
          0.05431093,
          0.11248594,
          0.100063674,
          0.103268996,
          0.084395304,
          0.07953867,
          0.10439866,
          0.075841546,
          0.11085109,
          0.071571715,
          0.15789473,
          0.13747054,
          0.08853173,
          0.12423547,
          0.057908252,
          0.14755307,
          0.056580286,
          0.14995112,
          0.10370047,
          0.13169447,
          0.09996843,
          0.12753294,
          0.09605225,
          0.054044317,
          0.14620979,
          0.13700882,
          0.055716515,
          0.13822435,
          0.08444757,
          0.11753884,
          0.06523157,
          0.072849534,
          0.12501489,
          0.068440415,
          0.12559101,
          0.073446326,
          0.10716433,
          0.062080473,
          0.08297135,
          0.14167908,
          0.13817881,
          0.060905635,
          0.15660265,
          0.12759623,
          0.12176878,
          0.08866458,
          0.086460315,
          0.057226427,
          0.085040584,
          0.08007571,
          0.06855968,
          0.05482225,
          0.09683667,
          0.12184073,
          0.095984645,
          0.07167816,
          0.111690246,
          0.1406711,
          0.09615385,
          0.076985784,
          0.11515163,
          0.076327555,
          0.06380264,
          0.13407715,
          0.059187762,
          0.1457851,
          0.13408421,
          0.08345697,
          0.0662471,
          0.05733945,
          0.057591464,
          0.0709607,
          0.12155787,
          0.108444184,
          0.059537098,
          0.14369693,
          0.08858244,
          0.1553398,
          0.1438849,
          0.09304489,
          0.0874672,
          0.0754717,
          0.102715544,
          0.05759895,
          0.08333965,
          0.113078065,
          0.14849648,
          0.08147114,
          0.05837799,
          0.05380201,
          0.09019009,
          0.058680147,
          0.053184416,
          0.14445776,
          0.078789786,
          0.07281875,
          0.082586125,
          0.12777172,
          0.1354035,
          0.054369986,
          0.085881144,
          0.1280857,
          0.13152388,
          0.10283926,
          0.07246587,
          0.06829166,
          0.06512112,
          0.12682585,
          0.13994291,
          0.13170089,
          0.059435364,
          0.15426861,
          0.09845427,
          0.06542167,
          0.064744964,
          0.11220826,
          0.1133566,
          0.0667334,
          0.06514941,
          0.14802283,
          0.07308415,
          0.09610764,
          0.10036604,
          0.094476745,
          0.06442607,
          0.080925405,
          0.110581204,
          0.10121457,
          0.07581118,
          0.08914747,
          0.079982705,
          0.07468767,
          0.1572327,
          0.058399845,
          0.10154862,
          0.0684697,
          0.070170514,
          0.056818184,
          0.06978367
         ],
         "xaxis": "x2",
         "yaxis": "y2"
        },
        {
         "alignmentgroup": "True",
         "bingroup": "x",
         "hovertemplate": "Cluster=Cluster 3<br>Porcentagem de Casos=%{x}<br>count=%{y}<extra></extra>",
         "legendgroup": "Cluster 3",
         "marker": {
          "color": "#ab63fa",
          "opacity": 0.7,
          "pattern": {
           "shape": ""
          }
         },
         "name": "Cluster 3",
         "offsetgroup": "Cluster 3",
         "orientation": "v",
         "showlegend": true,
         "type": "histogram",
         "x": [
          0.24937657,
          0.40744513,
          0.27995118,
          0.19386107,
          0.3751617,
          0.4841998,
          0.28596878,
          0.31746033,
          0.9067107,
          0.24698474,
          0.17114432,
          0.51474255,
          0.23730423,
          0.22456463,
          0.2677747,
          0.335707,
          0.50747496,
          0.51751226,
          0.2434824,
          0.35078713,
          0.43475112,
          0.18232727,
          0.27625483,
          0.25396827,
          0.25137818,
          0.5742741,
          0.24528022,
          0.50961715,
          0.6810515,
          0.18221575,
          0.30757535,
          0.16933009,
          0.4003857,
          0.16521037,
          0.16931216,
          0.17731705,
          0.53373873,
          0.1771246,
          0.16372976,
          0.16347761,
          0.35583463,
          0.47433203,
          0.36578834,
          0.24328786,
          1.0681158,
          0.24543966,
          0.16491672,
          0.22517753,
          0.36002555,
          0.16170901,
          0.18581016,
          0.20775037,
          0.21943058,
          0.37714347,
          0.34696668,
          0.19788918,
          0.28760222,
          0.2656219,
          0.2018863,
          0.23045409,
          0.24407977,
          0.17939922,
          0.7940447,
          0.16948354,
          0.22128294,
          0.2022117,
          0.32017076,
          0.3384228,
          0.2666979,
          0.31959093,
          0.17913121,
          0.2538071,
          0.6304287,
          0.22694045,
          0.24359609,
          0.2028912,
          0.6204972,
          0.16593544,
          0.32353196,
          0.28237194,
          0.30278885,
          0.17547481,
          0.27040315,
          0.33238366,
          0.26737967,
          0.28763777,
          0.43635955,
          0.19274355
         ],
         "xaxis": "x",
         "yaxis": "y"
        },
        {
         "alignmentgroup": "True",
         "customdata": [
          [
           "Itaju do Colônia",
           "Cluster 3"
          ],
          [
           "Itapitanga",
           "Cluster 3"
          ],
          [
           "Ibotirama",
           "Cluster 3"
          ],
          [
           "Saubara",
           "Cluster 3"
          ],
          [
           "Apuarema",
           "Cluster 3"
          ],
          [
           "Gongogi",
           "Cluster 3"
          ],
          [
           "Una",
           "Cluster 3"
          ],
          [
           "Almadina",
           "Cluster 3"
          ],
          [
           "Itapetinga",
           "Cluster 3"
          ],
          [
           "Ibirapitanga",
           "Cluster 3"
          ],
          [
           "Senhor do Bonfim",
           "Cluster 3"
          ],
          [
           "Vitória da Conquista",
           "Cluster 3"
          ],
          [
           "Ibiquera",
           "Cluster 3"
          ],
          [
           "Vera Cruz",
           "Cluster 3"
          ],
          [
           "Itapebi",
           "Cluster 3"
          ],
          [
           "Itapé",
           "Cluster 3"
          ],
          [
           "Itagimirim",
           "Cluster 3"
          ],
          [
           "Itajuípe",
           "Cluster 3"
          ],
          [
           "Itamaraju",
           "Cluster 3"
          ],
          [
           "Alcobaça",
           "Cluster 3"
          ],
          [
           "Itabuna",
           "Cluster 3"
          ],
          [
           "Teolândia",
           "Cluster 3"
          ],
          [
           "Ibicaraí",
           "Cluster 3"
          ],
          [
           "Aiquara",
           "Cluster 3"
          ],
          [
           "Simões Filho",
           "Cluster 3"
          ],
          [
           "Itambé",
           "Cluster 3"
          ],
          [
           "Várzea Nova",
           "Cluster 3"
          ],
          [
           "Teixeira de Freitas",
           "Cluster 3"
          ],
          [
           "Itabela",
           "Cluster 3"
          ],
          [
           "Tanquinho",
           "Cluster 3"
          ],
          [
           "Guanambi",
           "Cluster 3"
          ],
          [
           "Várzea do Poço",
           "Cluster 3"
          ],
          [
           "Ipiaú",
           "Cluster 3"
          ],
          [
           "Castro Alves",
           "Cluster 3"
          ],
          [
           "Gavião",
           "Cluster 3"
          ],
          [
           "Prado",
           "Cluster 3"
          ],
          [
           "Porto Seguro",
           "Cluster 3"
          ],
          [
           "Luís Eduardo Magalhães",
           "Cluster 3"
          ],
          [
           "Poções",
           "Cluster 3"
          ],
          [
           "Planalto",
           "Cluster 3"
          ],
          [
           "Macarani",
           "Cluster 3"
          ],
          [
           "Camacan",
           "Cluster 3"
          ],
          [
           "Camaçari",
           "Cluster 3"
          ],
          [
           "Maracás",
           "Cluster 3"
          ],
          [
           "Pau Brasil",
           "Cluster 3"
          ],
          [
           "Canavieiras",
           "Cluster 3"
          ],
          [
           "Condeúba",
           "Cluster 3"
          ],
          [
           "Candeias",
           "Cluster 3"
          ],
          [
           "Ibirataia",
           "Cluster 3"
          ],
          [
           "Mata de São João",
           "Cluster 3"
          ],
          [
           "Conde",
           "Cluster 3"
          ],
          [
           "Medeiros Neto",
           "Cluster 3"
          ],
          [
           "Conceição do Almeida",
           "Cluster 3"
          ],
          [
           "Morro do Chapéu",
           "Cluster 3"
          ],
          [
           "Coaraci",
           "Cluster 3"
          ],
          [
           "Caravelas",
           "Cluster 3"
          ],
          [
           "Mucuri",
           "Cluster 3"
          ],
          [
           "Carinhanha",
           "Cluster 3"
          ],
          [
           "Lauro de Freitas",
           "Cluster 3"
          ],
          [
           "Dário Meira",
           "Cluster 3"
          ],
          [
           "Buerarema",
           "Cluster 3"
          ],
          [
           "Brumado",
           "Cluster 3"
          ],
          [
           "São José da Vitória",
           "Cluster 3"
          ],
          [
           "Itororó",
           "Cluster 3"
          ],
          [
           "São Francisco do Conde",
           "Cluster 3"
          ],
          [
           "São Félix do Coribe",
           "Cluster 3"
          ],
          [
           "Floresta Azul",
           "Cluster 3"
          ],
          [
           "Aurelino Leal",
           "Cluster 3"
          ],
          [
           "Barra do Choça",
           "Cluster 3"
          ],
          [
           "Barra do Rocha",
           "Cluster 3"
          ],
          [
           "Santa Luzia",
           "Cluster 3"
          ],
          [
           "Santa Cruz da Vitória",
           "Cluster 3"
          ],
          [
           "Santa Cruz Cabrália",
           "Cluster 3"
          ],
          [
           "São Sebastião do Passé",
           "Cluster 3"
          ],
          [
           "Barreiras",
           "Cluster 3"
          ],
          [
           "Salinas da Margarida",
           "Cluster 3"
          ],
          [
           "Belmonte",
           "Cluster 3"
          ],
          [
           "Juazeiro",
           "Cluster 3"
          ],
          [
           "Eunápolis",
           "Cluster 3"
          ],
          [
           "Ribeirão do Largo",
           "Cluster 3"
          ],
          [
           "Jussari",
           "Cluster 3"
          ],
          [
           "Encruzilhada",
           "Cluster 3"
          ],
          [
           "Lajedão",
           "Cluster 3"
          ],
          [
           "Dom Macedo Costa",
           "Cluster 3"
          ],
          [
           "Rafael Jambeiro",
           "Cluster 3"
          ],
          [
           "Dias d'Ávila",
           "Cluster 3"
          ],
          [
           "Salvador",
           "Cluster 3"
          ],
          [
           "Jaguaquara",
           "Cluster 3"
          ]
         ],
         "hovertemplate": "Cluster=%{customdata[1]}<br>Porcentagem de Casos=%{x}<br>Nome Município=%{customdata[0]}<extra></extra>",
         "legendgroup": "Cluster 3",
         "marker": {
          "color": "#ab63fa"
         },
         "name": "Cluster 3",
         "notched": true,
         "offsetgroup": "Cluster 3",
         "showlegend": false,
         "type": "box",
         "x": [
          0.24937657,
          0.40744513,
          0.27995118,
          0.19386107,
          0.3751617,
          0.4841998,
          0.28596878,
          0.31746033,
          0.9067107,
          0.24698474,
          0.17114432,
          0.51474255,
          0.23730423,
          0.22456463,
          0.2677747,
          0.335707,
          0.50747496,
          0.51751226,
          0.2434824,
          0.35078713,
          0.43475112,
          0.18232727,
          0.27625483,
          0.25396827,
          0.25137818,
          0.5742741,
          0.24528022,
          0.50961715,
          0.6810515,
          0.18221575,
          0.30757535,
          0.16933009,
          0.4003857,
          0.16521037,
          0.16931216,
          0.17731705,
          0.53373873,
          0.1771246,
          0.16372976,
          0.16347761,
          0.35583463,
          0.47433203,
          0.36578834,
          0.24328786,
          1.0681158,
          0.24543966,
          0.16491672,
          0.22517753,
          0.36002555,
          0.16170901,
          0.18581016,
          0.20775037,
          0.21943058,
          0.37714347,
          0.34696668,
          0.19788918,
          0.28760222,
          0.2656219,
          0.2018863,
          0.23045409,
          0.24407977,
          0.17939922,
          0.7940447,
          0.16948354,
          0.22128294,
          0.2022117,
          0.32017076,
          0.3384228,
          0.2666979,
          0.31959093,
          0.17913121,
          0.2538071,
          0.6304287,
          0.22694045,
          0.24359609,
          0.2028912,
          0.6204972,
          0.16593544,
          0.32353196,
          0.28237194,
          0.30278885,
          0.17547481,
          0.27040315,
          0.33238366,
          0.26737967,
          0.28763777,
          0.43635955,
          0.19274355
         ],
         "xaxis": "x2",
         "yaxis": "y2"
        }
       ],
       "layout": {
        "barmode": "relative",
        "height": 600,
        "legend": {
         "title": {
          "text": "Cluster"
         },
         "tracegroupgap": 0
        },
        "margin": {
         "t": 60
        },
        "template": {
         "data": {
          "bar": [
           {
            "error_x": {
             "color": "#2a3f5f"
            },
            "error_y": {
             "color": "#2a3f5f"
            },
            "marker": {
             "line": {
              "color": "#E5ECF6",
              "width": 0.5
             },
             "pattern": {
              "fillmode": "overlay",
              "size": 10,
              "solidity": 0.2
             }
            },
            "type": "bar"
           }
          ],
          "barpolar": [
           {
            "marker": {
             "line": {
              "color": "#E5ECF6",
              "width": 0.5
             },
             "pattern": {
              "fillmode": "overlay",
              "size": 10,
              "solidity": 0.2
             }
            },
            "type": "barpolar"
           }
          ],
          "carpet": [
           {
            "aaxis": {
             "endlinecolor": "#2a3f5f",
             "gridcolor": "white",
             "linecolor": "white",
             "minorgridcolor": "white",
             "startlinecolor": "#2a3f5f"
            },
            "baxis": {
             "endlinecolor": "#2a3f5f",
             "gridcolor": "white",
             "linecolor": "white",
             "minorgridcolor": "white",
             "startlinecolor": "#2a3f5f"
            },
            "type": "carpet"
           }
          ],
          "choropleth": [
           {
            "colorbar": {
             "outlinewidth": 0,
             "ticks": ""
            },
            "type": "choropleth"
           }
          ],
          "contour": [
           {
            "colorbar": {
             "outlinewidth": 0,
             "ticks": ""
            },
            "colorscale": [
             [
              0,
              "#0d0887"
             ],
             [
              0.1111111111111111,
              "#46039f"
             ],
             [
              0.2222222222222222,
              "#7201a8"
             ],
             [
              0.3333333333333333,
              "#9c179e"
             ],
             [
              0.4444444444444444,
              "#bd3786"
             ],
             [
              0.5555555555555556,
              "#d8576b"
             ],
             [
              0.6666666666666666,
              "#ed7953"
             ],
             [
              0.7777777777777778,
              "#fb9f3a"
             ],
             [
              0.8888888888888888,
              "#fdca26"
             ],
             [
              1,
              "#f0f921"
             ]
            ],
            "type": "contour"
           }
          ],
          "contourcarpet": [
           {
            "colorbar": {
             "outlinewidth": 0,
             "ticks": ""
            },
            "type": "contourcarpet"
           }
          ],
          "heatmap": [
           {
            "colorbar": {
             "outlinewidth": 0,
             "ticks": ""
            },
            "colorscale": [
             [
              0,
              "#0d0887"
             ],
             [
              0.1111111111111111,
              "#46039f"
             ],
             [
              0.2222222222222222,
              "#7201a8"
             ],
             [
              0.3333333333333333,
              "#9c179e"
             ],
             [
              0.4444444444444444,
              "#bd3786"
             ],
             [
              0.5555555555555556,
              "#d8576b"
             ],
             [
              0.6666666666666666,
              "#ed7953"
             ],
             [
              0.7777777777777778,
              "#fb9f3a"
             ],
             [
              0.8888888888888888,
              "#fdca26"
             ],
             [
              1,
              "#f0f921"
             ]
            ],
            "type": "heatmap"
           }
          ],
          "heatmapgl": [
           {
            "colorbar": {
             "outlinewidth": 0,
             "ticks": ""
            },
            "colorscale": [
             [
              0,
              "#0d0887"
             ],
             [
              0.1111111111111111,
              "#46039f"
             ],
             [
              0.2222222222222222,
              "#7201a8"
             ],
             [
              0.3333333333333333,
              "#9c179e"
             ],
             [
              0.4444444444444444,
              "#bd3786"
             ],
             [
              0.5555555555555556,
              "#d8576b"
             ],
             [
              0.6666666666666666,
              "#ed7953"
             ],
             [
              0.7777777777777778,
              "#fb9f3a"
             ],
             [
              0.8888888888888888,
              "#fdca26"
             ],
             [
              1,
              "#f0f921"
             ]
            ],
            "type": "heatmapgl"
           }
          ],
          "histogram": [
           {
            "marker": {
             "pattern": {
              "fillmode": "overlay",
              "size": 10,
              "solidity": 0.2
             }
            },
            "type": "histogram"
           }
          ],
          "histogram2d": [
           {
            "colorbar": {
             "outlinewidth": 0,
             "ticks": ""
            },
            "colorscale": [
             [
              0,
              "#0d0887"
             ],
             [
              0.1111111111111111,
              "#46039f"
             ],
             [
              0.2222222222222222,
              "#7201a8"
             ],
             [
              0.3333333333333333,
              "#9c179e"
             ],
             [
              0.4444444444444444,
              "#bd3786"
             ],
             [
              0.5555555555555556,
              "#d8576b"
             ],
             [
              0.6666666666666666,
              "#ed7953"
             ],
             [
              0.7777777777777778,
              "#fb9f3a"
             ],
             [
              0.8888888888888888,
              "#fdca26"
             ],
             [
              1,
              "#f0f921"
             ]
            ],
            "type": "histogram2d"
           }
          ],
          "histogram2dcontour": [
           {
            "colorbar": {
             "outlinewidth": 0,
             "ticks": ""
            },
            "colorscale": [
             [
              0,
              "#0d0887"
             ],
             [
              0.1111111111111111,
              "#46039f"
             ],
             [
              0.2222222222222222,
              "#7201a8"
             ],
             [
              0.3333333333333333,
              "#9c179e"
             ],
             [
              0.4444444444444444,
              "#bd3786"
             ],
             [
              0.5555555555555556,
              "#d8576b"
             ],
             [
              0.6666666666666666,
              "#ed7953"
             ],
             [
              0.7777777777777778,
              "#fb9f3a"
             ],
             [
              0.8888888888888888,
              "#fdca26"
             ],
             [
              1,
              "#f0f921"
             ]
            ],
            "type": "histogram2dcontour"
           }
          ],
          "mesh3d": [
           {
            "colorbar": {
             "outlinewidth": 0,
             "ticks": ""
            },
            "type": "mesh3d"
           }
          ],
          "parcoords": [
           {
            "line": {
             "colorbar": {
              "outlinewidth": 0,
              "ticks": ""
             }
            },
            "type": "parcoords"
           }
          ],
          "pie": [
           {
            "automargin": true,
            "type": "pie"
           }
          ],
          "scatter": [
           {
            "fillpattern": {
             "fillmode": "overlay",
             "size": 10,
             "solidity": 0.2
            },
            "type": "scatter"
           }
          ],
          "scatter3d": [
           {
            "line": {
             "colorbar": {
              "outlinewidth": 0,
              "ticks": ""
             }
            },
            "marker": {
             "colorbar": {
              "outlinewidth": 0,
              "ticks": ""
             }
            },
            "type": "scatter3d"
           }
          ],
          "scattercarpet": [
           {
            "marker": {
             "colorbar": {
              "outlinewidth": 0,
              "ticks": ""
             }
            },
            "type": "scattercarpet"
           }
          ],
          "scattergeo": [
           {
            "marker": {
             "colorbar": {
              "outlinewidth": 0,
              "ticks": ""
             }
            },
            "type": "scattergeo"
           }
          ],
          "scattergl": [
           {
            "marker": {
             "colorbar": {
              "outlinewidth": 0,
              "ticks": ""
             }
            },
            "type": "scattergl"
           }
          ],
          "scattermapbox": [
           {
            "marker": {
             "colorbar": {
              "outlinewidth": 0,
              "ticks": ""
             }
            },
            "type": "scattermapbox"
           }
          ],
          "scatterpolar": [
           {
            "marker": {
             "colorbar": {
              "outlinewidth": 0,
              "ticks": ""
             }
            },
            "type": "scatterpolar"
           }
          ],
          "scatterpolargl": [
           {
            "marker": {
             "colorbar": {
              "outlinewidth": 0,
              "ticks": ""
             }
            },
            "type": "scatterpolargl"
           }
          ],
          "scatterternary": [
           {
            "marker": {
             "colorbar": {
              "outlinewidth": 0,
              "ticks": ""
             }
            },
            "type": "scatterternary"
           }
          ],
          "surface": [
           {
            "colorbar": {
             "outlinewidth": 0,
             "ticks": ""
            },
            "colorscale": [
             [
              0,
              "#0d0887"
             ],
             [
              0.1111111111111111,
              "#46039f"
             ],
             [
              0.2222222222222222,
              "#7201a8"
             ],
             [
              0.3333333333333333,
              "#9c179e"
             ],
             [
              0.4444444444444444,
              "#bd3786"
             ],
             [
              0.5555555555555556,
              "#d8576b"
             ],
             [
              0.6666666666666666,
              "#ed7953"
             ],
             [
              0.7777777777777778,
              "#fb9f3a"
             ],
             [
              0.8888888888888888,
              "#fdca26"
             ],
             [
              1,
              "#f0f921"
             ]
            ],
            "type": "surface"
           }
          ],
          "table": [
           {
            "cells": {
             "fill": {
              "color": "#EBF0F8"
             },
             "line": {
              "color": "white"
             }
            },
            "header": {
             "fill": {
              "color": "#C8D4E3"
             },
             "line": {
              "color": "white"
             }
            },
            "type": "table"
           }
          ]
         },
         "layout": {
          "annotationdefaults": {
           "arrowcolor": "#2a3f5f",
           "arrowhead": 0,
           "arrowwidth": 1
          },
          "autotypenumbers": "strict",
          "coloraxis": {
           "colorbar": {
            "outlinewidth": 0,
            "ticks": ""
           }
          },
          "colorscale": {
           "diverging": [
            [
             0,
             "#8e0152"
            ],
            [
             0.1,
             "#c51b7d"
            ],
            [
             0.2,
             "#de77ae"
            ],
            [
             0.3,
             "#f1b6da"
            ],
            [
             0.4,
             "#fde0ef"
            ],
            [
             0.5,
             "#f7f7f7"
            ],
            [
             0.6,
             "#e6f5d0"
            ],
            [
             0.7,
             "#b8e186"
            ],
            [
             0.8,
             "#7fbc41"
            ],
            [
             0.9,
             "#4d9221"
            ],
            [
             1,
             "#276419"
            ]
           ],
           "sequential": [
            [
             0,
             "#0d0887"
            ],
            [
             0.1111111111111111,
             "#46039f"
            ],
            [
             0.2222222222222222,
             "#7201a8"
            ],
            [
             0.3333333333333333,
             "#9c179e"
            ],
            [
             0.4444444444444444,
             "#bd3786"
            ],
            [
             0.5555555555555556,
             "#d8576b"
            ],
            [
             0.6666666666666666,
             "#ed7953"
            ],
            [
             0.7777777777777778,
             "#fb9f3a"
            ],
            [
             0.8888888888888888,
             "#fdca26"
            ],
            [
             1,
             "#f0f921"
            ]
           ],
           "sequentialminus": [
            [
             0,
             "#0d0887"
            ],
            [
             0.1111111111111111,
             "#46039f"
            ],
            [
             0.2222222222222222,
             "#7201a8"
            ],
            [
             0.3333333333333333,
             "#9c179e"
            ],
            [
             0.4444444444444444,
             "#bd3786"
            ],
            [
             0.5555555555555556,
             "#d8576b"
            ],
            [
             0.6666666666666666,
             "#ed7953"
            ],
            [
             0.7777777777777778,
             "#fb9f3a"
            ],
            [
             0.8888888888888888,
             "#fdca26"
            ],
            [
             1,
             "#f0f921"
            ]
           ]
          },
          "colorway": [
           "#636efa",
           "#EF553B",
           "#00cc96",
           "#ab63fa",
           "#FFA15A",
           "#19d3f3",
           "#FF6692",
           "#B6E880",
           "#FF97FF",
           "#FECB52"
          ],
          "font": {
           "color": "#2a3f5f"
          },
          "geo": {
           "bgcolor": "white",
           "lakecolor": "white",
           "landcolor": "#E5ECF6",
           "showlakes": true,
           "showland": true,
           "subunitcolor": "white"
          },
          "hoverlabel": {
           "align": "left"
          },
          "hovermode": "closest",
          "mapbox": {
           "style": "light"
          },
          "paper_bgcolor": "white",
          "plot_bgcolor": "#E5ECF6",
          "polar": {
           "angularaxis": {
            "gridcolor": "white",
            "linecolor": "white",
            "ticks": ""
           },
           "bgcolor": "#E5ECF6",
           "radialaxis": {
            "gridcolor": "white",
            "linecolor": "white",
            "ticks": ""
           }
          },
          "scene": {
           "xaxis": {
            "backgroundcolor": "#E5ECF6",
            "gridcolor": "white",
            "gridwidth": 2,
            "linecolor": "white",
            "showbackground": true,
            "ticks": "",
            "zerolinecolor": "white"
           },
           "yaxis": {
            "backgroundcolor": "#E5ECF6",
            "gridcolor": "white",
            "gridwidth": 2,
            "linecolor": "white",
            "showbackground": true,
            "ticks": "",
            "zerolinecolor": "white"
           },
           "zaxis": {
            "backgroundcolor": "#E5ECF6",
            "gridcolor": "white",
            "gridwidth": 2,
            "linecolor": "white",
            "showbackground": true,
            "ticks": "",
            "zerolinecolor": "white"
           }
          },
          "shapedefaults": {
           "line": {
            "color": "#2a3f5f"
           }
          },
          "ternary": {
           "aaxis": {
            "gridcolor": "white",
            "linecolor": "white",
            "ticks": ""
           },
           "baxis": {
            "gridcolor": "white",
            "linecolor": "white",
            "ticks": ""
           },
           "bgcolor": "#E5ECF6",
           "caxis": {
            "gridcolor": "white",
            "linecolor": "white",
            "ticks": ""
           }
          },
          "title": {
           "x": 0.05
          },
          "xaxis": {
           "automargin": true,
           "gridcolor": "white",
           "linecolor": "white",
           "ticks": "",
           "title": {
            "standoff": 15
           },
           "zerolinecolor": "white",
           "zerolinewidth": 2
          },
          "yaxis": {
           "automargin": true,
           "gridcolor": "white",
           "linecolor": "white",
           "ticks": "",
           "title": {
            "standoff": 15
           },
           "zerolinecolor": "white",
           "zerolinewidth": 2
          }
         }
        },
        "xaxis": {
         "anchor": "y",
         "domain": [
          0,
          1
         ],
         "title": {
          "text": "Porcentagem de Casos"
         }
        },
        "xaxis2": {
         "anchor": "y2",
         "domain": [
          0,
          1
         ],
         "matches": "x",
         "showgrid": true,
         "showticklabels": false
        },
        "yaxis": {
         "anchor": "x",
         "domain": [
          0,
          0.7326
         ],
         "title": {
          "text": "count"
         }
        },
        "yaxis2": {
         "anchor": "x2",
         "domain": [
          0.7426,
          1
         ],
         "matches": "y2",
         "showgrid": false,
         "showline": false,
         "showticklabels": false,
         "ticks": ""
        }
       }
      }
     },
     "metadata": {},
     "output_type": "display_data"
    }
   ],
   "source": [
    "plot_model(modelo, plot = 'distribution', feature = 'Porcentagem de Casos', label=False)"
   ]
  },
  {
   "cell_type": "code",
   "execution_count": 159,
   "id": "5630cfd7",
   "metadata": {
    "scrolled": false
   },
   "outputs": [
    {
     "data": {
      "text/html": [],
      "text/plain": [
       "<IPython.core.display.HTML object>"
      ]
     },
     "metadata": {},
     "output_type": "display_data"
    },
    {
     "data": {
      "application/vnd.plotly.v1+json": {
       "config": {
        "plotlyServerURL": "https://plot.ly"
       },
       "data": [
        {
         "customdata": [
          [
           "Abaíra"
          ],
          [
           "Milagres"
          ],
          [
           "Conceição do Coité"
          ],
          [
           "Monte Santo"
          ],
          [
           "Morpará"
          ],
          [
           "Cocos"
          ],
          [
           "Mortugaba"
          ],
          [
           "Cipó"
          ],
          [
           "Chorrochó"
          ],
          [
           "Central"
          ],
          [
           "Caturama"
          ],
          [
           "Mundo Novo"
          ],
          [
           "Catolândia"
          ],
          [
           "Casa Nova"
          ],
          [
           "Nordestina"
          ],
          [
           "Novo Horizonte"
          ],
          [
           "Novo Triunfo"
          ],
          [
           "Canudos"
          ],
          [
           "Ibirapuã"
          ],
          [
           "Paramirim"
          ],
          [
           "Paratinga"
          ],
          [
           "Canápolis"
          ],
          [
           "Campo Alegre de Lourdes"
          ],
          [
           "Pé de Serra"
          ],
          [
           "Pedrão"
          ],
          [
           "Pedro Alexandre"
          ],
          [
           "Piatã"
          ],
          [
           "Pilão Arcado"
          ],
          [
           "Marcionílio Souza"
          ],
          [
           "Mansidão"
          ],
          [
           "Coração de Maria"
          ],
          [
           "Malhada de Pedras"
          ],
          [
           "Igaporã"
          ],
          [
           "Ibipitanga"
          ],
          [
           "Ibipeba"
          ],
          [
           "Ipirá"
          ],
          [
           "Iraquara"
          ],
          [
           "Heliópolis"
          ],
          [
           "Irecê"
          ],
          [
           "Itaeté"
          ],
          [
           "Itaguaçu da Bahia"
          ],
          [
           "Formosa do Rio Preto"
          ],
          [
           "Jaborandi"
          ],
          [
           "Jeremoabo"
          ],
          [
           "Feira da Mata"
          ],
          [
           "Pindaí"
          ],
          [
           "Fátima"
          ],
          [
           "Érico Cardoso"
          ],
          [
           "Entre Rios"
          ],
          [
           "Lagoa Real"
          ],
          [
           "Elísio Medrado"
          ],
          [
           "Lajedinho"
          ],
          [
           "Dom Basílio"
          ],
          [
           "Lamarão"
          ],
          [
           "Cristópolis"
          ],
          [
           "Crisópolis"
          ],
          [
           "Licínio de Almeida"
          ],
          [
           "Macajuba"
          ],
          [
           "Macaúbas"
          ],
          [
           "Macururé"
          ],
          [
           "Euclides da Cunha"
          ],
          [
           "Pintadas"
          ],
          [
           "Palmas de Monte Alto"
          ],
          [
           "Ibitiara"
          ],
          [
           "Rio de Contas"
          ],
          [
           "Rio do Antônio"
          ],
          [
           "Antas"
          ],
          [
           "Barrocas"
          ],
          [
           "Santa Bárbara"
          ],
          [
           "Barro Alto"
          ],
          [
           "Santa Brígida"
          ],
          [
           "Santana"
          ],
          [
           "Amélia Rodrigues"
          ],
          [
           "Banzaê"
          ],
          [
           "Baixa Grande"
          ],
          [
           "Baianópolis"
          ],
          [
           "Santo Estêvão"
          ],
          [
           "Planaltino"
          ],
          [
           "São Gabriel"
          ],
          [
           "Aramari"
          ],
          [
           "São Miguel das Matas"
          ],
          [
           "Tanque Novo"
          ],
          [
           "Sátiro Dias"
          ],
          [
           "Tabocas do Brejo Velho"
          ],
          [
           "Sítio do Quinto"
          ],
          [
           "Sebastião Laranjeiras"
          ],
          [
           "Serra Preta"
          ],
          [
           "Tucano"
          ],
          [
           "Ubaíra"
          ],
          [
           "Rio do Pires"
          ],
          [
           "Umburanas"
          ],
          [
           "Cachoeira"
          ],
          [
           "Cabaceiras do Paraguaçu"
          ],
          [
           "Abaré"
          ],
          [
           "Buritirama"
          ],
          [
           "Queimadas"
          ],
          [
           "Brotas de Macaúbas"
          ],
          [
           "Brejolândia"
          ],
          [
           "Quixabeira"
          ],
          [
           "Riacho de Santana"
          ],
          [
           "Boquira"
          ],
          [
           "Botuporã"
          ],
          [
           "Anguera"
          ],
          [
           "Urandi"
          ],
          [
           "Riachão das Neves"
          ],
          [
           "Bonito"
          ],
          [
           "Boninal"
          ],
          [
           "Varzedo"
          ]
         ],
         "hovertemplate": "Cluster=Cluster 0<br>PCA1=%{x}<br>PCA2=%{y}<br>Feature=%{customdata[0]}<extra></extra>",
         "legendgroup": "Cluster 0",
         "marker": {
          "color": "#636efa",
          "opacity": 0.5,
          "symbol": "circle"
         },
         "mode": "markers",
         "name": "Cluster 0",
         "orientation": "v",
         "showlegend": true,
         "textposition": "top center",
         "type": "scatter",
         "x": [
          -0.9242943573022429,
          -1.0606063555294591,
          -1.0590203130237887,
          -1.0102614072970983,
          -0.9180049779092688,
          -1.1503589848382896,
          -0.9013883879335248,
          -0.9745118383979949,
          -0.9709466514385048,
          -0.9188971994467974,
          -1.1503589848382898,
          -1.1503589848382887,
          -1.1503589848382898,
          -0.9519863821088094,
          -0.9209442075862003,
          -1.1503589848382885,
          -1.1503589848382887,
          -1.0302637928545568,
          -1.0328957863510455,
          -1.0570462138011616,
          -1.055738530548075,
          -1.0479272828281365,
          -1.1503589848382885,
          -1.1503589848382885,
          -0.8740778058460164,
          -0.8648451683381553,
          -1.0934375293291902,
          -0.9467079082331772,
          -0.9601139493620837,
          -1.0758705378754227,
          -0.8892815955157315,
          -0.9155387023425198,
          -0.9587878573095828,
          -1.150358984838288,
          -0.9276832807336194,
          -1.017544987747132,
          -0.9060487870951008,
          -0.9987648457598389,
          -0.8711585827864711,
          -0.8995970887669447,
          -1.009064757865204,
          -0.8694663676996103,
          -0.9207246577175393,
          -1.0753835568605103,
          -0.9747790710274736,
          -1.0272274545818714,
          -0.981224203776459,
          -0.9648819542990894,
          -1.006021360142349,
          -1.0854900458414654,
          -0.9045761606119124,
          -1.1503589848382887,
          -0.9853662514309066,
          -1.0349171906684322,
          -0.933782393903082,
          -0.9598787118263794,
          -0.9098352282623864,
          -0.9752963960576229,
          -1.1095727354946834,
          -1.024568491855309,
          -0.915280843578256,
          -0.9615133279974177,
          -0.9198388274517703,
          -0.9035991675698738,
          -1.0745287484721342,
          -1.15035898483829,
          -1.0972247306704666,
          -0.9589406861745797,
          -1.0046969433777502,
          -1.0820285524243902,
          -0.942068871413268,
          -1.0368949697141945,
          -0.9141249336619517,
          -1.074820718228442,
          -1.1503589848382885,
          -1.0051681447300398,
          -0.9767336575037464,
          -0.933330337314833,
          -1.1503589848382905,
          -0.9726636569127619,
          -1.0643695557085322,
          -1.0922185104461424,
          -0.9976666025455415,
          -1.1503589848383151,
          -0.9660490973596982,
          -0.9725573100241944,
          -1.085518361112108,
          -0.9524556370283386,
          -1.0503797300069309,
          -0.8931988253441913,
          -1.0970968083978407,
          -0.9136341614608364,
          -1.0426762817373212,
          -0.9958514523147922,
          -1.054904634207219,
          -0.9937177940243461,
          -1.0556091944486652,
          -1.15035898483829,
          -0.9293868839046725,
          -0.9506144859420383,
          -0.9652122281090982,
          -1.0549484337862556,
          -1.0597933373430155,
          -1.0904497792474923,
          -0.9719547874047499,
          -0.9075747516462398,
          -1.0799129010579243,
          -0.9285383554249882
         ],
         "xaxis": "x",
         "y": [
          0,
          -0.046564455427594575,
          0.553583468859961,
          -0.17739451546123924,
          -0.20214805460803847,
          0.44786034676443226,
          -0.07401788478933226,
          -0.3249763975195282,
          -0.23661158396325455,
          -0.00017875167332801343,
          -0.042594243392766525,
          0.1896950989411494,
          0.22222237000548553,
          -1.1402948783276048,
          0.09778641910981827,
          -0.6215674140305459,
          -0.18816142706103398,
          0.13407792399233576,
          -0.45388349464793376,
          -0.3301291095222279,
          0.021568969996280662,
          2.238481161830339,
          0.3014557307187138,
          0.09026534186164924,
          0.19099199061417185,
          -0.08816862220563976,
          0.1505946585323966,
          0.22178772861086052,
          0.07255064118740026,
          -0.0559937942887514,
          0.18092391316720438,
          -0.42105907490833233,
          0.2081054525870714,
          -0.009032533219914972,
          -0.27520925541327906,
          -0.23965545332412505,
          0.25604312783330013,
          0.3766207008815604,
          0.7627681669599288,
          0.08557571810939245,
          -0.28173314858887155,
          0.06010145104467857,
          -0.2791608614009534,
          -0.4121558970172698,
          -0.010856096298771076,
          -0.04914057008197776,
          -0.22443829446072502,
          0.1431586394698647,
          -0.008802300567122206,
          -0.005546767827331611,
          -0.630846218039339,
          0.27162820494883433,
          -0.2306417431027395,
          -0.12861848467062933,
          -0.118156850653548,
          -0.15330145573040815,
          -0.6143673759903442,
          -0.04288065802823712,
          -0.06792440817318662,
          -0.15588357039786274,
          -0.24769861389899872,
          0.04167473475618506,
          -0.009833731208767928,
          -0.8414874164843554,
          0.10723869632312305,
          -0.07916595077971443,
          -0.3085821732134958,
          -0.19150676509205916,
          0.024184016412846714,
          -1.0144653441096068,
          -0.051553111337132494,
          -0.0980287587556329,
          0.06770103495937704,
          0.03123143281523429,
          0.7576529149078081,
          -0.5638496239622924,
          -0.10216150563306241,
          0.09935342794929478,
          -0.2783952991539035,
          -1.7529531528443645,
          0.11644880905246269,
          0.07528608831682802,
          -0.10388961447192499,
          0.3190636338829552,
          0.12113364732913548,
          -0.2571199876744651,
          0.21569236552185975,
          -0.15452442644909817,
          0.2392165740031035,
          -0.11613118502618468,
          0.08532188413331222,
          0.3441227779839919,
          1.480194107788408,
          -0.015977849111405262,
          0.9685420730995956,
          -0.00671939269947234,
          -1.300127789671739,
          -0.11061218168619298,
          -0.016613431452051478,
          -0.21983352373339288,
          -0.43577324921828253,
          -0.6289469594304355,
          0.45040502779427766,
          -0.020995080246798862,
          -0.29470395707578495,
          -0.34076456768270336,
          -0.15786621012852184,
          0.04396965770344466
         ],
         "yaxis": "y"
        },
        {
         "customdata": [
          [
           "Ichu"
          ],
          [
           "Irará"
          ],
          [
           "Jucuruçu"
          ],
          [
           "Utinga"
          ],
          [
           "Itapicuru"
          ],
          [
           "Jacaraci"
          ],
          [
           "Itiruçu"
          ],
          [
           "Iuiú"
          ],
          [
           "Vereda"
          ],
          [
           "Iramaia"
          ],
          [
           "Itarantim"
          ],
          [
           "Inhambupe"
          ],
          [
           "Itatim"
          ],
          [
           "Ipecaetá"
          ],
          [
           "Ituaçu"
          ],
          [
           "Wagner"
          ],
          [
           "Teodoro Sampaio"
          ],
          [
           "Piritiba"
          ],
          [
           "Sento Sé"
          ],
          [
           "Presidente Dutra"
          ],
          [
           "Presidente Jânio Quadros"
          ],
          [
           "Quijingue"
          ],
          [
           "Paripiranga"
          ],
          [
           "Palmeiras"
          ],
          [
           "Ouriçangas"
          ],
          [
           "Oliveira dos Brejinhos"
          ],
          [
           "Olindina"
          ],
          [
           "Nova Itarana"
          ],
          [
           "Riachão do Jacuípe"
          ],
          [
           "Mutuípe"
          ],
          [
           "Muritiba"
          ],
          [
           "Muquém de São Francisco"
          ],
          [
           "Ribeira do Amparo"
          ],
          [
           "Mucugê"
          ],
          [
           "Santa Teresinha"
          ],
          [
           "Santaluz"
          ],
          [
           "Santanópolis"
          ],
          [
           "Matina"
          ],
          [
           "Santo Amaro"
          ],
          [
           "Livramento de Nossa Senhora"
          ],
          [
           "São Gonçalo dos Campos"
          ],
          [
           "Lençóis"
          ],
          [
           "Lapão"
          ],
          [
           "Lajedo do Tabocal"
          ],
          [
           "Saúde"
          ],
          [
           "Seabra"
          ],
          [
           "Jussiape"
          ],
          [
           "São Desidério"
          ],
          [
           "Xique-Xique"
          ],
          [
           "Cardeal da Silva"
          ],
          [
           "Canarana"
          ],
          [
           "Campo Formoso"
          ],
          [
           "Caatiba"
          ],
          [
           "Caculé"
          ],
          [
           "Caldeirão Grande"
          ],
          [
           "Cruz das Almas"
          ],
          [
           "Aporá"
          ],
          [
           "Gentio do Ouro"
          ],
          [
           "Aracatu"
          ],
          [
           "Coribe"
          ],
          [
           "Caetanos"
          ],
          [
           "Angical"
          ],
          [
           "Araças"
          ],
          [
           "Correntina"
          ],
          [
           "Caetité"
          ],
          [
           "Candiba"
          ],
          [
           "Antônio Gonçalves"
          ],
          [
           "Cansanção"
          ],
          [
           "Cícero Dantas"
          ],
          [
           "Boa Nova"
          ],
          [
           "Água Fria"
          ],
          [
           "Esplanada"
          ],
          [
           "Caraíbas"
          ],
          [
           "Ibiassucê"
          ],
          [
           "Iaçu"
          ],
          [
           "Barra"
          ]
         ],
         "hovertemplate": "Cluster=Cluster 1<br>PCA1=%{x}<br>PCA2=%{y}<br>Feature=%{customdata[0]}<extra></extra>",
         "legendgroup": "Cluster 1",
         "marker": {
          "color": "#EF553B",
          "opacity": 0.5,
          "symbol": "circle"
         },
         "mode": "markers",
         "name": "Cluster 1",
         "orientation": "v",
         "showlegend": true,
         "textposition": "top center",
         "type": "scatter",
         "x": [
          -0.8272941420238737,
          -0.7675608126113831,
          -0.7312601320955151,
          -0.8349542749016993,
          -0.6909254745203942,
          -0.6795335942675481,
          -0.6796554157807689,
          -0.6942732614026331,
          -0.6791576712831916,
          -0.8353046909014913,
          -0.8432454006095262,
          -0.8162133036632895,
          -0.8027678109568902,
          -0.8149230802025991,
          -0.6192335720924441,
          -0.6173003479578411,
          -0.6262741970619402,
          -0.8204127952936049,
          -0.8276836028838677,
          -0.6216775556780596,
          -0.7604594124577404,
          -0.8235198442729301,
          -0.7700555390212358,
          -0.8131316648310778,
          -0.6838788456289444,
          -0.7856024044119673,
          -0.6878690134254145,
          -0.7802412119857843,
          -0.8215403705717788,
          -0.7434515023429166,
          -0.7430131385702238,
          -0.7038696978460018,
          -0.6117153448151569,
          -0.8370766032104027,
          -0.7609996104937611,
          -0.7444258420388012,
          -0.7013535897270209,
          -0.8173083028229834,
          -0.7140459969453318,
          -0.8166598792518179,
          -0.8495113259718937,
          -0.7035627618616577,
          -0.8558442628502764,
          -0.7993177249915292,
          -0.6065794350347269,
          -0.7168113259279261,
          -0.8560526764120838,
          -0.8105703142550142,
          -0.7633825477503261,
          -0.8235198442729296,
          -0.7632752905896963,
          -0.6690298296443128,
          -0.6199244879370609,
          -0.8011011609570972,
          -0.8470601570474521,
          -0.8140769145567142,
          -0.7533649071305399,
          -0.7036779209582572,
          -0.777996791018995,
          -0.7325792131165704,
          -0.6984473041508548,
          -0.6548866037367536,
          -0.6555378162265055,
          -0.6828441180986852,
          -0.8159157028092108,
          -0.798890555628159,
          -0.8058313992882549,
          -0.6619410958292159,
          -0.7605448618243761,
          -0.6330166401526491,
          -0.6158571600597209,
          -0.7107620065757118,
          -0.7247847666943611,
          -0.8440295515518601,
          -0.6281369622672759,
          -0.6959326679610998
         ],
         "xaxis": "x",
         "y": [
          -0.15611060382531267,
          0.13330496633262004,
          -0.22885673173749943,
          0.31707217053884057,
          -0.037795647631910796,
          -0.2570076733988212,
          -0.15439908919139758,
          -0.05660233675964606,
          -0.08659011322130639,
          0.4062553619727427,
          0.3547582505813212,
          -0.5940224025291813,
          -0.23343491270418976,
          0.3081301601547211,
          -0.0033701255657410827,
          0.04149336383128687,
          -0.10307894303044861,
          -0.01737151059404489,
          -0.004327529546333914,
          0.6279245277572861,
          -0.10220929363923995,
          -0.021963238067590454,
          -0.23287349502909677,
          -0.5258270157326095,
          -0.2907965966587741,
          0.04205494351453168,
          0.03698118371653092,
          -0.009687535485082301,
          -0.08150074671560846,
          -0.13845249984489585,
          0.10362633794763529,
          0.10306906484221824,
          -0.13635288612338992,
          0.15587361507917843,
          -0.2877081211383414,
          -0.14752471761819036,
          -0.34003453751248813,
          0.12787231417105882,
          0.40839770167384826,
          -0.0024616609317693965,
          0.059357202172591036,
          0.08523098602382417,
          -0.056862269251243,
          0.12736903869646943,
          0.04872272757919383,
          0.14532471571899874,
          0.17907215183573358,
          0.0338095369513992,
          -0.06645227200261952,
          -0.22082714184217966,
          0.3636332758633762,
          -1.3996250646941164,
          -0.5820442078970625,
          -0.15479292700507982,
          -0.4056358229247615,
          -0.15677757200351164,
          -0.954161318347792,
          -0.3212385458563175,
          -0.46210582688641816,
          -0.17043251795487932,
          -0.054318132584781686,
          0.47185901485971044,
          -0.5395061793062882,
          0.21964929287083187,
          -1.4191393943476613,
          7.867263060868591,
          -0.4227650342020376,
          -0.05279667575445096,
          -0.33105720423296087,
          0.013665732835961281,
          0.10026773599048995,
          0.08960978641242506,
          -0.253160731528976,
          -0.056746531871768056,
          0.37082847736872054,
          -1.0136517280626332
         ],
         "yaxis": "y"
        },
        {
         "customdata": [
          [
           "Bom Jesus da Serra"
          ],
          [
           "Potiraguá"
          ],
          [
           "Bom Jesus da Lapa"
          ],
          [
           "Brejões"
          ],
          [
           "Boa Vista do Tupim"
          ],
          [
           "Ponto Novo"
          ],
          [
           "Retirolândia"
          ],
          [
           "Remanso"
          ],
          [
           "Ribeira do Pombal"
          ],
          [
           "Presidente Tancredo Neves"
          ],
          [
           "Piripá"
          ],
          [
           "Caém"
          ],
          [
           "Nilo Peçanha"
          ],
          [
           "Nova Canaã"
          ],
          [
           "Nova Fátima"
          ],
          [
           "Nova Ibiá"
          ],
          [
           "Nova Redenção"
          ],
          [
           "Nova Soure"
          ],
          [
           "Nova Viçosa"
          ],
          [
           "Capim Grosso"
          ],
          [
           "Pojuca"
          ],
          [
           "Capela do Alto Alegre"
          ],
          [
           "Candeal"
          ],
          [
           "Paulo Afonso"
          ],
          [
           "Camamu"
          ],
          [
           "Cairu"
          ],
          [
           "Cafarnaum"
          ],
          [
           "Pindobaçu"
          ],
          [
           "Piraí do Norte"
          ],
          [
           "Biritinga"
          ],
          [
           "Cândido Sales"
          ],
          [
           "Belo Campo"
          ],
          [
           "Ibititá"
          ],
          [
           "Rodelas"
          ],
          [
           "Tanhaçu"
          ],
          [
           "Anagé"
          ],
          [
           "Taperoá"
          ],
          [
           "Tapiramutá"
          ],
          [
           "América Dourada"
          ],
          [
           "Teofilândia"
          ],
          [
           "Terra Nova"
          ],
          [
           "Tremedal"
          ],
          [
           "Amargosa"
          ],
          [
           "Uauá"
          ],
          [
           "Ubaitaba"
          ],
          [
           "Ubatã"
          ],
          [
           "Uibaí"
          ],
          [
           "Alagoinhas"
          ],
          [
           "Uruçuca"
          ],
          [
           "Valença"
          ],
          [
           "Valente"
          ],
          [
           "Várzea da Roça"
          ],
          [
           "Adustina"
          ],
          [
           "Acajutiba"
          ],
          [
           "Wanderley"
          ],
          [
           "Andaraí"
          ],
          [
           "Souto Soares"
          ],
          [
           "Sobradinho"
          ],
          [
           "Andorinha"
          ],
          [
           "Ruy Barbosa"
          ],
          [
           "Barro Preto"
          ],
          [
           "Santa Inês"
          ],
          [
           "Nazaré"
          ],
          [
           "Santa Rita de Cássia"
          ],
          [
           "Barra do Mendes"
          ],
          [
           "Barra da Estiva"
          ],
          [
           "Santo Antônio de Jesus"
          ],
          [
           "Aratuípe"
          ],
          [
           "São Domingos"
          ],
          [
           "Rio Real"
          ],
          [
           "São Felipe"
          ],
          [
           "Arataca"
          ],
          [
           "Araci"
          ],
          [
           "São José do Jacuípe"
          ],
          [
           "Sapeaçu"
          ],
          [
           "Antônio Cardoso"
          ],
          [
           "Serra do Ramalho"
          ],
          [
           "Serra Dourada"
          ],
          [
           "Serrinha"
          ],
          [
           "Serrolândia"
          ],
          [
           "Sítio do Mato"
          ],
          [
           "São Félix"
          ],
          [
           "Santa Maria da Vitória"
          ],
          [
           "Ourolândia"
          ],
          [
           "Jandaíra"
          ],
          [
           "Governador Mangabeira"
          ],
          [
           "Jussara"
          ],
          [
           "Lafaiete Coutinho"
          ],
          [
           "Itagibá"
          ],
          [
           "Laje"
          ],
          [
           "Itagi"
          ],
          [
           "João Dourado"
          ],
          [
           "Guajeru"
          ],
          [
           "Itaquara"
          ],
          [
           "Itaberaba"
          ],
          [
           "Cravolândia"
          ],
          [
           "Cotegipe"
          ],
          [
           "Guaratinga"
          ],
          [
           "Irajuba"
          ],
          [
           "Itacaré"
          ],
          [
           "Jitaúna"
          ],
          [
           "Jiquiriçá"
          ],
          [
           "Itamari"
          ],
          [
           "Itiúba"
          ],
          [
           "Gandu"
          ],
          [
           "Ituberá"
          ],
          [
           "Firmino Alves"
          ],
          [
           "Filadélfia"
          ],
          [
           "Jacobina"
          ],
          [
           "Wenceslau Guimarães"
          ],
          [
           "Jaguarari"
          ],
          [
           "Jaguaripe"
          ],
          [
           "Muniz Ferreira"
          ],
          [
           "Itaparica"
          ],
          [
           "Jequié"
          ],
          [
           "Itanhém"
          ],
          [
           "Itanagra"
          ],
          [
           "Feira de Santana"
          ],
          [
           "Ipupiara"
          ],
          [
           "Coronel João Sá"
          ],
          [
           "Curaçá"
          ],
          [
           "Maetinga"
          ],
          [
           "Catu"
          ],
          [
           "Mulungu do Morro"
          ],
          [
           "Conceição da Feira"
          ],
          [
           "Igrapiúna"
          ],
          [
           "Mirante"
          ],
          [
           "Mirangaba"
          ],
          [
           "Conceição do Jacuípe"
          ],
          [
           "Miguel Calmon"
          ],
          [
           "Iguaí"
          ],
          [
           "Madre de Deus"
          ],
          [
           "Ilhéus"
          ],
          [
           "Ibicuí"
          ],
          [
           "Ibicoara"
          ],
          [
           "Maraú"
          ],
          [
           "Maragogipe"
          ],
          [
           "Mascote"
          ],
          [
           "Cordeiros"
          ],
          [
           "Maiquinique"
          ],
          [
           "Mairi"
          ],
          [
           "Malhada"
          ],
          [
           "Manoel Vitorino"
          ],
          [
           "Glória"
          ],
          [
           "Contendas do Sincorá"
          ]
         ],
         "hovertemplate": "Cluster=Cluster 2<br>PCA1=%{x}<br>PCA2=%{y}<br>Feature=%{customdata[0]}<extra></extra>",
         "legendgroup": "Cluster 2",
         "marker": {
          "color": "#00cc96",
          "opacity": 0.5,
          "symbol": "circle"
         },
         "mode": "markers",
         "name": "Cluster 2",
         "orientation": "v",
         "showlegend": true,
         "textposition": "top center",
         "type": "scatter",
         "x": [
          0.040574558414649235,
          -0.53422706245672,
          -0.2816389670014951,
          0.08731567186086937,
          -0.08402301337829589,
          0.09764481919265834,
          -0.5856425196574451,
          0.019252036307919572,
          -0.10991269954888355,
          -0.07658427028069947,
          -0.27282993523881083,
          -0.3233284192495604,
          -0.06483819736747476,
          -0.3617705631544297,
          0.0022531127085690344,
          -0.4061675905294048,
          0.49140549441512804,
          0.27903802075285455,
          -0.22982000751042897,
          0.14142185447205027,
          -0.5482381246113025,
          0.38387455496722833,
          -0.5620460992638757,
          0.40880903652222766,
          -0.07209790738589715,
          0.218979278770422,
          -0.11090299805667357,
          0.17570843221432816,
          -0.15162283627645848,
          -0.5884147047315882,
          0.3699073408104097,
          0.27423705234759677,
          -0.5710274629541651,
          0.2868759665580351,
          -0.2722864834644365,
          0.07179131149372461,
          -0.47209142829750994,
          -0.39288102744740966,
          0.14952606453216957,
          -0.43872635573790936,
          0.15551650671423956,
          -0.38667568359431986,
          -0.03608119301098799,
          -0.5048560311916263,
          -0.28763599413022906,
          0.322797702761076,
          0.28640247015815784,
          -0.5170718044766506,
          0.4779706538283565,
          0.17636646206061993,
          0.1157735646990416,
          -0.228438718110891,
          -0.25135828345770966,
          -0.5553276331260133,
          -0.2661204168814052,
          -0.31774438448138626,
          -0.4374862940767807,
          -0.5803258724586728,
          -0.1434665664027408,
          0.11652169210964655,
          -0.15232579869996501,
          -0.4050607772007031,
          0.010978554383643492,
          0.3123169467161737,
          -0.15056645589221096,
          -0.3498729589980824,
          0.046969471261601475,
          -0.35671712014717705,
          -0.48694923712268184,
          0.2437540172664309,
          -0.5349339758482241,
          0.36549139810986186,
          0.24382745878918727,
          -0.2825865795609336,
          -0.46153211771244307,
          -0.5541524525569744,
          -0.5515320311358675,
          -0.41252082453749656,
          0.11358054505118655,
          -0.022773480629718245,
          -0.5313016418002867,
          0.34377904716082625,
          -0.22929274695778695,
          0.4648398053673937,
          0.3457334593296883,
          -0.18289288868853693,
          -0.24088883802707117,
          -0.36561617200420965,
          -0.08233897137232327,
          -0.5514542125603302,
          -0.28380649903227606,
          0.025408883965603687,
          0.3936839563325959,
          -0.3032349580695384,
          -0.5433538759982784,
          -0.5909341827938879,
          -0.2125766661849969,
          -0.5402120817415418,
          -0.5973558227772877,
          0.35168996966896865,
          -0.33111523488063926,
          -0.39320113332507317,
          -0.2916415009789185,
          0.17819118951524934,
          0.2575452196725115,
          -0.5850284540138555,
          -0.25738041085371377,
          0.181455928599606,
          0.21720552654994396,
          -0.08105258267471091,
          -0.39687034307434144,
          -0.44027312097352933,
          -0.4732398429951138,
          0.16835622306284698,
          0.3047453426359551,
          0.2190460578765572,
          -0.5323594553788373,
          0.45370163923588114,
          -0.12664706323240016,
          -0.47011478224992304,
          -0.4771510689016168,
          0.016364808342117513,
          0.02830502097688893,
          -0.4564756533767221,
          -0.47294568955428684,
          0.3887590359901666,
          -0.3904414983845643,
          -0.15104692458851976,
          -0.10676873613327865,
          -0.1680047116387329,
          -0.4804668606900827,
          -0.30890940028186414,
          -0.000553081678327788,
          -0.09794583724762665,
          -0.3620863307142947,
          -0.22341765754721432,
          -0.31871144200096324,
          -0.37376841343997097,
          0.4845218235860699,
          -0.5431266178684958,
          -0.09447247155907215,
          -0.4384218213223776,
          -0.4207370561608367,
          -0.5595724834183504,
          -0.42475937399100194
         ],
         "xaxis": "x",
         "y": [
          -0.24110902733481865,
          0.22101767617627488,
          -0.20088679149400718,
          0.59503015641524,
          0.15998640235170491,
          -0.19425156229480495,
          -0.029757092210336865,
          -0.15149567498788108,
          -0.01490024319095173,
          -0.10986927994977573,
          0.12722659618116522,
          -0.5602815438067639,
          -0.17867424262006493,
          0.08570170687100324,
          -0.2308359992242893,
          0.07913038521607546,
          0.13585165667991186,
          -0.6670103173842944,
          0.4714021699677147,
          -0.10336561795193917,
          0.006347259138927789,
          -0.13519047065745118,
          9.694381464381113,
          0.038159519709943183,
          -1.2049814558989973,
          -1.2285473203287167,
          -0.5335913458081316,
          0.03971992391009419,
          -0.009273881885238549,
          0.6665174826015293,
          0.01739622090835051,
          -0.36272549299369233,
          0.0027060565591275733,
          -0.2022405869890801,
          0.34276892541460946,
          0.5637437871279375,
          -0.15556463035258672,
          -0.15678555111209364,
          -0.06349554984531977,
          0.009332469066516882,
          -0.14873149870758878,
          -0.07932313921166953,
          0.28555771280150427,
          -0.09961251612054857,
          -0.09418447594805991,
          -0.012675838610365302,
          -0.03702666219805998,
          0.4469956600463217,
          -0.11516661470726898,
          -0.22256689451908732,
          -0.04885296521410261,
          -0.0730326283057143,
          -0.12490489799373097,
          -0.27362693253156994,
          -0.07619923484402834,
          -0.20091270754307006,
          -0.1128401272646867,
          -0.2394329580050068,
          0.8258674043815907,
          -0.13488378188497124,
          -0.9045891554920772,
          -0.03794204374312066,
          -0.10239638912838786,
          -0.049870478291720775,
          -0.3619899814522534,
          1.3484178541425826,
          -0.052566778702160616,
          -0.24930207336743576,
          -0.04760473058396166,
          -0.27125755430057635,
          -0.11514675900687152,
          -0.08966454144165933,
          -0.3993261620193951,
          -0.1780350193413184,
          -0.13871001874497732,
          0.615148540054545,
          0.001712013143169855,
          -0.20174947431075824,
          -0.0434065933606702,
          -0.06168728647326354,
          0.10991338076297665,
          -0.2532263455434283,
          0.041190473119370505,
          -0.017990580753044525,
          -0.5004808435265236,
          -0.66643146053923,
          -0.2595838797364274,
          -0.20363675496701134,
          -0.21299908733606468,
          0.07820364340511986,
          -0.12572642188653954,
          -0.15557484720001108,
          0.1962457883025241,
          0.19532656150763766,
          0.19362386307551202,
          0.8097687641175686,
          -0.3515825959024263,
          0.02661361305280965,
          0.18809467927296866,
          -0.026243622179551267,
          -0.0430892707906678,
          -0.23455397379279153,
          -0.2720338054596585,
          -0.10582059879872356,
          -0.48230565273228376,
          -0.18019069242181793,
          -0.3882419844121135,
          -0.2420516858925369,
          -0.09976331769690229,
          0.0477969647142286,
          -0.3688696391358181,
          0.27512165407153466,
          -0.1514258271982986,
          -0.07636301895860223,
          0.19464563031022997,
          -0.18824457909012313,
          -0.16703056949210227,
          -0.20482030316087999,
          -0.18760794601518196,
          -0.10096688475666696,
          0.2153087359826292,
          -0.049810700800930946,
          -0.06846627207692023,
          -0.1967274327670413,
          0.1068143588038196,
          -0.4876684329004523,
          -0.05546851858345865,
          -0.0113248193072669,
          -0.01546314011750603,
          -0.13974011704521563,
          -0.0962511379376603,
          0.0089793250484111,
          -0.27146977343414425,
          -0.18748450111754678,
          -0.20017172309899015,
          0.18739057916345864,
          0.03494641148160184,
          -0.1433666392207121,
          0.5314530174183595,
          -0.14793123226312574,
          0.008639268232615896,
          0.5294865325746371,
          0.6631756016045935,
          0.24801956074111695,
          0.8804254154756167
         ],
         "yaxis": "y"
        },
        {
         "customdata": [
          [
           "Itaju do Colônia"
          ],
          [
           "Itapitanga"
          ],
          [
           "Ibotirama"
          ],
          [
           "Saubara"
          ],
          [
           "Apuarema"
          ],
          [
           "Gongogi"
          ],
          [
           "Una"
          ],
          [
           "Almadina"
          ],
          [
           "Itapetinga"
          ],
          [
           "Ibirapitanga"
          ],
          [
           "Senhor do Bonfim"
          ],
          [
           "Vitória da Conquista"
          ],
          [
           "Ibiquera"
          ],
          [
           "Vera Cruz"
          ],
          [
           "Itapebi"
          ],
          [
           "Itapé"
          ],
          [
           "Itagimirim"
          ],
          [
           "Itajuípe"
          ],
          [
           "Itamaraju"
          ],
          [
           "Alcobaça"
          ],
          [
           "Itabuna"
          ],
          [
           "Teolândia"
          ],
          [
           "Ibicaraí"
          ],
          [
           "Aiquara"
          ],
          [
           "Simões Filho"
          ],
          [
           "Itambé"
          ],
          [
           "Várzea Nova"
          ],
          [
           "Teixeira de Freitas"
          ],
          [
           "Itabela"
          ],
          [
           "Tanquinho"
          ],
          [
           "Guanambi"
          ],
          [
           "Várzea do Poço"
          ],
          [
           "Ipiaú"
          ],
          [
           "Castro Alves"
          ],
          [
           "Gavião"
          ],
          [
           "Prado"
          ],
          [
           "Porto Seguro"
          ],
          [
           "Luís Eduardo Magalhães"
          ],
          [
           "Poções"
          ],
          [
           "Planalto"
          ],
          [
           "Macarani"
          ],
          [
           "Camacan"
          ],
          [
           "Camaçari"
          ],
          [
           "Maracás"
          ],
          [
           "Pau Brasil"
          ],
          [
           "Canavieiras"
          ],
          [
           "Condeúba"
          ],
          [
           "Candeias"
          ],
          [
           "Ibirataia"
          ],
          [
           "Mata de São João"
          ],
          [
           "Conde"
          ],
          [
           "Medeiros Neto"
          ],
          [
           "Conceição do Almeida"
          ],
          [
           "Morro do Chapéu"
          ],
          [
           "Coaraci"
          ],
          [
           "Caravelas"
          ],
          [
           "Mucuri"
          ],
          [
           "Carinhanha"
          ],
          [
           "Lauro de Freitas"
          ],
          [
           "Dário Meira"
          ],
          [
           "Buerarema"
          ],
          [
           "Brumado"
          ],
          [
           "São José da Vitória"
          ],
          [
           "Itororó"
          ],
          [
           "São Francisco do Conde"
          ],
          [
           "São Félix do Coribe"
          ],
          [
           "Floresta Azul"
          ],
          [
           "Aurelino Leal"
          ],
          [
           "Barra do Choça"
          ],
          [
           "Barra do Rocha"
          ],
          [
           "Santa Luzia"
          ],
          [
           "Santa Cruz da Vitória"
          ],
          [
           "Santa Cruz Cabrália"
          ],
          [
           "São Sebastião do Passé"
          ],
          [
           "Barreiras"
          ],
          [
           "Salinas da Margarida"
          ],
          [
           "Belmonte"
          ],
          [
           "Juazeiro"
          ],
          [
           "Eunápolis"
          ],
          [
           "Ribeirão do Largo"
          ],
          [
           "Jussari"
          ],
          [
           "Encruzilhada"
          ],
          [
           "Lajedão"
          ],
          [
           "Dom Macedo Costa"
          ],
          [
           "Rafael Jambeiro"
          ],
          [
           "Dias d'Ávila"
          ],
          [
           "Salvador"
          ],
          [
           "Jaguaquara"
          ]
         ],
         "hovertemplate": "Cluster=Cluster 3<br>PCA1=%{x}<br>PCA2=%{y}<br>Feature=%{customdata[0]}<extra></extra>",
         "legendgroup": "Cluster 3",
         "marker": {
          "color": "#ab63fa",
          "opacity": 0.5,
          "symbol": "circle"
         },
         "mode": "markers",
         "name": "Cluster 3",
         "orientation": "v",
         "showlegend": true,
         "textposition": "top center",
         "type": "scatter",
         "x": [
          1.4426191675070208,
          3.0861911758838207,
          1.7605292366055705,
          0.8653777851629251,
          2.750513216355881,
          3.8842740060727565,
          1.8230992448344978,
          2.1505433870580446,
          8.277475554592414,
          1.4177492958992566,
          0.6291726496494245,
          4.201852813619327,
          1.317092885825051,
          1.1846285494015691,
          1.6339200798127607,
          2.3402694900024166,
          4.126285515141704,
          4.230651806694521,
          1.38133252664726,
          2.4970702398841933,
          3.370114553458009,
          0.7454511871811934,
          1.722095149576616,
          1.4903629746547467,
          1.4634316273924148,
          4.820852673946488,
          1.400026028167239,
          4.148559678245827,
          5.931106908424214,
          0.7442916168092449,
          2.04776089138204,
          0.6103085592759527,
          3.012788388108507,
          0.5674723191994593,
          0.6101221665504799,
          0.6933557374003135,
          4.399372084731558,
          0.6913546883151036,
          0.5520771787267822,
          0.5494554403163425,
          2.549553349348479,
          3.7816706209459174,
          2.653050427942068,
          1.379309785973051,
          9.955740780535272,
          1.4016838853264941,
          0.5644190731078162,
          1.1910013833097226,
          2.593129892369547,
          0.5310657759822768,
          0.7816657598356996,
          1.0097965112239868,
          1.1312455488736455,
          2.7711192962659372,
          2.4573458131896055,
          0.9072614546024993,
          1.8400834491413158,
          1.611535599484582,
          0.9488228490055055,
          1.2458662292461624,
          1.3875439131572844,
          0.7150058025009352,
          7.105992161965741,
          0.6119041305867946,
          1.1505061305060422,
          0.9522062720696719,
          2.1787260291258073,
          2.368507910441891,
          1.622723811210682,
          2.1726970069032996,
          0.712219053074177,
          1.488687144464608,
          5.404738809760828,
          1.2093320155337248,
          1.382514718247736,
          0.9592716874265946,
          5.301473211409823,
          0.5750115408361007,
          2.2136752074420616,
          1.7856998466008225,
          1.9979917095814395,
          0.6742003599745631,
          1.6612502424328401,
          2.3057138590865836,
          1.6298126224957712,
          1.840453135793836,
          3.386838768576674,
          0.8537580657555918
         ],
         "xaxis": "x",
         "y": [
          -0.18812626714887346,
          0.155756671560028,
          -0.029923397361910332,
          0.06822329310858029,
          -0.1434297685516077,
          -0.40994181619937914,
          -0.12560977018348501,
          0.09386079663653306,
          -0.38636531214218556,
          -0.11795536015802861,
          -0.00613972693643545,
          -0.8160700350520803,
          0.5398057634024165,
          -0.20268275461250973,
          -0.28476838626941076,
          0.6261919375911609,
          0.1781558340566395,
          -0.10246618607762267,
          -0.1937581663377437,
          0.2049200377800802,
          -0.14076159700596294,
          -0.18868733665630993,
          -0.16871031586732113,
          1.0240258656749623,
          -0.15294683780212476,
          0.35714090335196697,
          -0.34976713514513114,
          -0.45074759631486333,
          0.48922048986469935,
          -0.09898298333330603,
          -0.7952045923123257,
          -0.3977075169183085,
          0.023620936558197605,
          -0.8159322288180917,
          -0.44636261799738736,
          -0.0020087721180566207,
          -0.3989994031390147,
          -0.26288535762812176,
          -0.00835597489928856,
          -0.049094355503593715,
          -0.12911687063411315,
          -0.2954371593382491,
          -1.9245116200784327,
          0.06997326489480273,
          0.22691099816705781,
          -3.139459720232809,
          -0.046149462023779474,
          13.449358394499729,
          -0.15357783008915443,
          -0.22898332802851615,
          -0.9850048199705846,
          -0.17203528839967624,
          -0.36360039175768327,
          -0.20911128511930754,
          -0.13639054652609278,
          -0.5582100874594175,
          -0.13472378036750582,
          0.28554014141915735,
          -0.06628609857677296,
          0.2545083746550836,
          -0.04495985513742721,
          0.8488398122542823,
          0.3506103797802509,
          -0.23089812907667107,
          -0.14403959615462628,
          -0.24628234696791335,
          -1.0246490745399943,
          0.9722934206993915,
          0.29383906517783653,
          0.04156161253553544,
          -0.10917049192418506,
          -0.0152263011450588,
          0.9425186083705511,
          -0.1672726153578172,
          0.05051004366472085,
          -0.04106483581250493,
          0.22502831572182708,
          -0.057130708354616346,
          1.4231768584044686,
          -0.620869215893846,
          -0.1477298384380901,
          -0.21403920520221006,
          -0.4480938835395314,
          -0.9487689402171661,
          -0.04126198907098708,
          1.223283696871929,
          -0.8256698173687135,
          0.30426827175738663
         ],
         "yaxis": "y"
        }
       ],
       "layout": {
        "height": 600,
        "legend": {
         "title": {
          "text": "Cluster"
         },
         "tracegroupgap": 0
        },
        "margin": {
         "t": 60
        },
        "plot_bgcolor": "rgb(240,240,240)",
        "template": {
         "data": {
          "bar": [
           {
            "error_x": {
             "color": "#2a3f5f"
            },
            "error_y": {
             "color": "#2a3f5f"
            },
            "marker": {
             "line": {
              "color": "#E5ECF6",
              "width": 0.5
             },
             "pattern": {
              "fillmode": "overlay",
              "size": 10,
              "solidity": 0.2
             }
            },
            "type": "bar"
           }
          ],
          "barpolar": [
           {
            "marker": {
             "line": {
              "color": "#E5ECF6",
              "width": 0.5
             },
             "pattern": {
              "fillmode": "overlay",
              "size": 10,
              "solidity": 0.2
             }
            },
            "type": "barpolar"
           }
          ],
          "carpet": [
           {
            "aaxis": {
             "endlinecolor": "#2a3f5f",
             "gridcolor": "white",
             "linecolor": "white",
             "minorgridcolor": "white",
             "startlinecolor": "#2a3f5f"
            },
            "baxis": {
             "endlinecolor": "#2a3f5f",
             "gridcolor": "white",
             "linecolor": "white",
             "minorgridcolor": "white",
             "startlinecolor": "#2a3f5f"
            },
            "type": "carpet"
           }
          ],
          "choropleth": [
           {
            "colorbar": {
             "outlinewidth": 0,
             "ticks": ""
            },
            "type": "choropleth"
           }
          ],
          "contour": [
           {
            "colorbar": {
             "outlinewidth": 0,
             "ticks": ""
            },
            "colorscale": [
             [
              0,
              "#0d0887"
             ],
             [
              0.1111111111111111,
              "#46039f"
             ],
             [
              0.2222222222222222,
              "#7201a8"
             ],
             [
              0.3333333333333333,
              "#9c179e"
             ],
             [
              0.4444444444444444,
              "#bd3786"
             ],
             [
              0.5555555555555556,
              "#d8576b"
             ],
             [
              0.6666666666666666,
              "#ed7953"
             ],
             [
              0.7777777777777778,
              "#fb9f3a"
             ],
             [
              0.8888888888888888,
              "#fdca26"
             ],
             [
              1,
              "#f0f921"
             ]
            ],
            "type": "contour"
           }
          ],
          "contourcarpet": [
           {
            "colorbar": {
             "outlinewidth": 0,
             "ticks": ""
            },
            "type": "contourcarpet"
           }
          ],
          "heatmap": [
           {
            "colorbar": {
             "outlinewidth": 0,
             "ticks": ""
            },
            "colorscale": [
             [
              0,
              "#0d0887"
             ],
             [
              0.1111111111111111,
              "#46039f"
             ],
             [
              0.2222222222222222,
              "#7201a8"
             ],
             [
              0.3333333333333333,
              "#9c179e"
             ],
             [
              0.4444444444444444,
              "#bd3786"
             ],
             [
              0.5555555555555556,
              "#d8576b"
             ],
             [
              0.6666666666666666,
              "#ed7953"
             ],
             [
              0.7777777777777778,
              "#fb9f3a"
             ],
             [
              0.8888888888888888,
              "#fdca26"
             ],
             [
              1,
              "#f0f921"
             ]
            ],
            "type": "heatmap"
           }
          ],
          "heatmapgl": [
           {
            "colorbar": {
             "outlinewidth": 0,
             "ticks": ""
            },
            "colorscale": [
             [
              0,
              "#0d0887"
             ],
             [
              0.1111111111111111,
              "#46039f"
             ],
             [
              0.2222222222222222,
              "#7201a8"
             ],
             [
              0.3333333333333333,
              "#9c179e"
             ],
             [
              0.4444444444444444,
              "#bd3786"
             ],
             [
              0.5555555555555556,
              "#d8576b"
             ],
             [
              0.6666666666666666,
              "#ed7953"
             ],
             [
              0.7777777777777778,
              "#fb9f3a"
             ],
             [
              0.8888888888888888,
              "#fdca26"
             ],
             [
              1,
              "#f0f921"
             ]
            ],
            "type": "heatmapgl"
           }
          ],
          "histogram": [
           {
            "marker": {
             "pattern": {
              "fillmode": "overlay",
              "size": 10,
              "solidity": 0.2
             }
            },
            "type": "histogram"
           }
          ],
          "histogram2d": [
           {
            "colorbar": {
             "outlinewidth": 0,
             "ticks": ""
            },
            "colorscale": [
             [
              0,
              "#0d0887"
             ],
             [
              0.1111111111111111,
              "#46039f"
             ],
             [
              0.2222222222222222,
              "#7201a8"
             ],
             [
              0.3333333333333333,
              "#9c179e"
             ],
             [
              0.4444444444444444,
              "#bd3786"
             ],
             [
              0.5555555555555556,
              "#d8576b"
             ],
             [
              0.6666666666666666,
              "#ed7953"
             ],
             [
              0.7777777777777778,
              "#fb9f3a"
             ],
             [
              0.8888888888888888,
              "#fdca26"
             ],
             [
              1,
              "#f0f921"
             ]
            ],
            "type": "histogram2d"
           }
          ],
          "histogram2dcontour": [
           {
            "colorbar": {
             "outlinewidth": 0,
             "ticks": ""
            },
            "colorscale": [
             [
              0,
              "#0d0887"
             ],
             [
              0.1111111111111111,
              "#46039f"
             ],
             [
              0.2222222222222222,
              "#7201a8"
             ],
             [
              0.3333333333333333,
              "#9c179e"
             ],
             [
              0.4444444444444444,
              "#bd3786"
             ],
             [
              0.5555555555555556,
              "#d8576b"
             ],
             [
              0.6666666666666666,
              "#ed7953"
             ],
             [
              0.7777777777777778,
              "#fb9f3a"
             ],
             [
              0.8888888888888888,
              "#fdca26"
             ],
             [
              1,
              "#f0f921"
             ]
            ],
            "type": "histogram2dcontour"
           }
          ],
          "mesh3d": [
           {
            "colorbar": {
             "outlinewidth": 0,
             "ticks": ""
            },
            "type": "mesh3d"
           }
          ],
          "parcoords": [
           {
            "line": {
             "colorbar": {
              "outlinewidth": 0,
              "ticks": ""
             }
            },
            "type": "parcoords"
           }
          ],
          "pie": [
           {
            "automargin": true,
            "type": "pie"
           }
          ],
          "scatter": [
           {
            "fillpattern": {
             "fillmode": "overlay",
             "size": 10,
             "solidity": 0.2
            },
            "type": "scatter"
           }
          ],
          "scatter3d": [
           {
            "line": {
             "colorbar": {
              "outlinewidth": 0,
              "ticks": ""
             }
            },
            "marker": {
             "colorbar": {
              "outlinewidth": 0,
              "ticks": ""
             }
            },
            "type": "scatter3d"
           }
          ],
          "scattercarpet": [
           {
            "marker": {
             "colorbar": {
              "outlinewidth": 0,
              "ticks": ""
             }
            },
            "type": "scattercarpet"
           }
          ],
          "scattergeo": [
           {
            "marker": {
             "colorbar": {
              "outlinewidth": 0,
              "ticks": ""
             }
            },
            "type": "scattergeo"
           }
          ],
          "scattergl": [
           {
            "marker": {
             "colorbar": {
              "outlinewidth": 0,
              "ticks": ""
             }
            },
            "type": "scattergl"
           }
          ],
          "scattermapbox": [
           {
            "marker": {
             "colorbar": {
              "outlinewidth": 0,
              "ticks": ""
             }
            },
            "type": "scattermapbox"
           }
          ],
          "scatterpolar": [
           {
            "marker": {
             "colorbar": {
              "outlinewidth": 0,
              "ticks": ""
             }
            },
            "type": "scatterpolar"
           }
          ],
          "scatterpolargl": [
           {
            "marker": {
             "colorbar": {
              "outlinewidth": 0,
              "ticks": ""
             }
            },
            "type": "scatterpolargl"
           }
          ],
          "scatterternary": [
           {
            "marker": {
             "colorbar": {
              "outlinewidth": 0,
              "ticks": ""
             }
            },
            "type": "scatterternary"
           }
          ],
          "surface": [
           {
            "colorbar": {
             "outlinewidth": 0,
             "ticks": ""
            },
            "colorscale": [
             [
              0,
              "#0d0887"
             ],
             [
              0.1111111111111111,
              "#46039f"
             ],
             [
              0.2222222222222222,
              "#7201a8"
             ],
             [
              0.3333333333333333,
              "#9c179e"
             ],
             [
              0.4444444444444444,
              "#bd3786"
             ],
             [
              0.5555555555555556,
              "#d8576b"
             ],
             [
              0.6666666666666666,
              "#ed7953"
             ],
             [
              0.7777777777777778,
              "#fb9f3a"
             ],
             [
              0.8888888888888888,
              "#fdca26"
             ],
             [
              1,
              "#f0f921"
             ]
            ],
            "type": "surface"
           }
          ],
          "table": [
           {
            "cells": {
             "fill": {
              "color": "#EBF0F8"
             },
             "line": {
              "color": "white"
             }
            },
            "header": {
             "fill": {
              "color": "#C8D4E3"
             },
             "line": {
              "color": "white"
             }
            },
            "type": "table"
           }
          ]
         },
         "layout": {
          "annotationdefaults": {
           "arrowcolor": "#2a3f5f",
           "arrowhead": 0,
           "arrowwidth": 1
          },
          "autotypenumbers": "strict",
          "coloraxis": {
           "colorbar": {
            "outlinewidth": 0,
            "ticks": ""
           }
          },
          "colorscale": {
           "diverging": [
            [
             0,
             "#8e0152"
            ],
            [
             0.1,
             "#c51b7d"
            ],
            [
             0.2,
             "#de77ae"
            ],
            [
             0.3,
             "#f1b6da"
            ],
            [
             0.4,
             "#fde0ef"
            ],
            [
             0.5,
             "#f7f7f7"
            ],
            [
             0.6,
             "#e6f5d0"
            ],
            [
             0.7,
             "#b8e186"
            ],
            [
             0.8,
             "#7fbc41"
            ],
            [
             0.9,
             "#4d9221"
            ],
            [
             1,
             "#276419"
            ]
           ],
           "sequential": [
            [
             0,
             "#0d0887"
            ],
            [
             0.1111111111111111,
             "#46039f"
            ],
            [
             0.2222222222222222,
             "#7201a8"
            ],
            [
             0.3333333333333333,
             "#9c179e"
            ],
            [
             0.4444444444444444,
             "#bd3786"
            ],
            [
             0.5555555555555556,
             "#d8576b"
            ],
            [
             0.6666666666666666,
             "#ed7953"
            ],
            [
             0.7777777777777778,
             "#fb9f3a"
            ],
            [
             0.8888888888888888,
             "#fdca26"
            ],
            [
             1,
             "#f0f921"
            ]
           ],
           "sequentialminus": [
            [
             0,
             "#0d0887"
            ],
            [
             0.1111111111111111,
             "#46039f"
            ],
            [
             0.2222222222222222,
             "#7201a8"
            ],
            [
             0.3333333333333333,
             "#9c179e"
            ],
            [
             0.4444444444444444,
             "#bd3786"
            ],
            [
             0.5555555555555556,
             "#d8576b"
            ],
            [
             0.6666666666666666,
             "#ed7953"
            ],
            [
             0.7777777777777778,
             "#fb9f3a"
            ],
            [
             0.8888888888888888,
             "#fdca26"
            ],
            [
             1,
             "#f0f921"
            ]
           ]
          },
          "colorway": [
           "#636efa",
           "#EF553B",
           "#00cc96",
           "#ab63fa",
           "#FFA15A",
           "#19d3f3",
           "#FF6692",
           "#B6E880",
           "#FF97FF",
           "#FECB52"
          ],
          "font": {
           "color": "#2a3f5f"
          },
          "geo": {
           "bgcolor": "white",
           "lakecolor": "white",
           "landcolor": "#E5ECF6",
           "showlakes": true,
           "showland": true,
           "subunitcolor": "white"
          },
          "hoverlabel": {
           "align": "left"
          },
          "hovermode": "closest",
          "mapbox": {
           "style": "light"
          },
          "paper_bgcolor": "white",
          "plot_bgcolor": "#E5ECF6",
          "polar": {
           "angularaxis": {
            "gridcolor": "white",
            "linecolor": "white",
            "ticks": ""
           },
           "bgcolor": "#E5ECF6",
           "radialaxis": {
            "gridcolor": "white",
            "linecolor": "white",
            "ticks": ""
           }
          },
          "scene": {
           "xaxis": {
            "backgroundcolor": "#E5ECF6",
            "gridcolor": "white",
            "gridwidth": 2,
            "linecolor": "white",
            "showbackground": true,
            "ticks": "",
            "zerolinecolor": "white"
           },
           "yaxis": {
            "backgroundcolor": "#E5ECF6",
            "gridcolor": "white",
            "gridwidth": 2,
            "linecolor": "white",
            "showbackground": true,
            "ticks": "",
            "zerolinecolor": "white"
           },
           "zaxis": {
            "backgroundcolor": "#E5ECF6",
            "gridcolor": "white",
            "gridwidth": 2,
            "linecolor": "white",
            "showbackground": true,
            "ticks": "",
            "zerolinecolor": "white"
           }
          },
          "shapedefaults": {
           "line": {
            "color": "#2a3f5f"
           }
          },
          "ternary": {
           "aaxis": {
            "gridcolor": "white",
            "linecolor": "white",
            "ticks": ""
           },
           "baxis": {
            "gridcolor": "white",
            "linecolor": "white",
            "ticks": ""
           },
           "bgcolor": "#E5ECF6",
           "caxis": {
            "gridcolor": "white",
            "linecolor": "white",
            "ticks": ""
           }
          },
          "title": {
           "x": 0.05
          },
          "xaxis": {
           "automargin": true,
           "gridcolor": "white",
           "linecolor": "white",
           "ticks": "",
           "title": {
            "standoff": 15
           },
           "zerolinecolor": "white",
           "zerolinewidth": 2
          },
          "yaxis": {
           "automargin": true,
           "gridcolor": "white",
           "linecolor": "white",
           "ticks": "",
           "title": {
            "standoff": 15
           },
           "zerolinecolor": "white",
           "zerolinewidth": 2
          }
         }
        },
        "title": {
         "text": "2D Cluster PCA Plot"
        },
        "xaxis": {
         "anchor": "y",
         "domain": [
          0,
          1
         ],
         "title": {
          "text": "PCA1"
         }
        },
        "yaxis": {
         "anchor": "x",
         "domain": [
          0,
          1
         ],
         "title": {
          "text": "PCA2"
         }
        }
       }
      }
     },
     "metadata": {},
     "output_type": "display_data"
    }
   ],
   "source": [
    "plot_model(modelo, plot = 'cluster', feature = 'Nome Município', label=False)"
   ]
  },
  {
   "cell_type": "code",
   "execution_count": 160,
   "id": "1973e54f",
   "metadata": {},
   "outputs": [
    {
     "name": "stdout",
     "output_type": "stream",
     "text": [
      "Transformation Pipeline and Model Successfully Saved\n"
     ]
    },
    {
     "data": {
      "text/plain": [
       "(Pipeline(memory=Memory(location=None),\n",
       "          steps=[('numerical_imputer',\n",
       "                  TransformerWrapper(include=['Porcentagem de Casos'],\n",
       "                                     transformer=SimpleImputer())),\n",
       "                 ('categorical_imputer',\n",
       "                  TransformerWrapper(include=['Nome Município'],\n",
       "                                     transformer=SimpleImputer(strategy='most_frequent'))),\n",
       "                 ('onehot_encoding',\n",
       "                  TransformerWrapper(include=['Nome Município'],\n",
       "                                     transformer=OneHotEncoder(cols=['Nome '\n",
       "                                                                     'Município'],\n",
       "                                                               handle_missing='return_nan',\n",
       "                                                               use_cat_names=True))),\n",
       "                 ('normalize', TransformerWrapper(transformer=StandardScaler())),\n",
       "                 ('trained_model', KMeans(n_clusters=4, random_state=4868))]),\n",
       " 'kmeans_pipeline.pkl')"
      ]
     },
     "execution_count": 160,
     "metadata": {},
     "output_type": "execute_result"
    }
   ],
   "source": [
    "# save pipeline\n",
    "save_model(modelo, 'kmeans_pipeline')"
   ]
  },
  {
   "cell_type": "code",
   "execution_count": 161,
   "id": "0e7dc580",
   "metadata": {},
   "outputs": [],
   "source": [
    "# forming dataframe \n",
    "excel = pd.DataFrame(data= cluster)  \n",
    "\n",
    "excel.to_excel('resultados_modelo_oficial.xlsx', index=False)"
   ]
  },
  {
   "cell_type": "code",
   "execution_count": 162,
   "id": "57f35f22",
   "metadata": {},
   "outputs": [],
   "source": [
    "#kmeans_pipeline = load_model('kmeans_pipeline')\n",
    "#kmeans_pipeline"
   ]
  },
  {
   "cell_type": "code",
   "execution_count": 163,
   "id": "a6a2e5ba",
   "metadata": {},
   "outputs": [],
   "source": [
    "resultado_excel = pd.read_excel('resultados_modelo_oficial.xlsx')"
   ]
  },
  {
   "cell_type": "code",
   "execution_count": 164,
   "id": "cd33cbf2",
   "metadata": {},
   "outputs": [
    {
     "ename": "KeyError",
     "evalue": "'qtd_casos'",
     "output_type": "error",
     "traceback": [
      "\u001b[1;31m---------------------------------------------------------------------------\u001b[0m",
      "\u001b[1;31mKeyError\u001b[0m                                  Traceback (most recent call last)",
      "File \u001b[1;32mc:\\Users\\lucla\\Desktop\\new_sifilis\\.venv\\Lib\\site-packages\\pandas\\core\\indexes\\base.py:3791\u001b[0m, in \u001b[0;36mIndex.get_loc\u001b[1;34m(self, key)\u001b[0m\n\u001b[0;32m   3790\u001b[0m \u001b[38;5;28;01mtry\u001b[39;00m:\n\u001b[1;32m-> 3791\u001b[0m     \u001b[38;5;28;01mreturn\u001b[39;00m \u001b[38;5;28;43mself\u001b[39;49m\u001b[38;5;241;43m.\u001b[39;49m\u001b[43m_engine\u001b[49m\u001b[38;5;241;43m.\u001b[39;49m\u001b[43mget_loc\u001b[49m\u001b[43m(\u001b[49m\u001b[43mcasted_key\u001b[49m\u001b[43m)\u001b[49m\n\u001b[0;32m   3792\u001b[0m \u001b[38;5;28;01mexcept\u001b[39;00m \u001b[38;5;167;01mKeyError\u001b[39;00m \u001b[38;5;28;01mas\u001b[39;00m err:\n",
      "File \u001b[1;32mindex.pyx:152\u001b[0m, in \u001b[0;36mpandas._libs.index.IndexEngine.get_loc\u001b[1;34m()\u001b[0m\n",
      "File \u001b[1;32mindex.pyx:181\u001b[0m, in \u001b[0;36mpandas._libs.index.IndexEngine.get_loc\u001b[1;34m()\u001b[0m\n",
      "File \u001b[1;32mpandas\\_libs\\hashtable_class_helper.pxi:7080\u001b[0m, in \u001b[0;36mpandas._libs.hashtable.PyObjectHashTable.get_item\u001b[1;34m()\u001b[0m\n",
      "File \u001b[1;32mpandas\\_libs\\hashtable_class_helper.pxi:7088\u001b[0m, in \u001b[0;36mpandas._libs.hashtable.PyObjectHashTable.get_item\u001b[1;34m()\u001b[0m\n",
      "\u001b[1;31mKeyError\u001b[0m: 'qtd_casos'",
      "\nThe above exception was the direct cause of the following exception:\n",
      "\u001b[1;31mKeyError\u001b[0m                                  Traceback (most recent call last)",
      "Cell \u001b[1;32mIn[164], line 10\u001b[0m\n\u001b[0;32m      8\u001b[0m \u001b[38;5;28;01mfor\u001b[39;00m indice, linha \u001b[38;5;129;01min\u001b[39;00m resultado_excel\u001b[38;5;241m.\u001b[39miterrows():\n\u001b[0;32m      9\u001b[0m     \u001b[38;5;28;01mif\u001b[39;00m(linha[\u001b[38;5;124m'\u001b[39m\u001b[38;5;124mCluster\u001b[39m\u001b[38;5;124m'\u001b[39m] \u001b[38;5;241m==\u001b[39m \u001b[38;5;124m'\u001b[39m\u001b[38;5;124mCluster 3\u001b[39m\u001b[38;5;124m'\u001b[39m):\n\u001b[1;32m---> 10\u001b[0m         total_casos_cluster_3 \u001b[38;5;241m+\u001b[39m\u001b[38;5;241m=\u001b[39m \u001b[43mlinha\u001b[49m\u001b[43m[\u001b[49m\u001b[38;5;124;43m'\u001b[39;49m\u001b[38;5;124;43mqtd_casos\u001b[39;49m\u001b[38;5;124;43m'\u001b[39;49m\u001b[43m]\u001b[49m\n\u001b[0;32m     11\u001b[0m         qtd_cidades \u001b[38;5;241m=\u001b[39m qtd_cidades \u001b[38;5;241m+\u001b[39m \u001b[38;5;241m1\u001b[39m\n\u001b[0;32m     13\u001b[0m         \u001b[38;5;28;01mif\u001b[39;00m(linha[\u001b[38;5;124m'\u001b[39m\u001b[38;5;124mlitoral\u001b[39m\u001b[38;5;124m'\u001b[39m] \u001b[38;5;241m==\u001b[39m \u001b[38;5;241m2\u001b[39m):\n",
      "File \u001b[1;32mc:\\Users\\lucla\\Desktop\\new_sifilis\\.venv\\Lib\\site-packages\\pandas\\core\\series.py:1040\u001b[0m, in \u001b[0;36mSeries.__getitem__\u001b[1;34m(self, key)\u001b[0m\n\u001b[0;32m   1037\u001b[0m     \u001b[38;5;28;01mreturn\u001b[39;00m \u001b[38;5;28mself\u001b[39m\u001b[38;5;241m.\u001b[39m_values[key]\n\u001b[0;32m   1039\u001b[0m \u001b[38;5;28;01melif\u001b[39;00m key_is_scalar:\n\u001b[1;32m-> 1040\u001b[0m     \u001b[38;5;28;01mreturn\u001b[39;00m \u001b[38;5;28;43mself\u001b[39;49m\u001b[38;5;241;43m.\u001b[39;49m\u001b[43m_get_value\u001b[49m\u001b[43m(\u001b[49m\u001b[43mkey\u001b[49m\u001b[43m)\u001b[49m\n\u001b[0;32m   1042\u001b[0m \u001b[38;5;66;03m# Convert generator to list before going through hashable part\u001b[39;00m\n\u001b[0;32m   1043\u001b[0m \u001b[38;5;66;03m# (We will iterate through the generator there to check for slices)\u001b[39;00m\n\u001b[0;32m   1044\u001b[0m \u001b[38;5;28;01mif\u001b[39;00m is_iterator(key):\n",
      "File \u001b[1;32mc:\\Users\\lucla\\Desktop\\new_sifilis\\.venv\\Lib\\site-packages\\pandas\\core\\series.py:1156\u001b[0m, in \u001b[0;36mSeries._get_value\u001b[1;34m(self, label, takeable)\u001b[0m\n\u001b[0;32m   1153\u001b[0m     \u001b[38;5;28;01mreturn\u001b[39;00m \u001b[38;5;28mself\u001b[39m\u001b[38;5;241m.\u001b[39m_values[label]\n\u001b[0;32m   1155\u001b[0m \u001b[38;5;66;03m# Similar to Index.get_value, but we do not fall back to positional\u001b[39;00m\n\u001b[1;32m-> 1156\u001b[0m loc \u001b[38;5;241m=\u001b[39m \u001b[38;5;28;43mself\u001b[39;49m\u001b[38;5;241;43m.\u001b[39;49m\u001b[43mindex\u001b[49m\u001b[38;5;241;43m.\u001b[39;49m\u001b[43mget_loc\u001b[49m\u001b[43m(\u001b[49m\u001b[43mlabel\u001b[49m\u001b[43m)\u001b[49m\n\u001b[0;32m   1158\u001b[0m \u001b[38;5;28;01mif\u001b[39;00m is_integer(loc):\n\u001b[0;32m   1159\u001b[0m     \u001b[38;5;28;01mreturn\u001b[39;00m \u001b[38;5;28mself\u001b[39m\u001b[38;5;241m.\u001b[39m_values[loc]\n",
      "File \u001b[1;32mc:\\Users\\lucla\\Desktop\\new_sifilis\\.venv\\Lib\\site-packages\\pandas\\core\\indexes\\base.py:3798\u001b[0m, in \u001b[0;36mIndex.get_loc\u001b[1;34m(self, key)\u001b[0m\n\u001b[0;32m   3793\u001b[0m     \u001b[38;5;28;01mif\u001b[39;00m \u001b[38;5;28misinstance\u001b[39m(casted_key, \u001b[38;5;28mslice\u001b[39m) \u001b[38;5;129;01mor\u001b[39;00m (\n\u001b[0;32m   3794\u001b[0m         \u001b[38;5;28misinstance\u001b[39m(casted_key, abc\u001b[38;5;241m.\u001b[39mIterable)\n\u001b[0;32m   3795\u001b[0m         \u001b[38;5;129;01mand\u001b[39;00m \u001b[38;5;28many\u001b[39m(\u001b[38;5;28misinstance\u001b[39m(x, \u001b[38;5;28mslice\u001b[39m) \u001b[38;5;28;01mfor\u001b[39;00m x \u001b[38;5;129;01min\u001b[39;00m casted_key)\n\u001b[0;32m   3796\u001b[0m     ):\n\u001b[0;32m   3797\u001b[0m         \u001b[38;5;28;01mraise\u001b[39;00m InvalidIndexError(key)\n\u001b[1;32m-> 3798\u001b[0m     \u001b[38;5;28;01mraise\u001b[39;00m \u001b[38;5;167;01mKeyError\u001b[39;00m(key) \u001b[38;5;28;01mfrom\u001b[39;00m \u001b[38;5;21;01merr\u001b[39;00m\n\u001b[0;32m   3799\u001b[0m \u001b[38;5;28;01mexcept\u001b[39;00m \u001b[38;5;167;01mTypeError\u001b[39;00m:\n\u001b[0;32m   3800\u001b[0m     \u001b[38;5;66;03m# If we have a listlike key, _check_indexing_error will raise\u001b[39;00m\n\u001b[0;32m   3801\u001b[0m     \u001b[38;5;66;03m#  InvalidIndexError. Otherwise we fall through and re-raise\u001b[39;00m\n\u001b[0;32m   3802\u001b[0m     \u001b[38;5;66;03m#  the TypeError.\u001b[39;00m\n\u001b[0;32m   3803\u001b[0m     \u001b[38;5;28mself\u001b[39m\u001b[38;5;241m.\u001b[39m_check_indexing_error(key)\n",
      "\u001b[1;31mKeyError\u001b[0m: 'qtd_casos'"
     ]
    }
   ],
   "source": [
    "total_casos_cluster_3 = 0\n",
    "total_casos_litoral = 0\n",
    "total_caso_nao_litoral = 0\n",
    "qtd_cidades_litoral = 0\n",
    "qtd_cidades_nao_litoral = 0\n",
    "qtd_cidades = 0\n",
    "\n",
    "for indice, linha in resultado_excel.iterrows():\n",
    "    if(linha['Cluster'] == 'Cluster 3'):\n",
    "        total_casos_cluster_3 += linha['qtd_casos']\n",
    "        qtd_cidades = qtd_cidades + 1\n",
    "        \n",
    "        if(linha['litoral'] == 2):\n",
    "            total_casos_litoral = total_casos_litoral + linha['qtd_casos']\n",
    "            qtd_cidades_litoral = qtd_cidades_litoral + 1\n",
    "        else:    \n",
    "            total_caso_nao_litoral = total_caso_nao_litoral + linha['qtd_casos']\n",
    "            qtd_cidades_nao_litoral = qtd_cidades_nao_litoral + 1\n",
    "\n",
    "porcentagem_casos_litoral = (total_casos_litoral * 100)/total_casos_cluster_3\n",
    "porcentagem_casos_nao_litoral = (total_caso_nao_litoral * 100)/total_casos_cluster_3\n",
    "\n",
    "print(f\"O número de cidades no cluster 3 é de {qtd_cidades}, tendo o total de casos de {total_casos_cluster_3}\")\n",
    "print(\"\\n\")\n",
    "print(f\"Sendo {qtd_cidades_litoral} cidades no litoral com {total_casos_litoral} casos representando {porcentagem_casos_litoral} %\")\n",
    "print(\"\\n\")\n",
    "print(f\"Sendo {qtd_cidades_nao_litoral} cidades fora do litoral com {total_caso_nao_litoral} casos representando {porcentagem_casos_nao_litoral} %\")"
   ]
  },
  {
   "cell_type": "code",
   "execution_count": null,
   "id": "aca4c612",
   "metadata": {},
   "outputs": [
    {
     "name": "stdout",
     "output_type": "stream",
     "text": [
      "O número de cidades no cluster 2 é de 50, tendo o total de casos de 4370\n",
      "\n",
      "\n",
      "Sendo 12 cidades no litoral com 1744 casos representando 39.90846681922197 %\n",
      "\n",
      "\n",
      "Sendo 38 cidades fora do litoral com 2626 casos representando 60.09153318077803 %\n"
     ]
    }
   ],
   "source": [
    "total_casos_cluster_2 = 0\n",
    "total_casos_litoral = 0\n",
    "total_caso_nao_litoral = 0\n",
    "qtd_cidades_litoral = 0\n",
    "qtd_cidades_nao_litoral = 0\n",
    "qtd_cidades = 0\n",
    "\n",
    "for indice, linha in resultado_excel.iterrows():\n",
    "    if(linha['Cluster'] == 'Cluster 2'):\n",
    "        total_casos_cluster_2 += linha['qtd_casos']\n",
    "        qtd_cidades = qtd_cidades + 1\n",
    "        \n",
    "        if(linha['litoral'] == 2):\n",
    "            total_casos_litoral = total_casos_litoral + linha['qtd_casos']\n",
    "            qtd_cidades_litoral = qtd_cidades_litoral + 1\n",
    "        else:    \n",
    "            total_caso_nao_litoral = total_caso_nao_litoral + linha['qtd_casos']\n",
    "            qtd_cidades_nao_litoral = qtd_cidades_nao_litoral + 1\n",
    "\n",
    "porcentagem_casos_litoral = (total_casos_litoral * 100)/total_casos_cluster_2\n",
    "porcentagem_casos_nao_litoral = (total_caso_nao_litoral * 100)/total_casos_cluster_2\n",
    "\n",
    "print(f\"O número de cidades no cluster 2 é de {qtd_cidades}, tendo o total de casos de {total_casos_cluster_2}\")\n",
    "print(\"\\n\")\n",
    "print(f\"Sendo {qtd_cidades_litoral} cidades no litoral com {total_casos_litoral} casos representando {porcentagem_casos_litoral} %\")\n",
    "print(\"\\n\")\n",
    "print(f\"Sendo {qtd_cidades_nao_litoral} cidades fora do litoral com {total_caso_nao_litoral} casos representando {porcentagem_casos_nao_litoral} %\")"
   ]
  },
  {
   "cell_type": "code",
   "execution_count": null,
   "id": "2c18206a",
   "metadata": {},
   "outputs": [
    {
     "name": "stdout",
     "output_type": "stream",
     "text": [
      "O número de cidades no cluster 1 é de 87, tendo o total de casos de 4934\n",
      "\n",
      "\n",
      "Sendo 9 cidades no litoral com 1549 casos representando 31.39440616132955 %\n",
      "\n",
      "\n",
      "Sendo 78 cidades fora do litoral com 3385 casos representando 68.60559383867044 %\n"
     ]
    }
   ],
   "source": [
    "total_casos_cluster_1 = 0\n",
    "total_casos_litoral = 0\n",
    "total_caso_nao_litoral = 0\n",
    "qtd_cidades_litoral = 0\n",
    "qtd_cidades_nao_litoral = 0\n",
    "qtd_cidades = 0\n",
    "\n",
    "for indice, linha in resultado_excel.iterrows():\n",
    "    if(linha['Cluster'] == 'Cluster 1'):\n",
    "        total_casos_cluster_1 += linha['qtd_casos']\n",
    "        qtd_cidades = qtd_cidades + 1\n",
    "        \n",
    "        if(linha['litoral'] == 2):\n",
    "            total_casos_litoral = total_casos_litoral + linha['qtd_casos']\n",
    "            qtd_cidades_litoral = qtd_cidades_litoral + 1\n",
    "        else:    \n",
    "            total_caso_nao_litoral = total_caso_nao_litoral + linha['qtd_casos']\n",
    "            qtd_cidades_nao_litoral = qtd_cidades_nao_litoral + 1\n",
    "\n",
    "porcentagem_casos_litoral = (total_casos_litoral * 100)/total_casos_cluster_1\n",
    "porcentagem_casos_nao_litoral = (total_caso_nao_litoral * 100)/total_casos_cluster_1\n",
    "\n",
    "print(f\"O número de cidades no cluster 1 é de {qtd_cidades}, tendo o total de casos de {total_casos_cluster_1}\")\n",
    "print(\"\\n\")\n",
    "print(f\"Sendo {qtd_cidades_litoral} cidades no litoral com {total_casos_litoral} casos representando {porcentagem_casos_litoral} %\")\n",
    "print(\"\\n\")\n",
    "print(f\"Sendo {qtd_cidades_nao_litoral} cidades fora do litoral com {total_caso_nao_litoral} casos representando {porcentagem_casos_nao_litoral} %\")"
   ]
  },
  {
   "cell_type": "code",
   "execution_count": null,
   "id": "0b856db5",
   "metadata": {},
   "outputs": [
    {
     "name": "stdout",
     "output_type": "stream",
     "text": [
      "O número de cidades no cluster 0 é de 257, tendo o total de casos de 2069\n",
      "\n",
      "\n",
      "Sendo 6 cidades no litoral com 141 casos representando 6.8148864185596905 %\n",
      "\n",
      "\n",
      "Sendo 251 cidades fora do litoral com 1928 casos representando 93.1851135814403 %\n"
     ]
    }
   ],
   "source": [
    "total_casos_cluster_0 = 0\n",
    "total_casos_litoral = 0\n",
    "total_caso_nao_litoral = 0\n",
    "qtd_cidades_litoral = 0\n",
    "qtd_cidades_nao_litoral = 0\n",
    "qtd_cidades = 0\n",
    "\n",
    "for indice, linha in resultado_excel.iterrows():\n",
    "    if(linha['Cluster'] == 'Cluster 0'):\n",
    "        total_casos_cluster_0 += linha['qtd_casos']\n",
    "        qtd_cidades = qtd_cidades + 1\n",
    "        \n",
    "        if(linha['litoral'] == 2):\n",
    "            total_casos_litoral = total_casos_litoral + linha['qtd_casos']\n",
    "            qtd_cidades_litoral = qtd_cidades_litoral + 1\n",
    "        else:    \n",
    "            total_caso_nao_litoral = total_caso_nao_litoral + linha['qtd_casos']\n",
    "            qtd_cidades_nao_litoral = qtd_cidades_nao_litoral + 1\n",
    "\n",
    "porcentagem_casos_litoral = (total_casos_litoral * 100)/total_casos_cluster_0\n",
    "porcentagem_casos_nao_litoral = (total_caso_nao_litoral * 100)/total_casos_cluster_0\n",
    "\n",
    "print(f\"O número de cidades no cluster 0 é de {qtd_cidades}, tendo o total de casos de {total_casos_cluster_0}\")\n",
    "print(\"\\n\")\n",
    "print(f\"Sendo {qtd_cidades_litoral} cidades no litoral com {total_casos_litoral} casos representando {porcentagem_casos_litoral} %\")\n",
    "print(\"\\n\")\n",
    "print(f\"Sendo {qtd_cidades_nao_litoral} cidades fora do litoral com {total_caso_nao_litoral} casos representando {porcentagem_casos_nao_litoral} %\")"
   ]
  },
  {
   "cell_type": "code",
   "execution_count": null,
   "id": "769b773e",
   "metadata": {},
   "outputs": [
    {
     "name": "stdout",
     "output_type": "stream",
     "text": [
      "Total de cidades: 417 \n",
      "\n",
      "Total de cidades litoraneas: 32 \n",
      "\n",
      "Total de cidade não litoraneas: 385 \n",
      "\n",
      "Total de casos no litoral: 18536.0 \n",
      "\n",
      "Total de casos fora do litoral: nan \n",
      "\n",
      "Total de casos com categoria de turismo 0: nan \n",
      "\n",
      "Total de casos com categoria de turismo 1: 136.0 \n",
      "\n",
      "Total de casos com categoria de turismo 2: 1603.0 \n",
      "\n",
      "Total de casos com categoria de turismo 3: 2152.0 \n",
      "\n",
      "Total de casos com categoria de turismo 4: 7680.0 \n",
      "\n",
      "Total de casos com categoria de turismo 5: 13982.0 \n",
      "\n"
     ]
    }
   ],
   "source": [
    "total_casos_por_cluster = {'Cluster 0': 0, 'Cluster 1': 0, 'Cluster 2': 0, 'Cluster 3': 0}\n",
    "total_casos_litoral = {'Cluster 0': 0, 'Cluster 1': 0, 'Cluster 2': 0, 'Cluster 3': 0}\n",
    "total_casos_nao_litoral = {'Cluster 0': 0, 'Cluster 1': 0, 'Cluster 2': 0, 'Cluster 3': 0}\n",
    "qtd_cidades_litoral = {'Cluster 0': 0, 'Cluster 1': 0, 'Cluster 2': 0, 'Cluster 3': 0}\n",
    "qtd_cidades_nao_litoral = {'Cluster 0': 0, 'Cluster 1': 0, 'Cluster 2': 0, 'Cluster 3': 0}\n",
    "total_casos_por_categoria = {'0': 0, '1':0, '2': 0, '3': 0, '4':0, '5':0}\n",
    "qtd_cidades = 0\n",
    "\n",
    "for indice, linha in resultado_excel.iterrows():\n",
    "    cluster = linha['Cluster']\n",
    "    total_casos_por_cluster[cluster] += linha['qtd_casos']\n",
    "\n",
    "    qtd_cidades += 1\n",
    "    \n",
    "    if linha['litoral'] == 2:\n",
    "        total_casos_litoral[cluster] += linha['qtd_casos']\n",
    "        qtd_cidades_litoral[cluster] += 1\n",
    "    else:    \n",
    "        total_casos_nao_litoral[cluster] += linha['qtd_casos']\n",
    "        qtd_cidades_nao_litoral[cluster] += 1\n",
    "        \n",
    "    if linha['categoria'] == 0:\n",
    "        total_casos_por_categoria['0'] += linha['qtd_casos']\n",
    "    elif linha['categoria'] == 1:\n",
    "        total_casos_por_categoria['1'] += linha['qtd_casos']\n",
    "    elif linha['categoria'] == 2:\n",
    "        total_casos_por_categoria['2'] += linha['qtd_casos']\n",
    "    elif linha['categoria'] == 3:\n",
    "        total_casos_por_categoria['3'] += linha['qtd_casos']\n",
    "    elif linha['categoria'] == 4:\n",
    "        total_casos_por_categoria['4'] += linha['qtd_casos']\n",
    "    else:    \n",
    "        total_casos_por_categoria['5'] += linha['qtd_casos']\n",
    "\n",
    "print(f\"Total de cidades: {qtd_cidades} \\n\")\n",
    "print(f\"Total de cidades litoraneas: {sum(qtd_cidades_litoral.values())} \\n\")\n",
    "print(f\"Total de cidade não litoraneas: {sum(qtd_cidades_nao_litoral.values())} \\n\")\n",
    "print(f\"Total de casos no litoral: {sum(total_casos_litoral.values())} \\n\")\n",
    "print(f\"Total de casos fora do litoral: {sum(total_casos_nao_litoral.values())} \\n\")\n",
    "print(f\"Total de casos com categoria de turismo 0: {total_casos_por_categoria['0']} \\n\")\n",
    "print(f\"Total de casos com categoria de turismo 1: {total_casos_por_categoria['1']} \\n\")\n",
    "print(f\"Total de casos com categoria de turismo 2: {total_casos_por_categoria['2']} \\n\")\n",
    "print(f\"Total de casos com categoria de turismo 3: {total_casos_por_categoria['3']} \\n\")\n",
    "print(f\"Total de casos com categoria de turismo 4: {total_casos_por_categoria['4']} \\n\")\n",
    "print(f\"Total de casos com categoria de turismo 5: {total_casos_por_categoria['5']} \\n\")\n"
   ]
  },
  {
   "cell_type": "markdown",
   "id": "be94f354",
   "metadata": {},
   "source": [
    "\n",
    "    "
   ]
  },
  {
   "cell_type": "code",
   "execution_count": null,
   "id": "619d0778",
   "metadata": {},
   "outputs": [
    {
     "name": "stdout",
     "output_type": "stream",
     "text": [
      "{'Cluster 0': 4, 'Cluster 1': 8, 'Cluster 2': 4, 'Cluster 3': 5}\n",
      "\n",
      "\n",
      "{'Cluster 0': 16, 'Cluster 1': 5, 'Cluster 2': 9, 'Cluster 3': 1}\n"
     ]
    }
   ],
   "source": [
    "qtd_cidade_categoria_4 = {'Cluster 0': 0, 'Cluster 1': 0, 'Cluster 2': 0, 'Cluster 3': 0}\n",
    "qtd_cidade_categoria_3 = {'Cluster 0': 0, 'Cluster 1': 0, 'Cluster 2': 0, 'Cluster 3': 0}\n",
    "qtd_cidade_categoria_2 = {'Cluster 0': 0, 'Cluster 1': 0, 'Cluster 2': 0, 'Cluster 3': 0}\n",
    "qtd_cidade_categoria_1 = {'Cluster 0': 0, 'Cluster 1': 0, 'Cluster 2': 0, 'Cluster 3': 0}\n",
    "qtd_cidade_categoria_0 = {'Cluster 0': 0, 'Cluster 1': 0, 'Cluster 2': 0, 'Cluster 3': 0}\n",
    "\n",
    "for indice, linha in resultado_excel.iterrows():\n",
    "    if linha['Cluster'] == 'Cluster 0':\n",
    "        if linha['categoria'] == 0:\n",
    "            qtd_cidade_categoria_0['Cluster 0'] += 1\n",
    "        elif linha['categoria'] == 1:\n",
    "            qtd_cidade_categoria_1['Cluster 0'] += 1\n",
    "        elif linha['categoria'] == 2:\n",
    "            qtd_cidade_categoria_2['Cluster 0'] += 1\n",
    "        elif linha['categoria'] == 3:\n",
    "            qtd_cidade_categoria_3['Cluster 0'] += 1\n",
    "        elif linha['categoria'] == 4:\n",
    "            qtd_cidade_categoria_4['Cluster 0'] += 1\n",
    "    elif linha['Cluster'] == 'Cluster 1':\n",
    "        if linha['categoria'] == 0:\n",
    "            qtd_cidade_categoria_0['Cluster 1'] += 1\n",
    "        elif linha['categoria'] == 1:\n",
    "            qtd_cidade_categoria_1['Cluster 1'] += 1\n",
    "        elif linha['categoria'] == 2:\n",
    "            qtd_cidade_categoria_2['Cluster 1'] += 1\n",
    "        elif linha['categoria'] == 3:\n",
    "            qtd_cidade_categoria_3['Cluster 1'] += 1\n",
    "        elif linha['categoria'] == 4:\n",
    "            qtd_cidade_categoria_4['Cluster 1'] += 1\n",
    "    elif linha['Cluster'] == 'Cluster 2':\n",
    "        if linha['categoria'] == 0:\n",
    "            qtd_cidade_categoria_0['Cluster 2'] += 1\n",
    "        elif linha['categoria'] == 1:\n",
    "            qtd_cidade_categoria_1['Cluster 2'] += 1\n",
    "        elif linha['categoria'] == 2:\n",
    "            qtd_cidade_categoria_2['Cluster 2'] += 1\n",
    "        elif linha['categoria'] == 3:\n",
    "            qtd_cidade_categoria_3['Cluster 2'] += 1\n",
    "        elif linha['categoria'] == 4:\n",
    "            qtd_cidade_categoria_4['Cluster 2'] += 1\n",
    "    elif linha['Cluster'] == 'Cluster 3':\n",
    "        if linha['categoria'] == 0:\n",
    "            qtd_cidade_categoria_0['Cluster 3'] += 1\n",
    "        elif linha['categoria'] == 1:\n",
    "            qtd_cidade_categoria_1['Cluster 3'] += 1\n",
    "        elif linha['categoria'] == 2:\n",
    "            qtd_cidade_categoria_2['Cluster 3'] += 1\n",
    "        elif linha['categoria'] == 3:\n",
    "            qtd_cidade_categoria_3['Cluster 3'] += 1\n",
    "        elif linha['categoria'] == 4:\n",
    "            qtd_cidade_categoria_4['Cluster 3'] += 1\n",
    "    elif linha['Cluster'] == 'Cluster 4':\n",
    "        if linha['categoria'] == 0:\n",
    "            qtd_cidade_categoria_0['Cluster 4'] += 1\n",
    "        elif linha['categoria'] == 1:\n",
    "            qtd_cidade_categoria_1['Cluster 4'] += 1\n",
    "        elif linha['categoria'] == 2:\n",
    "            qtd_cidade_categoria_2['Cluster 4'] += 1\n",
    "        elif linha['categoria'] == 3:\n",
    "            qtd_cidade_categoria_3['Cluster 4'] += 1\n",
    "        elif linha['categoria'] == 4:\n",
    "            qtd_cidade_categoria_4['Cluster 4'] += 1\n",
    "            \n",
    "print(qtd_cidade_categoria_2)\n",
    "print(\"\\n\")\n",
    "print(qtd_cidade_categoria_3)"
   ]
  },
  {
   "cell_type": "code",
   "execution_count": null,
   "id": "6b7e6841",
   "metadata": {},
   "outputs": [],
   "source": []
  }
 ],
 "metadata": {
  "kernelspec": {
   "display_name": "Python 3 (ipykernel)",
   "language": "python",
   "name": "python3"
  },
  "language_info": {
   "codemirror_mode": {
    "name": "ipython",
    "version": 3
   },
   "file_extension": ".py",
   "mimetype": "text/x-python",
   "name": "python",
   "nbconvert_exporter": "python",
   "pygments_lexer": "ipython3",
   "version": "3.11.7"
  }
 },
 "nbformat": 4,
 "nbformat_minor": 5
}
