{
 "cells": [
  {
   "cell_type": "code",
   "execution_count": 109,
   "id": "0c8c480d",
   "metadata": {},
   "outputs": [],
   "source": [
    "import pycaret\n",
    "import pandas as pd\n",
    "from pycaret.datasets import get_data\n",
    "from pycaret.clustering import *"
   ]
  },
  {
   "cell_type": "code",
   "execution_count": 110,
   "id": "5a907012",
   "metadata": {},
   "outputs": [],
   "source": [
    "dataset = pd.read_excel('C:\\\\Users\\\\lucla\\\\Desktop\\\\new_sifilis\\\\Datasets\\\\TURISMO_OFICIAL.xlsx')\n"
   ]
  },
  {
   "cell_type": "code",
   "execution_count": 111,
   "id": "2171c09c",
   "metadata": {
    "scrolled": false
   },
   "outputs": [
    {
     "data": {
      "text/html": [
       "<div>\n",
       "<style scoped>\n",
       "    .dataframe tbody tr th:only-of-type {\n",
       "        vertical-align: middle;\n",
       "    }\n",
       "\n",
       "    .dataframe tbody tr th {\n",
       "        vertical-align: top;\n",
       "    }\n",
       "\n",
       "    .dataframe thead th {\n",
       "        text-align: right;\n",
       "    }\n",
       "</style>\n",
       "<table border=\"1\" class=\"dataframe\">\n",
       "  <thead>\n",
       "    <tr style=\"text-align: right;\">\n",
       "      <th></th>\n",
       "      <th>Código</th>\n",
       "      <th>Nome Município</th>\n",
       "      <th>SC_BAHIA</th>\n",
       "      <th>TURISMO</th>\n",
       "      <th>CATEGORIA</th>\n",
       "      <th>Habitantes</th>\n",
       "      <th>Porcentagem de Casos</th>\n",
       "    </tr>\n",
       "  </thead>\n",
       "  <tbody>\n",
       "    <tr>\n",
       "      <th>0</th>\n",
       "      <td>290010</td>\n",
       "      <td>Abaíra</td>\n",
       "      <td>2</td>\n",
       "      <td>1</td>\n",
       "      <td>2</td>\n",
       "      <td>9199</td>\n",
       "      <td>0.021741</td>\n",
       "    </tr>\n",
       "    <tr>\n",
       "      <th>1</th>\n",
       "      <td>290020</td>\n",
       "      <td>Abaré</td>\n",
       "      <td>3</td>\n",
       "      <td>0</td>\n",
       "      <td>0</td>\n",
       "      <td>20189</td>\n",
       "      <td>0.014860</td>\n",
       "    </tr>\n",
       "    <tr>\n",
       "      <th>2</th>\n",
       "      <td>290030</td>\n",
       "      <td>Acajutiba</td>\n",
       "      <td>9</td>\n",
       "      <td>0</td>\n",
       "      <td>0</td>\n",
       "      <td>15727</td>\n",
       "      <td>0.057226</td>\n",
       "    </tr>\n",
       "    <tr>\n",
       "      <th>3</th>\n",
       "      <td>290035</td>\n",
       "      <td>Adustina</td>\n",
       "      <td>15</td>\n",
       "      <td>1</td>\n",
       "      <td>2</td>\n",
       "      <td>17349</td>\n",
       "      <td>0.086460</td>\n",
       "    </tr>\n",
       "    <tr>\n",
       "      <th>4</th>\n",
       "      <td>290040</td>\n",
       "      <td>Água Fria</td>\n",
       "      <td>9</td>\n",
       "      <td>0</td>\n",
       "      <td>0</td>\n",
       "      <td>17508</td>\n",
       "      <td>0.051405</td>\n",
       "    </tr>\n",
       "    <tr>\n",
       "      <th>...</th>\n",
       "      <td>...</td>\n",
       "      <td>...</td>\n",
       "      <td>...</td>\n",
       "      <td>...</td>\n",
       "      <td>...</td>\n",
       "      <td>...</td>\n",
       "      <td>...</td>\n",
       "    </tr>\n",
       "    <tr>\n",
       "      <th>412</th>\n",
       "      <td>293330</td>\n",
       "      <td>Vitória da Conquista</td>\n",
       "      <td>1795</td>\n",
       "      <td>1</td>\n",
       "      <td>4</td>\n",
       "      <td>348718</td>\n",
       "      <td>0.514743</td>\n",
       "    </tr>\n",
       "    <tr>\n",
       "      <th>413</th>\n",
       "      <td>293340</td>\n",
       "      <td>Wagner</td>\n",
       "      <td>5</td>\n",
       "      <td>0</td>\n",
       "      <td>0</td>\n",
       "      <td>9753</td>\n",
       "      <td>0.051266</td>\n",
       "    </tr>\n",
       "    <tr>\n",
       "      <th>414</th>\n",
       "      <td>293345</td>\n",
       "      <td>Wanderley</td>\n",
       "      <td>11</td>\n",
       "      <td>0</td>\n",
       "      <td>0</td>\n",
       "      <td>12935</td>\n",
       "      <td>0.085041</td>\n",
       "    </tr>\n",
       "    <tr>\n",
       "      <th>415</th>\n",
       "      <td>293350</td>\n",
       "      <td>Wenceslau Guimarães</td>\n",
       "      <td>23</td>\n",
       "      <td>0</td>\n",
       "      <td>0</td>\n",
       "      <td>22365</td>\n",
       "      <td>0.102839</td>\n",
       "    </tr>\n",
       "    <tr>\n",
       "      <th>416</th>\n",
       "      <td>293360</td>\n",
       "      <td>Xique-Xique</td>\n",
       "      <td>18</td>\n",
       "      <td>0</td>\n",
       "      <td>0</td>\n",
       "      <td>48365</td>\n",
       "      <td>0.037217</td>\n",
       "    </tr>\n",
       "  </tbody>\n",
       "</table>\n",
       "<p>417 rows × 7 columns</p>\n",
       "</div>"
      ],
      "text/plain": [
       "     Código        Nome Município  SC_BAHIA  TURISMO  CATEGORIA  Habitantes  \\\n",
       "0    290010                Abaíra         2        1          2        9199   \n",
       "1    290020                 Abaré         3        0          0       20189   \n",
       "2    290030             Acajutiba         9        0          0       15727   \n",
       "3    290035              Adustina        15        1          2       17349   \n",
       "4    290040             Água Fria         9        0          0       17508   \n",
       "..      ...                   ...       ...      ...        ...         ...   \n",
       "412  293330  Vitória da Conquista      1795        1          4      348718   \n",
       "413  293340                Wagner         5        0          0        9753   \n",
       "414  293345             Wanderley        11        0          0       12935   \n",
       "415  293350   Wenceslau Guimarães        23        0          0       22365   \n",
       "416  293360           Xique-Xique        18        0          0       48365   \n",
       "\n",
       "     Porcentagem de Casos  \n",
       "0                0.021741  \n",
       "1                0.014860  \n",
       "2                0.057226  \n",
       "3                0.086460  \n",
       "4                0.051405  \n",
       "..                    ...  \n",
       "412              0.514743  \n",
       "413              0.051266  \n",
       "414              0.085041  \n",
       "415              0.102839  \n",
       "416              0.037217  \n",
       "\n",
       "[417 rows x 7 columns]"
      ]
     },
     "execution_count": 111,
     "metadata": {},
     "output_type": "execute_result"
    }
   ],
   "source": [
    "dataset"
   ]
  },
  {
   "cell_type": "code",
   "execution_count": 112,
   "id": "4f0ca80c",
   "metadata": {
    "scrolled": false
   },
   "outputs": [
    {
     "data": {
      "text/html": [
       "<style type=\"text/css\">\n",
       "#T_b5c5d_row6_col1, #T_b5c5d_row12_col1 {\n",
       "  background-color: lightgreen;\n",
       "}\n",
       "</style>\n",
       "<table id=\"T_b5c5d\">\n",
       "  <thead>\n",
       "    <tr>\n",
       "      <th class=\"blank level0\" >&nbsp;</th>\n",
       "      <th id=\"T_b5c5d_level0_col0\" class=\"col_heading level0 col0\" >Description</th>\n",
       "      <th id=\"T_b5c5d_level0_col1\" class=\"col_heading level0 col1\" >Value</th>\n",
       "    </tr>\n",
       "  </thead>\n",
       "  <tbody>\n",
       "    <tr>\n",
       "      <th id=\"T_b5c5d_level0_row0\" class=\"row_heading level0 row0\" >0</th>\n",
       "      <td id=\"T_b5c5d_row0_col0\" class=\"data row0 col0\" >Session id</td>\n",
       "      <td id=\"T_b5c5d_row0_col1\" class=\"data row0 col1\" >6748</td>\n",
       "    </tr>\n",
       "    <tr>\n",
       "      <th id=\"T_b5c5d_level0_row1\" class=\"row_heading level0 row1\" >1</th>\n",
       "      <td id=\"T_b5c5d_row1_col0\" class=\"data row1 col0\" >Original data shape</td>\n",
       "      <td id=\"T_b5c5d_row1_col1\" class=\"data row1 col1\" >(417, 7)</td>\n",
       "    </tr>\n",
       "    <tr>\n",
       "      <th id=\"T_b5c5d_level0_row2\" class=\"row_heading level0 row2\" >2</th>\n",
       "      <td id=\"T_b5c5d_row2_col0\" class=\"data row2 col0\" >Transformed data shape</td>\n",
       "      <td id=\"T_b5c5d_row2_col1\" class=\"data row2 col1\" >(417, 418)</td>\n",
       "    </tr>\n",
       "    <tr>\n",
       "      <th id=\"T_b5c5d_level0_row3\" class=\"row_heading level0 row3\" >3</th>\n",
       "      <td id=\"T_b5c5d_row3_col0\" class=\"data row3 col0\" >Ignore features</td>\n",
       "      <td id=\"T_b5c5d_row3_col1\" class=\"data row3 col1\" >5</td>\n",
       "    </tr>\n",
       "    <tr>\n",
       "      <th id=\"T_b5c5d_level0_row4\" class=\"row_heading level0 row4\" >4</th>\n",
       "      <td id=\"T_b5c5d_row4_col0\" class=\"data row4 col0\" >Numeric features</td>\n",
       "      <td id=\"T_b5c5d_row4_col1\" class=\"data row4 col1\" >1</td>\n",
       "    </tr>\n",
       "    <tr>\n",
       "      <th id=\"T_b5c5d_level0_row5\" class=\"row_heading level0 row5\" >5</th>\n",
       "      <td id=\"T_b5c5d_row5_col0\" class=\"data row5 col0\" >Categorical features</td>\n",
       "      <td id=\"T_b5c5d_row5_col1\" class=\"data row5 col1\" >1</td>\n",
       "    </tr>\n",
       "    <tr>\n",
       "      <th id=\"T_b5c5d_level0_row6\" class=\"row_heading level0 row6\" >6</th>\n",
       "      <td id=\"T_b5c5d_row6_col0\" class=\"data row6 col0\" >Preprocess</td>\n",
       "      <td id=\"T_b5c5d_row6_col1\" class=\"data row6 col1\" >True</td>\n",
       "    </tr>\n",
       "    <tr>\n",
       "      <th id=\"T_b5c5d_level0_row7\" class=\"row_heading level0 row7\" >7</th>\n",
       "      <td id=\"T_b5c5d_row7_col0\" class=\"data row7 col0\" >Imputation type</td>\n",
       "      <td id=\"T_b5c5d_row7_col1\" class=\"data row7 col1\" >simple</td>\n",
       "    </tr>\n",
       "    <tr>\n",
       "      <th id=\"T_b5c5d_level0_row8\" class=\"row_heading level0 row8\" >8</th>\n",
       "      <td id=\"T_b5c5d_row8_col0\" class=\"data row8 col0\" >Numeric imputation</td>\n",
       "      <td id=\"T_b5c5d_row8_col1\" class=\"data row8 col1\" >mean</td>\n",
       "    </tr>\n",
       "    <tr>\n",
       "      <th id=\"T_b5c5d_level0_row9\" class=\"row_heading level0 row9\" >9</th>\n",
       "      <td id=\"T_b5c5d_row9_col0\" class=\"data row9 col0\" >Categorical imputation</td>\n",
       "      <td id=\"T_b5c5d_row9_col1\" class=\"data row9 col1\" >mode</td>\n",
       "    </tr>\n",
       "    <tr>\n",
       "      <th id=\"T_b5c5d_level0_row10\" class=\"row_heading level0 row10\" >10</th>\n",
       "      <td id=\"T_b5c5d_row10_col0\" class=\"data row10 col0\" >Maximum one-hot encoding</td>\n",
       "      <td id=\"T_b5c5d_row10_col1\" class=\"data row10 col1\" >-1</td>\n",
       "    </tr>\n",
       "    <tr>\n",
       "      <th id=\"T_b5c5d_level0_row11\" class=\"row_heading level0 row11\" >11</th>\n",
       "      <td id=\"T_b5c5d_row11_col0\" class=\"data row11 col0\" >Encoding method</td>\n",
       "      <td id=\"T_b5c5d_row11_col1\" class=\"data row11 col1\" >None</td>\n",
       "    </tr>\n",
       "    <tr>\n",
       "      <th id=\"T_b5c5d_level0_row12\" class=\"row_heading level0 row12\" >12</th>\n",
       "      <td id=\"T_b5c5d_row12_col0\" class=\"data row12 col0\" >Normalize</td>\n",
       "      <td id=\"T_b5c5d_row12_col1\" class=\"data row12 col1\" >True</td>\n",
       "    </tr>\n",
       "    <tr>\n",
       "      <th id=\"T_b5c5d_level0_row13\" class=\"row_heading level0 row13\" >13</th>\n",
       "      <td id=\"T_b5c5d_row13_col0\" class=\"data row13 col0\" >Normalize method</td>\n",
       "      <td id=\"T_b5c5d_row13_col1\" class=\"data row13 col1\" >zscore</td>\n",
       "    </tr>\n",
       "    <tr>\n",
       "      <th id=\"T_b5c5d_level0_row14\" class=\"row_heading level0 row14\" >14</th>\n",
       "      <td id=\"T_b5c5d_row14_col0\" class=\"data row14 col0\" >CPU Jobs</td>\n",
       "      <td id=\"T_b5c5d_row14_col1\" class=\"data row14 col1\" >-1</td>\n",
       "    </tr>\n",
       "    <tr>\n",
       "      <th id=\"T_b5c5d_level0_row15\" class=\"row_heading level0 row15\" >15</th>\n",
       "      <td id=\"T_b5c5d_row15_col0\" class=\"data row15 col0\" >Use GPU</td>\n",
       "      <td id=\"T_b5c5d_row15_col1\" class=\"data row15 col1\" >False</td>\n",
       "    </tr>\n",
       "    <tr>\n",
       "      <th id=\"T_b5c5d_level0_row16\" class=\"row_heading level0 row16\" >16</th>\n",
       "      <td id=\"T_b5c5d_row16_col0\" class=\"data row16 col0\" >Log Experiment</td>\n",
       "      <td id=\"T_b5c5d_row16_col1\" class=\"data row16 col1\" >False</td>\n",
       "    </tr>\n",
       "    <tr>\n",
       "      <th id=\"T_b5c5d_level0_row17\" class=\"row_heading level0 row17\" >17</th>\n",
       "      <td id=\"T_b5c5d_row17_col0\" class=\"data row17 col0\" >Experiment Name</td>\n",
       "      <td id=\"T_b5c5d_row17_col1\" class=\"data row17 col1\" >cluster-default-name</td>\n",
       "    </tr>\n",
       "    <tr>\n",
       "      <th id=\"T_b5c5d_level0_row18\" class=\"row_heading level0 row18\" >18</th>\n",
       "      <td id=\"T_b5c5d_row18_col0\" class=\"data row18 col0\" >USI</td>\n",
       "      <td id=\"T_b5c5d_row18_col1\" class=\"data row18 col1\" >6c36</td>\n",
       "    </tr>\n",
       "  </tbody>\n",
       "</table>\n"
      ],
      "text/plain": [
       "<pandas.io.formats.style.Styler at 0x1c45b8da050>"
      ]
     },
     "metadata": {},
     "output_type": "display_data"
    },
    {
     "data": {
      "text/plain": [
       "<pycaret.clustering.oop.ClusteringExperiment at 0x1c459e1e410>"
      ]
     },
     "execution_count": 112,
     "metadata": {},
     "output_type": "execute_result"
    }
   ],
   "source": [
    "setup(dataset, normalize=True, ignore_features=['SC_BAHIA','CATEGORIA', 'TURISMO', 'Código', 'Habitantes'])"
   ]
  },
  {
   "cell_type": "code",
   "execution_count": 113,
   "id": "c8185f2e",
   "metadata": {
    "scrolled": true
   },
   "outputs": [],
   "source": [
    "# to check all the available models\n",
    "#models()"
   ]
  },
  {
   "cell_type": "code",
   "execution_count": 114,
   "id": "11576f41",
   "metadata": {
    "scrolled": false
   },
   "outputs": [
    {
     "data": {
      "text/html": [],
      "text/plain": [
       "<IPython.core.display.HTML object>"
      ]
     },
     "metadata": {},
     "output_type": "display_data"
    },
    {
     "data": {
      "text/html": [
       "<style type=\"text/css\">\n",
       "</style>\n",
       "<table id=\"T_cc638\">\n",
       "  <thead>\n",
       "    <tr>\n",
       "      <th class=\"blank level0\" >&nbsp;</th>\n",
       "      <th id=\"T_cc638_level0_col0\" class=\"col_heading level0 col0\" >Silhouette</th>\n",
       "      <th id=\"T_cc638_level0_col1\" class=\"col_heading level0 col1\" >Calinski-Harabasz</th>\n",
       "      <th id=\"T_cc638_level0_col2\" class=\"col_heading level0 col2\" >Davies-Bouldin</th>\n",
       "      <th id=\"T_cc638_level0_col3\" class=\"col_heading level0 col3\" >Homogeneity</th>\n",
       "      <th id=\"T_cc638_level0_col4\" class=\"col_heading level0 col4\" >Rand Index</th>\n",
       "      <th id=\"T_cc638_level0_col5\" class=\"col_heading level0 col5\" >Completeness</th>\n",
       "    </tr>\n",
       "  </thead>\n",
       "  <tbody>\n",
       "    <tr>\n",
       "      <th id=\"T_cc638_level0_row0\" class=\"row_heading level0 row0\" >0</th>\n",
       "      <td id=\"T_cc638_row0_col0\" class=\"data row0 col0\" >0.0003</td>\n",
       "      <td id=\"T_cc638_row0_col1\" class=\"data row0 col1\" >1.2786</td>\n",
       "      <td id=\"T_cc638_row0_col2\" class=\"data row0 col2\" >13.6094</td>\n",
       "      <td id=\"T_cc638_row0_col3\" class=\"data row0 col3\" >0</td>\n",
       "      <td id=\"T_cc638_row0_col4\" class=\"data row0 col4\" >0</td>\n",
       "      <td id=\"T_cc638_row0_col5\" class=\"data row0 col5\" >0</td>\n",
       "    </tr>\n",
       "  </tbody>\n",
       "</table>\n"
      ],
      "text/plain": [
       "<pandas.io.formats.style.Styler at 0x1c459e47190>"
      ]
     },
     "metadata": {},
     "output_type": "display_data"
    },
    {
     "data": {
      "text/html": [],
      "text/plain": [
       "<IPython.core.display.HTML object>"
      ]
     },
     "metadata": {},
     "output_type": "display_data"
    }
   ],
   "source": [
    "# train kmeans model\n",
    "modelo = create_model('kmeans')"
   ]
  },
  {
   "cell_type": "code",
   "execution_count": 115,
   "id": "9b09a190",
   "metadata": {
    "scrolled": false
   },
   "outputs": [
    {
     "data": {
      "text/html": [
       "<div>\n",
       "<style scoped>\n",
       "    .dataframe tbody tr th:only-of-type {\n",
       "        vertical-align: middle;\n",
       "    }\n",
       "\n",
       "    .dataframe tbody tr th {\n",
       "        vertical-align: top;\n",
       "    }\n",
       "\n",
       "    .dataframe thead th {\n",
       "        text-align: right;\n",
       "    }\n",
       "</style>\n",
       "<table border=\"1\" class=\"dataframe\">\n",
       "  <thead>\n",
       "    <tr style=\"text-align: right;\">\n",
       "      <th></th>\n",
       "      <th>Nome Município</th>\n",
       "      <th>Porcentagem de Casos</th>\n",
       "      <th>Cluster</th>\n",
       "    </tr>\n",
       "  </thead>\n",
       "  <tbody>\n",
       "    <tr>\n",
       "      <th>0</th>\n",
       "      <td>Abaíra</td>\n",
       "      <td>0.021741</td>\n",
       "      <td>Cluster 2</td>\n",
       "    </tr>\n",
       "    <tr>\n",
       "      <th>1</th>\n",
       "      <td>Abaré</td>\n",
       "      <td>0.014860</td>\n",
       "      <td>Cluster 2</td>\n",
       "    </tr>\n",
       "    <tr>\n",
       "      <th>2</th>\n",
       "      <td>Acajutiba</td>\n",
       "      <td>0.057226</td>\n",
       "      <td>Cluster 0</td>\n",
       "    </tr>\n",
       "    <tr>\n",
       "      <th>3</th>\n",
       "      <td>Adustina</td>\n",
       "      <td>0.086460</td>\n",
       "      <td>Cluster 0</td>\n",
       "    </tr>\n",
       "    <tr>\n",
       "      <th>4</th>\n",
       "      <td>Água Fria</td>\n",
       "      <td>0.051405</td>\n",
       "      <td>Cluster 2</td>\n",
       "    </tr>\n",
       "    <tr>\n",
       "      <th>...</th>\n",
       "      <td>...</td>\n",
       "      <td>...</td>\n",
       "      <td>...</td>\n",
       "    </tr>\n",
       "    <tr>\n",
       "      <th>412</th>\n",
       "      <td>Vitória da Conquista</td>\n",
       "      <td>0.514743</td>\n",
       "      <td>Cluster 3</td>\n",
       "    </tr>\n",
       "    <tr>\n",
       "      <th>413</th>\n",
       "      <td>Wagner</td>\n",
       "      <td>0.051266</td>\n",
       "      <td>Cluster 2</td>\n",
       "    </tr>\n",
       "    <tr>\n",
       "      <th>414</th>\n",
       "      <td>Wanderley</td>\n",
       "      <td>0.085041</td>\n",
       "      <td>Cluster 0</td>\n",
       "    </tr>\n",
       "    <tr>\n",
       "      <th>415</th>\n",
       "      <td>Wenceslau Guimarães</td>\n",
       "      <td>0.102839</td>\n",
       "      <td>Cluster 0</td>\n",
       "    </tr>\n",
       "    <tr>\n",
       "      <th>416</th>\n",
       "      <td>Xique-Xique</td>\n",
       "      <td>0.037217</td>\n",
       "      <td>Cluster 2</td>\n",
       "    </tr>\n",
       "  </tbody>\n",
       "</table>\n",
       "<p>417 rows × 3 columns</p>\n",
       "</div>"
      ],
      "text/plain": [
       "           Nome Município  Porcentagem de Casos    Cluster\n",
       "0                  Abaíra              0.021741  Cluster 2\n",
       "1                   Abaré              0.014860  Cluster 2\n",
       "2               Acajutiba              0.057226  Cluster 0\n",
       "3                Adustina              0.086460  Cluster 0\n",
       "4               Água Fria              0.051405  Cluster 2\n",
       "..                    ...                   ...        ...\n",
       "412  Vitória da Conquista              0.514743  Cluster 3\n",
       "413                Wagner              0.051266  Cluster 2\n",
       "414             Wanderley              0.085041  Cluster 0\n",
       "415   Wenceslau Guimarães              0.102839  Cluster 0\n",
       "416           Xique-Xique              0.037217  Cluster 2\n",
       "\n",
       "[417 rows x 3 columns]"
      ]
     },
     "execution_count": 115,
     "metadata": {},
     "output_type": "execute_result"
    }
   ],
   "source": [
    "cluster = assign_model(modelo)\n",
    "cluster"
   ]
  },
  {
   "cell_type": "code",
   "execution_count": 116,
   "id": "0d4225f4",
   "metadata": {
    "scrolled": false
   },
   "outputs": [
    {
     "data": {
      "text/html": [],
      "text/plain": [
       "<IPython.core.display.HTML object>"
      ]
     },
     "metadata": {},
     "output_type": "display_data"
    },
    {
     "data": {
      "application/vnd.plotly.v1+json": {
       "config": {
        "plotlyServerURL": "https://plot.ly"
       },
       "data": [
        {
         "alignmentgroup": "True",
         "bingroup": "x",
         "hovertemplate": "Cluster=Cluster 0<br>Porcentagem de Casos=%{x}<br>count=%{y}<extra></extra>",
         "legendgroup": "Cluster 0",
         "marker": {
          "color": "#636efa",
          "opacity": 0.7,
          "pattern": {
           "shape": ""
          }
         },
         "name": "Cluster 0",
         "offsetgroup": "Cluster 0",
         "orientation": "v",
         "showlegend": true,
         "type": "histogram",
         "x": [
          0.19274355,
          0.05380201,
          0.078789786,
          0.07281875,
          0.11515163,
          0.064744964,
          0.13994291,
          0.1438849,
          0.06829166,
          0.07246587,
          0.10283926,
          0.17547481,
          0.13152388,
          0.12753294,
          0.1406711,
          0.08858244,
          0.054369986,
          0.17913121,
          0.09019009,
          0.06380264,
          0.06542167,
          0.059187762,
          0.05837799,
          0.16521037,
          0.1133566,
          0.0662471,
          0.05759895,
          0.0754717,
          0.08345697,
          0.0874672,
          0.07167816,
          0.16593544,
          0.113078065,
          0.2022117,
          0.10036604,
          0.18581016,
          0.16491672,
          0.06978367,
          0.14369693,
          0.1572327,
          0.06514941,
          0.14995112,
          0.15426861,
          0.085881144,
          0.059435364,
          0.055716515,
          0.12002527,
          0.100063674,
          0.082586125,
          0.14802283,
          0.06442607,
          0.110581204,
          0.05925575,
          0.05431093,
          0.09845427,
          0.053184416,
          0.11248594,
          0.17731705,
          0.102715544,
          0.08333965,
          0.14445776,
          0.13170089,
          0.12682585,
          0.057908252,
          0.16372976,
          0.16948354,
          0.06512112,
          0.1354035,
          0.16931216,
          0.12777172,
          0.056818184,
          0.09605225,
          0.09304489,
          0.1280857,
          0.14849648,
          0.058680147,
          0.08147114,
          0.12184073,
          0.13822435,
          0.16347761,
          0.07581118,
          0.10121457,
          0.13407715,
          0.084395304,
          0.052297346,
          0.19386107,
          0.2018863,
          0.13408421,
          0.09610764,
          0.1457851,
          0.076327555,
          0.094476745,
          0.13817881,
          0.14167908,
          0.08297135,
          0.076985784,
          0.15789473,
          0.09615385,
          0.16170901,
          0.07468767,
          0.13747054,
          0.095984645,
          0.062080473,
          0.19788918,
          0.15660265,
          0.07308415,
          0.12759623,
          0.12176878,
          0.085040584,
          0.057226427,
          0.086460315,
          0.111690246,
          0.0667334,
          0.060905635,
          0.10439866,
          0.10716433,
          0.13700882,
          0.075841546,
          0.11753884,
          0.08007571,
          0.09683667,
          0.11085109,
          0.071571715,
          0.16933009,
          0.05733945,
          0.08866458,
          0.12501489,
          0.054044317,
          0.08914747,
          0.10255358,
          0.073446326,
          0.059537098,
          0.10154862,
          0.108444184,
          0.10370047,
          0.12155787,
          0.058399845,
          0.0709607,
          0.13169447,
          0.057591464,
          0.056580286,
          0.080925405,
          0.1771246,
          0.14620979,
          0.17114432,
          0.1553398,
          0.14755307,
          0.12423547,
          0.11220826,
          0.09996843,
          0.103268996,
          0.05482225,
          0.083548106,
          0.114536606,
          0.12559101,
          0.18232727,
          0.068440415,
          0.079982705,
          0.11903188,
          0.0684697,
          0.06523157,
          0.072849534,
          0.18221575,
          0.08853173,
          0.08444757,
          0.070170514,
          0.06855968,
          0.07953867,
          0.17939922
         ],
         "xaxis": "x",
         "yaxis": "y"
        },
        {
         "alignmentgroup": "True",
         "customdata": [
          [
           "Jaguaquara",
           "Cluster 0"
          ],
          [
           "Cravolândia",
           "Cluster 0"
          ],
          [
           "Jitaúna",
           "Cluster 0"
          ],
          [
           "Jiquiriçá",
           "Cluster 0"
          ],
          [
           "Santo Antônio de Jesus",
           "Cluster 0"
          ],
          [
           "Curaçá",
           "Cluster 0"
          ],
          [
           "Jequié",
           "Cluster 0"
          ],
          [
           "Jandaíra",
           "Cluster 0"
          ],
          [
           "Jaguaripe",
           "Cluster 0"
          ],
          [
           "Jaguarari",
           "Cluster 0"
          ],
          [
           "Wenceslau Guimarães",
           "Cluster 0"
          ],
          [
           "Encruzilhada",
           "Cluster 0"
          ],
          [
           "Jacobina",
           "Cluster 0"
          ],
          [
           "Pindobaçu",
           "Cluster 0"
          ],
          [
           "Santa Rita de Cássia",
           "Cluster 0"
          ],
          [
           "Santa Maria da Vitória",
           "Cluster 0"
          ],
          [
           "Ituberá",
           "Cluster 0"
          ],
          [
           "Santa Luzia",
           "Cluster 0"
          ],
          [
           "Cotegipe",
           "Cluster 0"
          ],
          [
           "São Domingos",
           "Cluster 0"
          ],
          [
           "Coronel João Sá",
           "Cluster 0"
          ],
          [
           "São Felipe",
           "Cluster 0"
          ],
          [
           "Itaberaba",
           "Cluster 0"
          ],
          [
           "Castro Alves",
           "Cluster 0"
          ],
          [
           "Catu",
           "Cluster 0"
          ],
          [
           "Sapeaçu",
           "Cluster 0"
          ],
          [
           "Laje",
           "Cluster 0"
          ],
          [
           "Lafaiete Coutinho",
           "Cluster 0"
          ],
          [
           "São José do Jacuípe",
           "Cluster 0"
          ],
          [
           "Jussara",
           "Cluster 0"
          ],
          [
           "Santa Inês",
           "Cluster 0"
          ],
          [
           "Juazeiro",
           "Cluster 0"
          ],
          [
           "João Dourado",
           "Cluster 0"
          ],
          [
           "São Félix do Coribe",
           "Cluster 0"
          ],
          [
           "Conceição do Jacuípe",
           "Cluster 0"
          ],
          [
           "Conde",
           "Cluster 0"
          ],
          [
           "Condeúba",
           "Cluster 0"
          ],
          [
           "Contendas do Sincorá",
           "Cluster 0"
          ],
          [
           "São Félix",
           "Cluster 0"
          ],
          [
           "Cordeiros",
           "Cluster 0"
          ],
          [
           "Conceição da Feira",
           "Cluster 0"
          ],
          [
           "Paulo Afonso",
           "Cluster 0"
          ],
          [
           "Feira de Santana",
           "Cluster 0"
          ],
          [
           "Firmino Alves",
           "Cluster 0"
          ],
          [
           "Itanagra",
           "Cluster 0"
          ],
          [
           "Ibititá",
           "Cluster 0"
          ],
          [
           "Ponto Novo",
           "Cluster 0"
          ],
          [
           "Ribeira do Pombal",
           "Cluster 0"
          ],
          [
           "Itamari",
           "Cluster 0"
          ],
          [
           "Igrapiúna",
           "Cluster 0"
          ],
          [
           "Iguaí",
           "Cluster 0"
          ],
          [
           "Ilhéus",
           "Cluster 0"
          ],
          [
           "Potiraguá",
           "Cluster 0"
          ],
          [
           "Retirolândia",
           "Cluster 0"
          ],
          [
           "Ipupiara",
           "Cluster 0"
          ],
          [
           "Irajuba",
           "Cluster 0"
          ],
          [
           "Remanso",
           "Cluster 0"
          ],
          [
           "Prado",
           "Cluster 0"
          ],
          [
           "Itagibá",
           "Cluster 0"
          ],
          [
           "Itagi",
           "Cluster 0"
          ],
          [
           "Itacaré",
           "Cluster 0"
          ],
          [
           "Itanhém",
           "Cluster 0"
          ],
          [
           "Itaparica",
           "Cluster 0"
          ],
          [
           "Pojuca",
           "Cluster 0"
          ],
          [
           "Poções",
           "Cluster 0"
          ],
          [
           "Itororó",
           "Cluster 0"
          ],
          [
           "Muniz Ferreira",
           "Cluster 0"
          ],
          [
           "Gandu",
           "Cluster 0"
          ],
          [
           "Gavião",
           "Cluster 0"
          ],
          [
           "Itiúba",
           "Cluster 0"
          ],
          [
           "Glória",
           "Cluster 0"
          ],
          [
           "Piraí do Norte",
           "Cluster 0"
          ],
          [
           "Governador Mangabeira",
           "Cluster 0"
          ],
          [
           "Filadélfia",
           "Cluster 0"
          ],
          [
           "Guajeru",
           "Cluster 0"
          ],
          [
           "Guaratinga",
           "Cluster 0"
          ],
          [
           "Itaquara",
           "Cluster 0"
          ],
          [
           "Ruy Barbosa",
           "Cluster 0"
          ],
          [
           "Rodelas",
           "Cluster 0"
          ],
          [
           "Planalto",
           "Cluster 0"
          ],
          [
           "Ibicoara",
           "Cluster 0"
          ],
          [
           "Ibicuí",
           "Cluster 0"
          ],
          [
           "Rio Real",
           "Cluster 0"
          ],
          [
           "Piripá",
           "Cluster 0"
          ],
          [
           "Saúde",
           "Cluster 0"
          ],
          [
           "Saubara",
           "Cluster 0"
          ],
          [
           "Lauro de Freitas",
           "Cluster 0"
          ],
          [
           "Araci",
           "Cluster 0"
          ],
          [
           "Mirangaba",
           "Cluster 0"
          ],
          [
           "Arataca",
           "Cluster 0"
          ],
          [
           "Aratuípe",
           "Cluster 0"
          ],
          [
           "Miguel Calmon",
           "Cluster 0"
          ],
          [
           "Uibaí",
           "Cluster 0"
          ],
          [
           "Ubatã",
           "Cluster 0"
          ],
          [
           "Ubaitaba",
           "Cluster 0"
          ],
          [
           "Barra da Estiva",
           "Cluster 0"
          ],
          [
           "Nova Redenção",
           "Cluster 0"
          ],
          [
           "Barra do Mendes",
           "Cluster 0"
          ],
          [
           "Mata de São João",
           "Cluster 0"
          ],
          [
           "Mascote",
           "Cluster 0"
          ],
          [
           "Nova Soure",
           "Cluster 0"
          ],
          [
           "Barro Preto",
           "Cluster 0"
          ],
          [
           "Uauá",
           "Cluster 0"
          ],
          [
           "Caravelas",
           "Cluster 0"
          ],
          [
           "Uruçuca",
           "Cluster 0"
          ],
          [
           "Mirante",
           "Cluster 0"
          ],
          [
           "Valença",
           "Cluster 0"
          ],
          [
           "Valente",
           "Cluster 0"
          ],
          [
           "Wanderley",
           "Cluster 0"
          ],
          [
           "Acajutiba",
           "Cluster 0"
          ],
          [
           "Adustina",
           "Cluster 0"
          ],
          [
           "Nazaré",
           "Cluster 0"
          ],
          [
           "Mulungu do Morro",
           "Cluster 0"
          ],
          [
           "Alagoinhas",
           "Cluster 0"
          ],
          [
           "Nilo Peçanha",
           "Cluster 0"
          ],
          [
           "Amargosa",
           "Cluster 0"
          ],
          [
           "Belo Campo",
           "Cluster 0"
          ],
          [
           "Nova Canaã",
           "Cluster 0"
          ],
          [
           "Anagé",
           "Cluster 0"
          ],
          [
           "Andaraí",
           "Cluster 0"
          ],
          [
           "Andorinha",
           "Cluster 0"
          ],
          [
           "Nova Fátima",
           "Cluster 0"
          ],
          [
           "Nova Ibiá",
           "Cluster 0"
          ],
          [
           "Várzea do Poço",
           "Cluster 0"
          ],
          [
           "Antônio Cardoso",
           "Cluster 0"
          ],
          [
           "Várzea da Roça",
           "Cluster 0"
          ],
          [
           "América Dourada",
           "Cluster 0"
          ],
          [
           "Biritinga",
           "Cluster 0"
          ],
          [
           "Maraú",
           "Cluster 0"
          ],
          [
           "Boa Vista do Tupim",
           "Cluster 0"
          ],
          [
           "Tremedal",
           "Cluster 0"
          ],
          [
           "Sítio do Mato",
           "Cluster 0"
          ],
          [
           "Mairi",
           "Cluster 0"
          ],
          [
           "Serrolândia",
           "Cluster 0"
          ],
          [
           "Camamu",
           "Cluster 0"
          ],
          [
           "Serrinha",
           "Cluster 0"
          ],
          [
           "Maiquinique",
           "Cluster 0"
          ],
          [
           "Serra Dourada",
           "Cluster 0"
          ],
          [
           "Cairu",
           "Cluster 0"
          ],
          [
           "Serra do Ramalho",
           "Cluster 0"
          ],
          [
           "Candeal",
           "Cluster 0"
          ],
          [
           "Madre de Deus",
           "Cluster 0"
          ],
          [
           "Luís Eduardo Magalhães",
           "Cluster 0"
          ],
          [
           "Cândido Sales",
           "Cluster 0"
          ],
          [
           "Senhor do Bonfim",
           "Cluster 0"
          ],
          [
           "Ourolândia",
           "Cluster 0"
          ],
          [
           "Capela do Alto Alegre",
           "Cluster 0"
          ],
          [
           "Capim Grosso",
           "Cluster 0"
          ],
          [
           "Maetinga",
           "Cluster 0"
          ],
          [
           "Cafarnaum",
           "Cluster 0"
          ],
          [
           "Presidente Tancredo Neves",
           "Cluster 0"
          ],
          [
           "Sobradinho",
           "Cluster 0"
          ],
          [
           "Bom Jesus da Lapa",
           "Cluster 0"
          ],
          [
           "Bom Jesus da Serra",
           "Cluster 0"
          ],
          [
           "Terra Nova",
           "Cluster 0"
          ],
          [
           "Teolândia",
           "Cluster 0"
          ],
          [
           "Teofilândia",
           "Cluster 0"
          ],
          [
           "Maragogipe",
           "Cluster 0"
          ],
          [
           "Brejões",
           "Cluster 0"
          ],
          [
           "Malhada",
           "Cluster 0"
          ],
          [
           "Taperoá",
           "Cluster 0"
          ],
          [
           "Tapiramutá",
           "Cluster 0"
          ],
          [
           "Tanquinho",
           "Cluster 0"
          ],
          [
           "Nova Viçosa",
           "Cluster 0"
          ],
          [
           "Tanhaçu",
           "Cluster 0"
          ],
          [
           "Manoel Vitorino",
           "Cluster 0"
          ],
          [
           "Souto Soares",
           "Cluster 0"
          ],
          [
           "Caém",
           "Cluster 0"
          ],
          [
           "Brumado",
           "Cluster 0"
          ]
         ],
         "hovertemplate": "Cluster=%{customdata[1]}<br>Porcentagem de Casos=%{x}<br>Nome Município=%{customdata[0]}<extra></extra>",
         "legendgroup": "Cluster 0",
         "marker": {
          "color": "#636efa"
         },
         "name": "Cluster 0",
         "notched": true,
         "offsetgroup": "Cluster 0",
         "showlegend": false,
         "type": "box",
         "x": [
          0.19274355,
          0.05380201,
          0.078789786,
          0.07281875,
          0.11515163,
          0.064744964,
          0.13994291,
          0.1438849,
          0.06829166,
          0.07246587,
          0.10283926,
          0.17547481,
          0.13152388,
          0.12753294,
          0.1406711,
          0.08858244,
          0.054369986,
          0.17913121,
          0.09019009,
          0.06380264,
          0.06542167,
          0.059187762,
          0.05837799,
          0.16521037,
          0.1133566,
          0.0662471,
          0.05759895,
          0.0754717,
          0.08345697,
          0.0874672,
          0.07167816,
          0.16593544,
          0.113078065,
          0.2022117,
          0.10036604,
          0.18581016,
          0.16491672,
          0.06978367,
          0.14369693,
          0.1572327,
          0.06514941,
          0.14995112,
          0.15426861,
          0.085881144,
          0.059435364,
          0.055716515,
          0.12002527,
          0.100063674,
          0.082586125,
          0.14802283,
          0.06442607,
          0.110581204,
          0.05925575,
          0.05431093,
          0.09845427,
          0.053184416,
          0.11248594,
          0.17731705,
          0.102715544,
          0.08333965,
          0.14445776,
          0.13170089,
          0.12682585,
          0.057908252,
          0.16372976,
          0.16948354,
          0.06512112,
          0.1354035,
          0.16931216,
          0.12777172,
          0.056818184,
          0.09605225,
          0.09304489,
          0.1280857,
          0.14849648,
          0.058680147,
          0.08147114,
          0.12184073,
          0.13822435,
          0.16347761,
          0.07581118,
          0.10121457,
          0.13407715,
          0.084395304,
          0.052297346,
          0.19386107,
          0.2018863,
          0.13408421,
          0.09610764,
          0.1457851,
          0.076327555,
          0.094476745,
          0.13817881,
          0.14167908,
          0.08297135,
          0.076985784,
          0.15789473,
          0.09615385,
          0.16170901,
          0.07468767,
          0.13747054,
          0.095984645,
          0.062080473,
          0.19788918,
          0.15660265,
          0.07308415,
          0.12759623,
          0.12176878,
          0.085040584,
          0.057226427,
          0.086460315,
          0.111690246,
          0.0667334,
          0.060905635,
          0.10439866,
          0.10716433,
          0.13700882,
          0.075841546,
          0.11753884,
          0.08007571,
          0.09683667,
          0.11085109,
          0.071571715,
          0.16933009,
          0.05733945,
          0.08866458,
          0.12501489,
          0.054044317,
          0.08914747,
          0.10255358,
          0.073446326,
          0.059537098,
          0.10154862,
          0.108444184,
          0.10370047,
          0.12155787,
          0.058399845,
          0.0709607,
          0.13169447,
          0.057591464,
          0.056580286,
          0.080925405,
          0.1771246,
          0.14620979,
          0.17114432,
          0.1553398,
          0.14755307,
          0.12423547,
          0.11220826,
          0.09996843,
          0.103268996,
          0.05482225,
          0.083548106,
          0.114536606,
          0.12559101,
          0.18232727,
          0.068440415,
          0.079982705,
          0.11903188,
          0.0684697,
          0.06523157,
          0.072849534,
          0.18221575,
          0.08853173,
          0.08444757,
          0.070170514,
          0.06855968,
          0.07953867,
          0.17939922
         ],
         "xaxis": "x2",
         "yaxis": "y2"
        },
        {
         "alignmentgroup": "True",
         "bingroup": "x",
         "hovertemplate": "Cluster=Cluster 1<br>Porcentagem de Casos=%{x}<br>count=%{y}<extra></extra>",
         "legendgroup": "Cluster 1",
         "marker": {
          "color": "#EF553B",
          "opacity": 0.7,
          "pattern": {
           "shape": ""
          }
         },
         "name": "Cluster 1",
         "offsetgroup": "Cluster 1",
         "orientation": "v",
         "showlegend": true,
         "type": "histogram",
         "x": [
          0.30278885,
          0.24328786,
          0.2434824,
          0.24937657,
          0.28760222,
          0.20775037,
          0.27040315,
          0.2677747,
          0.2538071,
          0.24359609,
          0.32353196,
          0.31959093,
          0.32017076,
          0.2666979,
          0.22128294,
          0.30757535,
          0.28596878,
          0.2028912,
          0.23045409,
          0.27625483,
          0.24407977,
          0.23730423,
          0.24698474,
          0.22694045,
          0.24528022,
          0.28237194,
          0.27995118,
          0.21943058,
          0.22456463,
          0.2656219,
          0.31746033,
          0.26737967,
          0.25137818,
          0.25396827,
          0.28763777,
          0.22517753,
          0.24543966
         ],
         "xaxis": "x",
         "yaxis": "y"
        },
        {
         "alignmentgroup": "True",
         "customdata": [
          [
           "Jussari",
           "Cluster 1"
          ],
          [
           "Maracás",
           "Cluster 1"
          ],
          [
           "Itamaraju",
           "Cluster 1"
          ],
          [
           "Itaju do Colônia",
           "Cluster 1"
          ],
          [
           "Mucuri",
           "Cluster 1"
          ],
          [
           "Medeiros Neto",
           "Cluster 1"
          ],
          [
           "Lajedão",
           "Cluster 1"
          ],
          [
           "Itapebi",
           "Cluster 1"
          ],
          [
           "Santa Cruz da Vitória",
           "Cluster 1"
          ],
          [
           "Barreiras",
           "Cluster 1"
          ],
          [
           "Eunápolis",
           "Cluster 1"
          ],
          [
           "Barra do Rocha",
           "Cluster 1"
          ],
          [
           "Floresta Azul",
           "Cluster 1"
          ],
          [
           "Barra do Choça",
           "Cluster 1"
          ],
          [
           "São Francisco do Conde",
           "Cluster 1"
          ],
          [
           "Guanambi",
           "Cluster 1"
          ],
          [
           "Una",
           "Cluster 1"
          ],
          [
           "Salinas da Margarida",
           "Cluster 1"
          ],
          [
           "Dário Meira",
           "Cluster 1"
          ],
          [
           "Ibicaraí",
           "Cluster 1"
          ],
          [
           "Buerarema",
           "Cluster 1"
          ],
          [
           "Ibiquera",
           "Cluster 1"
          ],
          [
           "Ibirapitanga",
           "Cluster 1"
          ],
          [
           "São Sebastião do Passé",
           "Cluster 1"
          ],
          [
           "Várzea Nova",
           "Cluster 1"
          ],
          [
           "Ribeirão do Largo",
           "Cluster 1"
          ],
          [
           "Ibotirama",
           "Cluster 1"
          ],
          [
           "Conceição do Almeida",
           "Cluster 1"
          ],
          [
           "Vera Cruz",
           "Cluster 1"
          ],
          [
           "Carinhanha",
           "Cluster 1"
          ],
          [
           "Almadina",
           "Cluster 1"
          ],
          [
           "Rafael Jambeiro",
           "Cluster 1"
          ],
          [
           "Simões Filho",
           "Cluster 1"
          ],
          [
           "Aiquara",
           "Cluster 1"
          ],
          [
           "Dias d'Ávila",
           "Cluster 1"
          ],
          [
           "Candeias",
           "Cluster 1"
          ],
          [
           "Canavieiras",
           "Cluster 1"
          ]
         ],
         "hovertemplate": "Cluster=%{customdata[1]}<br>Porcentagem de Casos=%{x}<br>Nome Município=%{customdata[0]}<extra></extra>",
         "legendgroup": "Cluster 1",
         "marker": {
          "color": "#EF553B"
         },
         "name": "Cluster 1",
         "notched": true,
         "offsetgroup": "Cluster 1",
         "showlegend": false,
         "type": "box",
         "x": [
          0.30278885,
          0.24328786,
          0.2434824,
          0.24937657,
          0.28760222,
          0.20775037,
          0.27040315,
          0.2677747,
          0.2538071,
          0.24359609,
          0.32353196,
          0.31959093,
          0.32017076,
          0.2666979,
          0.22128294,
          0.30757535,
          0.28596878,
          0.2028912,
          0.23045409,
          0.27625483,
          0.24407977,
          0.23730423,
          0.24698474,
          0.22694045,
          0.24528022,
          0.28237194,
          0.27995118,
          0.21943058,
          0.22456463,
          0.2656219,
          0.31746033,
          0.26737967,
          0.25137818,
          0.25396827,
          0.28763777,
          0.22517753,
          0.24543966
         ],
         "xaxis": "x2",
         "yaxis": "y2"
        },
        {
         "alignmentgroup": "True",
         "bingroup": "x",
         "hovertemplate": "Cluster=Cluster 2<br>Porcentagem de Casos=%{x}<br>count=%{y}<extra></extra>",
         "legendgroup": "Cluster 2",
         "marker": {
          "color": "#00cc96",
          "opacity": 0.7,
          "pattern": {
           "shape": ""
          }
         },
         "name": "Cluster 2",
         "offsetgroup": "Cluster 2",
         "orientation": "v",
         "showlegend": true,
         "type": "histogram",
         "x": [
          0.04447942,
          0,
          0.035080027,
          0.04486317,
          0.031032918,
          0.017099863,
          0.0062359693,
          0.017725782,
          0.037498124,
          0,
          0.0055915904,
          0.050403226,
          0.019033117,
          0.009615385,
          0.02217,
          0.005122426,
          0.035595633,
          0.005761696,
          0.03033367,
          0.021333333,
          0.022063691,
          0.04531722,
          0.051266275,
          0,
          0.032432433,
          0,
          0.008974244,
          0.018162005,
          0.020032052,
          0.014008872,
          0.03173218,
          0.02087247,
          0.02473207,
          0,
          0.007292882,
          0.051803406,
          0.019210188,
          0.031623736,
          0.01715781,
          0.050845303,
          0.021251727,
          0.031433363,
          0.03744617,
          0.041695926,
          0.011842027,
          0.039040133,
          0.009100009,
          0.036575228,
          0.014685007,
          0.015064779,
          0.00826993,
          0.026571011,
          0.028933663,
          0,
          0.027458949,
          0.032678768,
          0.016698208,
          0.0054743527,
          0.04196188,
          0.043182556,
          0.010912266,
          0.019585898,
          0.03913384,
          0.021741495,
          0.042940572,
          0.009851246,
          0.03722731,
          0.033802055,
          0.046973005,
          0.011550011,
          0.04092909,
          0.031433363,
          0.019078247,
          0,
          0,
          0.02226056,
          0.017254766,
          0.037489906,
          0.016911888,
          0.046291254,
          0,
          0.025108805,
          0.04017947,
          0.04496268,
          0.018319212,
          0.020828994,
          0.032341525,
          0.015867978,
          0.023637868,
          0.013881498,
          0.017838031,
          0.039176,
          0.022608358,
          0.016266335,
          0.016886188,
          0.008784387,
          0.02701451,
          0,
          0.03216468,
          0.014859577,
          0.051405072,
          0.022719527,
          0.047651462,
          0.008710043,
          0.005110123,
          0.033134528,
          0.03818043,
          0.047588833,
          0.035811488,
          0.017089635,
          0.013963555,
          0,
          0.007264802,
          0.029169401,
          0.043703906,
          0.018409425,
          0.04975478,
          0.0067750677,
          0.023349483,
          0.017806267,
          0.009175995,
          0,
          0.0091124475,
          0.009180208,
          0.0510139,
          0.010356255,
          0.022766726,
          0.033589453,
          0.043462064,
          0.0065715974,
          0.042959016,
          0.042277712,
          0.04526935,
          0.033429164,
          0.05108035,
          0.043863498,
          0.022084806,
          0.045281067,
          0.007210672,
          0.04030633,
          0.028304556,
          0.0062386924,
          0,
          0.033760972,
          0.011102476,
          0.0283246,
          0.04297009,
          0.023132084,
          0.03209311,
          0.016836435,
          0.0039225686,
          0.01209775,
          0.02258356,
          0.007163837,
          0.018296588,
          0.03203075,
          0.0086318515,
          0.013473717,
          0.022346368,
          0.023944449,
          0.030129557,
          0,
          0.02953628,
          0.044185467,
          0.037216995,
          0.026851764,
          0.032260146,
          0.031070374,
          0.012773227,
          0.030299969,
          0.02349624,
          0.02373183,
          0.036815155,
          0.03213606,
          0.011296882,
          0,
          0.018424124,
          0.021415569,
          0.013588803,
          0.029460866,
          0.050224077,
          0.014579385,
          0.024116725
         ],
         "xaxis": "x",
         "yaxis": "y"
        },
        {
         "alignmentgroup": "True",
         "customdata": [
          [
           "Olindina",
           "Cluster 2"
          ],
          [
           "Novo Triunfo",
           "Cluster 2"
          ],
          [
           "Oliveira dos Brejinhos",
           "Cluster 2"
          ],
          [
           "Ouriçangas",
           "Cluster 2"
          ],
          [
           "Sento Sé",
           "Cluster 2"
          ],
          [
           "Sebastião Laranjeiras",
           "Cluster 2"
          ],
          [
           "Serra Preta",
           "Cluster 2"
          ],
          [
           "Sítio do Quinto",
           "Cluster 2"
          ],
          [
           "Presidente Jânio Quadros",
           "Cluster 2"
          ],
          [
           "Tabocas do Brejo Velho",
           "Cluster 2"
          ],
          [
           "Tanque Novo",
           "Cluster 2"
          ],
          [
           "Teodoro Sampaio",
           "Cluster 2"
          ],
          [
           "Tucano",
           "Cluster 2"
          ],
          [
           "Ubaíra",
           "Cluster 2"
          ],
          [
           "Palmas de Monte Alto",
           "Cluster 2"
          ],
          [
           "Umburanas",
           "Cluster 2"
          ],
          [
           "Nova Itarana",
           "Cluster 2"
          ],
          [
           "Urandi",
           "Cluster 2"
          ],
          [
           "Utinga",
           "Cluster 2"
          ],
          [
           "Varzedo",
           "Cluster 2"
          ],
          [
           "Nordestina",
           "Cluster 2"
          ],
          [
           "Vereda",
           "Cluster 2"
          ],
          [
           "Wagner",
           "Cluster 2"
          ],
          [
           "Novo Horizonte",
           "Cluster 2"
          ],
          [
           "Palmeiras",
           "Cluster 2"
          ],
          [
           "Pé de Serra",
           "Cluster 2"
          ],
          [
           "Paramirim",
           "Cluster 2"
          ],
          [
           "Pintadas",
           "Cluster 2"
          ],
          [
           "Santa Brígida",
           "Cluster 2"
          ],
          [
           "Santa Bárbara",
           "Cluster 2"
          ],
          [
           "Piritiba",
           "Cluster 2"
          ],
          [
           "Planaltino",
           "Cluster 2"
          ],
          [
           "Rio do Pires",
           "Cluster 2"
          ],
          [
           "Rio do Antônio",
           "Cluster 2"
          ],
          [
           "Rio de Contas",
           "Cluster 2"
          ],
          [
           "Ribeira do Amparo",
           "Cluster 2"
          ],
          [
           "Riacho de Santana",
           "Cluster 2"
          ],
          [
           "Riachão do Jacuípe",
           "Cluster 2"
          ],
          [
           "Riachão das Neves",
           "Cluster 2"
          ],
          [
           "Presidente Dutra",
           "Cluster 2"
          ],
          [
           "Quixabeira",
           "Cluster 2"
          ],
          [
           "Quijingue",
           "Cluster 2"
          ],
          [
           "Santa Teresinha",
           "Cluster 2"
          ],
          [
           "Seabra",
           "Cluster 2"
          ],
          [
           "Pindaí",
           "Cluster 2"
          ],
          [
           "Santaluz",
           "Cluster 2"
          ],
          [
           "Paratinga",
           "Cluster 2"
          ],
          [
           "Paripiranga",
           "Cluster 2"
          ],
          [
           "Sátiro Dias",
           "Cluster 2"
          ],
          [
           "Queimadas",
           "Cluster 2"
          ],
          [
           "São Miguel das Matas",
           "Cluster 2"
          ],
          [
           "Pedrão",
           "Cluster 2"
          ],
          [
           "São Gonçalo dos Campos",
           "Cluster 2"
          ],
          [
           "São Gabriel",
           "Cluster 2"
          ],
          [
           "Pedro Alexandre",
           "Cluster 2"
          ],
          [
           "São Desidério",
           "Cluster 2"
          ],
          [
           "Santo Estêvão",
           "Cluster 2"
          ],
          [
           "Piatã",
           "Cluster 2"
          ],
          [
           "Santo Amaro",
           "Cluster 2"
          ],
          [
           "Santanópolis",
           "Cluster 2"
          ],
          [
           "Santana",
           "Cluster 2"
          ],
          [
           "Pilão Arcado",
           "Cluster 2"
          ],
          [
           "Mutuípe",
           "Cluster 2"
          ],
          [
           "Abaíra",
           "Cluster 2"
          ],
          [
           "Muquém de São Francisco",
           "Cluster 2"
          ],
          [
           "Canápolis",
           "Cluster 2"
          ],
          [
           "Canarana",
           "Cluster 2"
          ],
          [
           "Candiba",
           "Cluster 2"
          ],
          [
           "Cansanção",
           "Cluster 2"
          ],
          [
           "Canudos",
           "Cluster 2"
          ],
          [
           "Caraíbas",
           "Cluster 2"
          ],
          [
           "Cardeal da Silva",
           "Cluster 2"
          ],
          [
           "Casa Nova",
           "Cluster 2"
          ],
          [
           "Catolândia",
           "Cluster 2"
          ],
          [
           "Caturama",
           "Cluster 2"
          ],
          [
           "Central",
           "Cluster 2"
          ],
          [
           "Chorrochó",
           "Cluster 2"
          ],
          [
           "Cícero Dantas",
           "Cluster 2"
          ],
          [
           "Cipó",
           "Cluster 2"
          ],
          [
           "Campo Formoso",
           "Cluster 2"
          ],
          [
           "Cocos",
           "Cluster 2"
          ],
          [
           "Coração de Maria",
           "Cluster 2"
          ],
          [
           "Coribe",
           "Cluster 2"
          ],
          [
           "Correntina",
           "Cluster 2"
          ],
          [
           "Crisópolis",
           "Cluster 2"
          ],
          [
           "Cristópolis",
           "Cluster 2"
          ],
          [
           "Cruz das Almas",
           "Cluster 2"
          ],
          [
           "Dom Basílio",
           "Cluster 2"
          ],
          [
           "Elísio Medrado",
           "Cluster 2"
          ],
          [
           "Entre Rios",
           "Cluster 2"
          ],
          [
           "Érico Cardoso",
           "Cluster 2"
          ],
          [
           "Muritiba",
           "Cluster 2"
          ],
          [
           "Euclides da Cunha",
           "Cluster 2"
          ],
          [
           "Fátima",
           "Cluster 2"
          ],
          [
           "Feira da Mata",
           "Cluster 2"
          ],
          [
           "Conceição do Coité",
           "Cluster 2"
          ],
          [
           "Formosa do Rio Preto",
           "Cluster 2"
          ],
          [
           "Campo Alegre de Lourdes",
           "Cluster 2"
          ],
          [
           "Caetité",
           "Cluster 2"
          ],
          [
           "Abaré",
           "Cluster 2"
          ],
          [
           "Água Fria",
           "Cluster 2"
          ],
          [
           "Amélia Rodrigues",
           "Cluster 2"
          ],
          [
           "Angical",
           "Cluster 2"
          ],
          [
           "Anguera",
           "Cluster 2"
          ],
          [
           "Antas",
           "Cluster 2"
          ],
          [
           "Antônio Gonçalves",
           "Cluster 2"
          ],
          [
           "Aporá",
           "Cluster 2"
          ],
          [
           "Araças",
           "Cluster 2"
          ],
          [
           "Aracatu",
           "Cluster 2"
          ],
          [
           "Aramari",
           "Cluster 2"
          ],
          [
           "Baianópolis",
           "Cluster 2"
          ],
          [
           "Baixa Grande",
           "Cluster 2"
          ],
          [
           "Banzaê",
           "Cluster 2"
          ],
          [
           "Caldeirão Grande",
           "Cluster 2"
          ],
          [
           "Barra",
           "Cluster 2"
          ],
          [
           "Barrocas",
           "Cluster 2"
          ],
          [
           "Boa Nova",
           "Cluster 2"
          ],
          [
           "Boninal",
           "Cluster 2"
          ],
          [
           "Bonito",
           "Cluster 2"
          ],
          [
           "Boquira",
           "Cluster 2"
          ],
          [
           "Botuporã",
           "Cluster 2"
          ],
          [
           "Brejolândia",
           "Cluster 2"
          ],
          [
           "Brotas de Macaúbas",
           "Cluster 2"
          ],
          [
           "Buritirama",
           "Cluster 2"
          ],
          [
           "Caatiba",
           "Cluster 2"
          ],
          [
           "Cabaceiras do Paraguaçu",
           "Cluster 2"
          ],
          [
           "Cachoeira",
           "Cluster 2"
          ],
          [
           "Caculé",
           "Cluster 2"
          ],
          [
           "Caetanos",
           "Cluster 2"
          ],
          [
           "Barro Alto",
           "Cluster 2"
          ],
          [
           "Gentio do Ouro",
           "Cluster 2"
          ],
          [
           "Esplanada",
           "Cluster 2"
          ],
          [
           "Itiruçu",
           "Cluster 2"
          ],
          [
           "Itatim",
           "Cluster 2"
          ],
          [
           "Ituaçu",
           "Cluster 2"
          ],
          [
           "Iuiú",
           "Cluster 2"
          ],
          [
           "Jaborandi",
           "Cluster 2"
          ],
          [
           "Jacaraci",
           "Cluster 2"
          ],
          [
           "Jeremoabo",
           "Cluster 2"
          ],
          [
           "Jucuruçu",
           "Cluster 2"
          ],
          [
           "Jussiape",
           "Cluster 2"
          ],
          [
           "Lagoa Real",
           "Cluster 2"
          ],
          [
           "Lajedinho",
           "Cluster 2"
          ],
          [
           "Lajedo do Tabocal",
           "Cluster 2"
          ],
          [
           "Lamarão",
           "Cluster 2"
          ],
          [
           "Lapão",
           "Cluster 2"
          ],
          [
           "Lençóis",
           "Cluster 2"
          ],
          [
           "Licínio de Almeida",
           "Cluster 2"
          ],
          [
           "Livramento de Nossa Senhora",
           "Cluster 2"
          ],
          [
           "Macajuba",
           "Cluster 2"
          ],
          [
           "Macaúbas",
           "Cluster 2"
          ],
          [
           "Macururé",
           "Cluster 2"
          ],
          [
           "Malhada de Pedras",
           "Cluster 2"
          ],
          [
           "Mansidão",
           "Cluster 2"
          ],
          [
           "Marcionílio Souza",
           "Cluster 2"
          ],
          [
           "Matina",
           "Cluster 2"
          ],
          [
           "Milagres",
           "Cluster 2"
          ],
          [
           "Monte Santo",
           "Cluster 2"
          ],
          [
           "Morpará",
           "Cluster 2"
          ],
          [
           "Mortugaba",
           "Cluster 2"
          ],
          [
           "Mucugê",
           "Cluster 2"
          ],
          [
           "Mundo Novo",
           "Cluster 2"
          ],
          [
           "Itarantim",
           "Cluster 2"
          ],
          [
           "Itapicuru",
           "Cluster 2"
          ],
          [
           "Xique-Xique",
           "Cluster 2"
          ],
          [
           "Irecê",
           "Cluster 2"
          ],
          [
           "Ipecaetá",
           "Cluster 2"
          ],
          [
           "Ichu",
           "Cluster 2"
          ],
          [
           "Ipirá",
           "Cluster 2"
          ],
          [
           "Iramaia",
           "Cluster 2"
          ],
          [
           "Iraquara",
           "Cluster 2"
          ],
          [
           "Ibitiara",
           "Cluster 2"
          ],
          [
           "Irará",
           "Cluster 2"
          ],
          [
           "Inhambupe",
           "Cluster 2"
          ],
          [
           "Ibirapuã",
           "Cluster 2"
          ],
          [
           "Ibipitanga",
           "Cluster 2"
          ],
          [
           "Igaporã",
           "Cluster 2"
          ],
          [
           "Ibipeba",
           "Cluster 2"
          ],
          [
           "Itaguaçu da Bahia",
           "Cluster 2"
          ],
          [
           "Ibiassucê",
           "Cluster 2"
          ],
          [
           "Iaçu",
           "Cluster 2"
          ],
          [
           "Heliópolis",
           "Cluster 2"
          ],
          [
           "Itaeté",
           "Cluster 2"
          ]
         ],
         "hovertemplate": "Cluster=%{customdata[1]}<br>Porcentagem de Casos=%{x}<br>Nome Município=%{customdata[0]}<extra></extra>",
         "legendgroup": "Cluster 2",
         "marker": {
          "color": "#00cc96"
         },
         "name": "Cluster 2",
         "notched": true,
         "offsetgroup": "Cluster 2",
         "showlegend": false,
         "type": "box",
         "x": [
          0.04447942,
          0,
          0.035080027,
          0.04486317,
          0.031032918,
          0.017099863,
          0.0062359693,
          0.017725782,
          0.037498124,
          0,
          0.0055915904,
          0.050403226,
          0.019033117,
          0.009615385,
          0.02217,
          0.005122426,
          0.035595633,
          0.005761696,
          0.03033367,
          0.021333333,
          0.022063691,
          0.04531722,
          0.051266275,
          0,
          0.032432433,
          0,
          0.008974244,
          0.018162005,
          0.020032052,
          0.014008872,
          0.03173218,
          0.02087247,
          0.02473207,
          0,
          0.007292882,
          0.051803406,
          0.019210188,
          0.031623736,
          0.01715781,
          0.050845303,
          0.021251727,
          0.031433363,
          0.03744617,
          0.041695926,
          0.011842027,
          0.039040133,
          0.009100009,
          0.036575228,
          0.014685007,
          0.015064779,
          0.00826993,
          0.026571011,
          0.028933663,
          0,
          0.027458949,
          0.032678768,
          0.016698208,
          0.0054743527,
          0.04196188,
          0.043182556,
          0.010912266,
          0.019585898,
          0.03913384,
          0.021741495,
          0.042940572,
          0.009851246,
          0.03722731,
          0.033802055,
          0.046973005,
          0.011550011,
          0.04092909,
          0.031433363,
          0.019078247,
          0,
          0,
          0.02226056,
          0.017254766,
          0.037489906,
          0.016911888,
          0.046291254,
          0,
          0.025108805,
          0.04017947,
          0.04496268,
          0.018319212,
          0.020828994,
          0.032341525,
          0.015867978,
          0.023637868,
          0.013881498,
          0.017838031,
          0.039176,
          0.022608358,
          0.016266335,
          0.016886188,
          0.008784387,
          0.02701451,
          0,
          0.03216468,
          0.014859577,
          0.051405072,
          0.022719527,
          0.047651462,
          0.008710043,
          0.005110123,
          0.033134528,
          0.03818043,
          0.047588833,
          0.035811488,
          0.017089635,
          0.013963555,
          0,
          0.007264802,
          0.029169401,
          0.043703906,
          0.018409425,
          0.04975478,
          0.0067750677,
          0.023349483,
          0.017806267,
          0.009175995,
          0,
          0.0091124475,
          0.009180208,
          0.0510139,
          0.010356255,
          0.022766726,
          0.033589453,
          0.043462064,
          0.0065715974,
          0.042959016,
          0.042277712,
          0.04526935,
          0.033429164,
          0.05108035,
          0.043863498,
          0.022084806,
          0.045281067,
          0.007210672,
          0.04030633,
          0.028304556,
          0.0062386924,
          0,
          0.033760972,
          0.011102476,
          0.0283246,
          0.04297009,
          0.023132084,
          0.03209311,
          0.016836435,
          0.0039225686,
          0.01209775,
          0.02258356,
          0.007163837,
          0.018296588,
          0.03203075,
          0.0086318515,
          0.013473717,
          0.022346368,
          0.023944449,
          0.030129557,
          0,
          0.02953628,
          0.044185467,
          0.037216995,
          0.026851764,
          0.032260146,
          0.031070374,
          0.012773227,
          0.030299969,
          0.02349624,
          0.02373183,
          0.036815155,
          0.03213606,
          0.011296882,
          0,
          0.018424124,
          0.021415569,
          0.013588803,
          0.029460866,
          0.050224077,
          0.014579385,
          0.024116725
         ],
         "xaxis": "x2",
         "yaxis": "y2"
        },
        {
         "alignmentgroup": "True",
         "bingroup": "x",
         "hovertemplate": "Cluster=Cluster 3<br>Porcentagem de Casos=%{x}<br>count=%{y}<extra></extra>",
         "legendgroup": "Cluster 3",
         "marker": {
          "color": "#ab63fa",
          "opacity": 0.7,
          "pattern": {
           "shape": ""
          }
         },
         "name": "Cluster 3",
         "offsetgroup": "Cluster 3",
         "orientation": "v",
         "showlegend": true,
         "type": "histogram",
         "x": [
          0.3751617,
          0.36002555,
          0.33238366,
          0.37714347,
          0.35078713,
          0.51474255,
          0.3384228,
          0.43635955,
          0.335707,
          0.6204972,
          0.4003857,
          0.40744513,
          0.5742741,
          0.53373873,
          0.36578834,
          0.47433203,
          0.4841998,
          0.51751226,
          0.50747496,
          0.43475112,
          0.6810515,
          0.7940447,
          0.50961715,
          1.0681158,
          0.34696668,
          0.9067107,
          0.35583463,
          0.6304287
         ],
         "xaxis": "x",
         "yaxis": "y"
        },
        {
         "alignmentgroup": "True",
         "customdata": [
          [
           "Apuarema",
           "Cluster 3"
          ],
          [
           "Ibirataia",
           "Cluster 3"
          ],
          [
           "Dom Macedo Costa",
           "Cluster 3"
          ],
          [
           "Morro do Chapéu",
           "Cluster 3"
          ],
          [
           "Alcobaça",
           "Cluster 3"
          ],
          [
           "Vitória da Conquista",
           "Cluster 3"
          ],
          [
           "Aurelino Leal",
           "Cluster 3"
          ],
          [
           "Salvador",
           "Cluster 3"
          ],
          [
           "Itapé",
           "Cluster 3"
          ],
          [
           "Belmonte",
           "Cluster 3"
          ],
          [
           "Ipiaú",
           "Cluster 3"
          ],
          [
           "Itapitanga",
           "Cluster 3"
          ],
          [
           "Itambé",
           "Cluster 3"
          ],
          [
           "Porto Seguro",
           "Cluster 3"
          ],
          [
           "Camaçari",
           "Cluster 3"
          ],
          [
           "Camacan",
           "Cluster 3"
          ],
          [
           "Gongogi",
           "Cluster 3"
          ],
          [
           "Itajuípe",
           "Cluster 3"
          ],
          [
           "Itagimirim",
           "Cluster 3"
          ],
          [
           "Itabuna",
           "Cluster 3"
          ],
          [
           "Itabela",
           "Cluster 3"
          ],
          [
           "São José da Vitória",
           "Cluster 3"
          ],
          [
           "Teixeira de Freitas",
           "Cluster 3"
          ],
          [
           "Pau Brasil",
           "Cluster 3"
          ],
          [
           "Coaraci",
           "Cluster 3"
          ],
          [
           "Itapetinga",
           "Cluster 3"
          ],
          [
           "Macarani",
           "Cluster 3"
          ],
          [
           "Santa Cruz Cabrália",
           "Cluster 3"
          ]
         ],
         "hovertemplate": "Cluster=%{customdata[1]}<br>Porcentagem de Casos=%{x}<br>Nome Município=%{customdata[0]}<extra></extra>",
         "legendgroup": "Cluster 3",
         "marker": {
          "color": "#ab63fa"
         },
         "name": "Cluster 3",
         "notched": true,
         "offsetgroup": "Cluster 3",
         "showlegend": false,
         "type": "box",
         "x": [
          0.3751617,
          0.36002555,
          0.33238366,
          0.37714347,
          0.35078713,
          0.51474255,
          0.3384228,
          0.43635955,
          0.335707,
          0.6204972,
          0.4003857,
          0.40744513,
          0.5742741,
          0.53373873,
          0.36578834,
          0.47433203,
          0.4841998,
          0.51751226,
          0.50747496,
          0.43475112,
          0.6810515,
          0.7940447,
          0.50961715,
          1.0681158,
          0.34696668,
          0.9067107,
          0.35583463,
          0.6304287
         ],
         "xaxis": "x2",
         "yaxis": "y2"
        }
       ],
       "layout": {
        "barmode": "relative",
        "height": 600,
        "legend": {
         "title": {
          "text": "Cluster"
         },
         "tracegroupgap": 0
        },
        "margin": {
         "t": 60
        },
        "template": {
         "data": {
          "bar": [
           {
            "error_x": {
             "color": "#2a3f5f"
            },
            "error_y": {
             "color": "#2a3f5f"
            },
            "marker": {
             "line": {
              "color": "#E5ECF6",
              "width": 0.5
             },
             "pattern": {
              "fillmode": "overlay",
              "size": 10,
              "solidity": 0.2
             }
            },
            "type": "bar"
           }
          ],
          "barpolar": [
           {
            "marker": {
             "line": {
              "color": "#E5ECF6",
              "width": 0.5
             },
             "pattern": {
              "fillmode": "overlay",
              "size": 10,
              "solidity": 0.2
             }
            },
            "type": "barpolar"
           }
          ],
          "carpet": [
           {
            "aaxis": {
             "endlinecolor": "#2a3f5f",
             "gridcolor": "white",
             "linecolor": "white",
             "minorgridcolor": "white",
             "startlinecolor": "#2a3f5f"
            },
            "baxis": {
             "endlinecolor": "#2a3f5f",
             "gridcolor": "white",
             "linecolor": "white",
             "minorgridcolor": "white",
             "startlinecolor": "#2a3f5f"
            },
            "type": "carpet"
           }
          ],
          "choropleth": [
           {
            "colorbar": {
             "outlinewidth": 0,
             "ticks": ""
            },
            "type": "choropleth"
           }
          ],
          "contour": [
           {
            "colorbar": {
             "outlinewidth": 0,
             "ticks": ""
            },
            "colorscale": [
             [
              0,
              "#0d0887"
             ],
             [
              0.1111111111111111,
              "#46039f"
             ],
             [
              0.2222222222222222,
              "#7201a8"
             ],
             [
              0.3333333333333333,
              "#9c179e"
             ],
             [
              0.4444444444444444,
              "#bd3786"
             ],
             [
              0.5555555555555556,
              "#d8576b"
             ],
             [
              0.6666666666666666,
              "#ed7953"
             ],
             [
              0.7777777777777778,
              "#fb9f3a"
             ],
             [
              0.8888888888888888,
              "#fdca26"
             ],
             [
              1,
              "#f0f921"
             ]
            ],
            "type": "contour"
           }
          ],
          "contourcarpet": [
           {
            "colorbar": {
             "outlinewidth": 0,
             "ticks": ""
            },
            "type": "contourcarpet"
           }
          ],
          "heatmap": [
           {
            "colorbar": {
             "outlinewidth": 0,
             "ticks": ""
            },
            "colorscale": [
             [
              0,
              "#0d0887"
             ],
             [
              0.1111111111111111,
              "#46039f"
             ],
             [
              0.2222222222222222,
              "#7201a8"
             ],
             [
              0.3333333333333333,
              "#9c179e"
             ],
             [
              0.4444444444444444,
              "#bd3786"
             ],
             [
              0.5555555555555556,
              "#d8576b"
             ],
             [
              0.6666666666666666,
              "#ed7953"
             ],
             [
              0.7777777777777778,
              "#fb9f3a"
             ],
             [
              0.8888888888888888,
              "#fdca26"
             ],
             [
              1,
              "#f0f921"
             ]
            ],
            "type": "heatmap"
           }
          ],
          "heatmapgl": [
           {
            "colorbar": {
             "outlinewidth": 0,
             "ticks": ""
            },
            "colorscale": [
             [
              0,
              "#0d0887"
             ],
             [
              0.1111111111111111,
              "#46039f"
             ],
             [
              0.2222222222222222,
              "#7201a8"
             ],
             [
              0.3333333333333333,
              "#9c179e"
             ],
             [
              0.4444444444444444,
              "#bd3786"
             ],
             [
              0.5555555555555556,
              "#d8576b"
             ],
             [
              0.6666666666666666,
              "#ed7953"
             ],
             [
              0.7777777777777778,
              "#fb9f3a"
             ],
             [
              0.8888888888888888,
              "#fdca26"
             ],
             [
              1,
              "#f0f921"
             ]
            ],
            "type": "heatmapgl"
           }
          ],
          "histogram": [
           {
            "marker": {
             "pattern": {
              "fillmode": "overlay",
              "size": 10,
              "solidity": 0.2
             }
            },
            "type": "histogram"
           }
          ],
          "histogram2d": [
           {
            "colorbar": {
             "outlinewidth": 0,
             "ticks": ""
            },
            "colorscale": [
             [
              0,
              "#0d0887"
             ],
             [
              0.1111111111111111,
              "#46039f"
             ],
             [
              0.2222222222222222,
              "#7201a8"
             ],
             [
              0.3333333333333333,
              "#9c179e"
             ],
             [
              0.4444444444444444,
              "#bd3786"
             ],
             [
              0.5555555555555556,
              "#d8576b"
             ],
             [
              0.6666666666666666,
              "#ed7953"
             ],
             [
              0.7777777777777778,
              "#fb9f3a"
             ],
             [
              0.8888888888888888,
              "#fdca26"
             ],
             [
              1,
              "#f0f921"
             ]
            ],
            "type": "histogram2d"
           }
          ],
          "histogram2dcontour": [
           {
            "colorbar": {
             "outlinewidth": 0,
             "ticks": ""
            },
            "colorscale": [
             [
              0,
              "#0d0887"
             ],
             [
              0.1111111111111111,
              "#46039f"
             ],
             [
              0.2222222222222222,
              "#7201a8"
             ],
             [
              0.3333333333333333,
              "#9c179e"
             ],
             [
              0.4444444444444444,
              "#bd3786"
             ],
             [
              0.5555555555555556,
              "#d8576b"
             ],
             [
              0.6666666666666666,
              "#ed7953"
             ],
             [
              0.7777777777777778,
              "#fb9f3a"
             ],
             [
              0.8888888888888888,
              "#fdca26"
             ],
             [
              1,
              "#f0f921"
             ]
            ],
            "type": "histogram2dcontour"
           }
          ],
          "mesh3d": [
           {
            "colorbar": {
             "outlinewidth": 0,
             "ticks": ""
            },
            "type": "mesh3d"
           }
          ],
          "parcoords": [
           {
            "line": {
             "colorbar": {
              "outlinewidth": 0,
              "ticks": ""
             }
            },
            "type": "parcoords"
           }
          ],
          "pie": [
           {
            "automargin": true,
            "type": "pie"
           }
          ],
          "scatter": [
           {
            "fillpattern": {
             "fillmode": "overlay",
             "size": 10,
             "solidity": 0.2
            },
            "type": "scatter"
           }
          ],
          "scatter3d": [
           {
            "line": {
             "colorbar": {
              "outlinewidth": 0,
              "ticks": ""
             }
            },
            "marker": {
             "colorbar": {
              "outlinewidth": 0,
              "ticks": ""
             }
            },
            "type": "scatter3d"
           }
          ],
          "scattercarpet": [
           {
            "marker": {
             "colorbar": {
              "outlinewidth": 0,
              "ticks": ""
             }
            },
            "type": "scattercarpet"
           }
          ],
          "scattergeo": [
           {
            "marker": {
             "colorbar": {
              "outlinewidth": 0,
              "ticks": ""
             }
            },
            "type": "scattergeo"
           }
          ],
          "scattergl": [
           {
            "marker": {
             "colorbar": {
              "outlinewidth": 0,
              "ticks": ""
             }
            },
            "type": "scattergl"
           }
          ],
          "scattermapbox": [
           {
            "marker": {
             "colorbar": {
              "outlinewidth": 0,
              "ticks": ""
             }
            },
            "type": "scattermapbox"
           }
          ],
          "scatterpolar": [
           {
            "marker": {
             "colorbar": {
              "outlinewidth": 0,
              "ticks": ""
             }
            },
            "type": "scatterpolar"
           }
          ],
          "scatterpolargl": [
           {
            "marker": {
             "colorbar": {
              "outlinewidth": 0,
              "ticks": ""
             }
            },
            "type": "scatterpolargl"
           }
          ],
          "scatterternary": [
           {
            "marker": {
             "colorbar": {
              "outlinewidth": 0,
              "ticks": ""
             }
            },
            "type": "scatterternary"
           }
          ],
          "surface": [
           {
            "colorbar": {
             "outlinewidth": 0,
             "ticks": ""
            },
            "colorscale": [
             [
              0,
              "#0d0887"
             ],
             [
              0.1111111111111111,
              "#46039f"
             ],
             [
              0.2222222222222222,
              "#7201a8"
             ],
             [
              0.3333333333333333,
              "#9c179e"
             ],
             [
              0.4444444444444444,
              "#bd3786"
             ],
             [
              0.5555555555555556,
              "#d8576b"
             ],
             [
              0.6666666666666666,
              "#ed7953"
             ],
             [
              0.7777777777777778,
              "#fb9f3a"
             ],
             [
              0.8888888888888888,
              "#fdca26"
             ],
             [
              1,
              "#f0f921"
             ]
            ],
            "type": "surface"
           }
          ],
          "table": [
           {
            "cells": {
             "fill": {
              "color": "#EBF0F8"
             },
             "line": {
              "color": "white"
             }
            },
            "header": {
             "fill": {
              "color": "#C8D4E3"
             },
             "line": {
              "color": "white"
             }
            },
            "type": "table"
           }
          ]
         },
         "layout": {
          "annotationdefaults": {
           "arrowcolor": "#2a3f5f",
           "arrowhead": 0,
           "arrowwidth": 1
          },
          "autotypenumbers": "strict",
          "coloraxis": {
           "colorbar": {
            "outlinewidth": 0,
            "ticks": ""
           }
          },
          "colorscale": {
           "diverging": [
            [
             0,
             "#8e0152"
            ],
            [
             0.1,
             "#c51b7d"
            ],
            [
             0.2,
             "#de77ae"
            ],
            [
             0.3,
             "#f1b6da"
            ],
            [
             0.4,
             "#fde0ef"
            ],
            [
             0.5,
             "#f7f7f7"
            ],
            [
             0.6,
             "#e6f5d0"
            ],
            [
             0.7,
             "#b8e186"
            ],
            [
             0.8,
             "#7fbc41"
            ],
            [
             0.9,
             "#4d9221"
            ],
            [
             1,
             "#276419"
            ]
           ],
           "sequential": [
            [
             0,
             "#0d0887"
            ],
            [
             0.1111111111111111,
             "#46039f"
            ],
            [
             0.2222222222222222,
             "#7201a8"
            ],
            [
             0.3333333333333333,
             "#9c179e"
            ],
            [
             0.4444444444444444,
             "#bd3786"
            ],
            [
             0.5555555555555556,
             "#d8576b"
            ],
            [
             0.6666666666666666,
             "#ed7953"
            ],
            [
             0.7777777777777778,
             "#fb9f3a"
            ],
            [
             0.8888888888888888,
             "#fdca26"
            ],
            [
             1,
             "#f0f921"
            ]
           ],
           "sequentialminus": [
            [
             0,
             "#0d0887"
            ],
            [
             0.1111111111111111,
             "#46039f"
            ],
            [
             0.2222222222222222,
             "#7201a8"
            ],
            [
             0.3333333333333333,
             "#9c179e"
            ],
            [
             0.4444444444444444,
             "#bd3786"
            ],
            [
             0.5555555555555556,
             "#d8576b"
            ],
            [
             0.6666666666666666,
             "#ed7953"
            ],
            [
             0.7777777777777778,
             "#fb9f3a"
            ],
            [
             0.8888888888888888,
             "#fdca26"
            ],
            [
             1,
             "#f0f921"
            ]
           ]
          },
          "colorway": [
           "#636efa",
           "#EF553B",
           "#00cc96",
           "#ab63fa",
           "#FFA15A",
           "#19d3f3",
           "#FF6692",
           "#B6E880",
           "#FF97FF",
           "#FECB52"
          ],
          "font": {
           "color": "#2a3f5f"
          },
          "geo": {
           "bgcolor": "white",
           "lakecolor": "white",
           "landcolor": "#E5ECF6",
           "showlakes": true,
           "showland": true,
           "subunitcolor": "white"
          },
          "hoverlabel": {
           "align": "left"
          },
          "hovermode": "closest",
          "mapbox": {
           "style": "light"
          },
          "paper_bgcolor": "white",
          "plot_bgcolor": "#E5ECF6",
          "polar": {
           "angularaxis": {
            "gridcolor": "white",
            "linecolor": "white",
            "ticks": ""
           },
           "bgcolor": "#E5ECF6",
           "radialaxis": {
            "gridcolor": "white",
            "linecolor": "white",
            "ticks": ""
           }
          },
          "scene": {
           "xaxis": {
            "backgroundcolor": "#E5ECF6",
            "gridcolor": "white",
            "gridwidth": 2,
            "linecolor": "white",
            "showbackground": true,
            "ticks": "",
            "zerolinecolor": "white"
           },
           "yaxis": {
            "backgroundcolor": "#E5ECF6",
            "gridcolor": "white",
            "gridwidth": 2,
            "linecolor": "white",
            "showbackground": true,
            "ticks": "",
            "zerolinecolor": "white"
           },
           "zaxis": {
            "backgroundcolor": "#E5ECF6",
            "gridcolor": "white",
            "gridwidth": 2,
            "linecolor": "white",
            "showbackground": true,
            "ticks": "",
            "zerolinecolor": "white"
           }
          },
          "shapedefaults": {
           "line": {
            "color": "#2a3f5f"
           }
          },
          "ternary": {
           "aaxis": {
            "gridcolor": "white",
            "linecolor": "white",
            "ticks": ""
           },
           "baxis": {
            "gridcolor": "white",
            "linecolor": "white",
            "ticks": ""
           },
           "bgcolor": "#E5ECF6",
           "caxis": {
            "gridcolor": "white",
            "linecolor": "white",
            "ticks": ""
           }
          },
          "title": {
           "x": 0.05
          },
          "xaxis": {
           "automargin": true,
           "gridcolor": "white",
           "linecolor": "white",
           "ticks": "",
           "title": {
            "standoff": 15
           },
           "zerolinecolor": "white",
           "zerolinewidth": 2
          },
          "yaxis": {
           "automargin": true,
           "gridcolor": "white",
           "linecolor": "white",
           "ticks": "",
           "title": {
            "standoff": 15
           },
           "zerolinecolor": "white",
           "zerolinewidth": 2
          }
         }
        },
        "xaxis": {
         "anchor": "y",
         "domain": [
          0,
          1
         ],
         "title": {
          "text": "Porcentagem de Casos"
         }
        },
        "xaxis2": {
         "anchor": "y2",
         "domain": [
          0,
          1
         ],
         "matches": "x",
         "showgrid": true,
         "showticklabels": false
        },
        "yaxis": {
         "anchor": "x",
         "domain": [
          0,
          0.7326
         ],
         "title": {
          "text": "count"
         }
        },
        "yaxis2": {
         "anchor": "x2",
         "domain": [
          0.7426,
          1
         ],
         "matches": "y2",
         "showgrid": false,
         "showline": false,
         "showticklabels": false,
         "ticks": ""
        }
       }
      }
     },
     "metadata": {},
     "output_type": "display_data"
    }
   ],
   "source": [
    "plot_model(modelo, plot = 'distribution', feature = 'Porcentagem de Casos', label=False)"
   ]
  },
  {
   "cell_type": "code",
   "execution_count": 117,
   "id": "5630cfd7",
   "metadata": {
    "scrolled": false
   },
   "outputs": [
    {
     "data": {
      "text/html": [],
      "text/plain": [
       "<IPython.core.display.HTML object>"
      ]
     },
     "metadata": {},
     "output_type": "display_data"
    },
    {
     "data": {
      "application/vnd.plotly.v1+json": {
       "config": {
        "plotlyServerURL": "https://plot.ly"
       },
       "data": [
        {
         "customdata": [
          [
           "Jaguaquara"
          ],
          [
           "Cravolândia"
          ],
          [
           "Jitaúna"
          ],
          [
           "Jiquiriçá"
          ],
          [
           "Santo Antônio de Jesus"
          ],
          [
           "Curaçá"
          ],
          [
           "Jequié"
          ],
          [
           "Jandaíra"
          ],
          [
           "Jaguaripe"
          ],
          [
           "Jaguarari"
          ],
          [
           "Wenceslau Guimarães"
          ],
          [
           "Encruzilhada"
          ],
          [
           "Jacobina"
          ],
          [
           "Pindobaçu"
          ],
          [
           "Santa Rita de Cássia"
          ],
          [
           "Santa Maria da Vitória"
          ],
          [
           "Ituberá"
          ],
          [
           "Santa Luzia"
          ],
          [
           "Cotegipe"
          ],
          [
           "São Domingos"
          ],
          [
           "Coronel João Sá"
          ],
          [
           "São Felipe"
          ],
          [
           "Itaberaba"
          ],
          [
           "Castro Alves"
          ],
          [
           "Catu"
          ],
          [
           "Sapeaçu"
          ],
          [
           "Laje"
          ],
          [
           "Lafaiete Coutinho"
          ],
          [
           "São José do Jacuípe"
          ],
          [
           "Jussara"
          ],
          [
           "Santa Inês"
          ],
          [
           "Juazeiro"
          ],
          [
           "João Dourado"
          ],
          [
           "São Félix do Coribe"
          ],
          [
           "Conceição do Jacuípe"
          ],
          [
           "Conde"
          ],
          [
           "Condeúba"
          ],
          [
           "Contendas do Sincorá"
          ],
          [
           "São Félix"
          ],
          [
           "Cordeiros"
          ],
          [
           "Conceição da Feira"
          ],
          [
           "Paulo Afonso"
          ],
          [
           "Feira de Santana"
          ],
          [
           "Firmino Alves"
          ],
          [
           "Itanagra"
          ],
          [
           "Ibititá"
          ],
          [
           "Ponto Novo"
          ],
          [
           "Ribeira do Pombal"
          ],
          [
           "Itamari"
          ],
          [
           "Igrapiúna"
          ],
          [
           "Iguaí"
          ],
          [
           "Ilhéus"
          ],
          [
           "Potiraguá"
          ],
          [
           "Retirolândia"
          ],
          [
           "Ipupiara"
          ],
          [
           "Irajuba"
          ],
          [
           "Remanso"
          ],
          [
           "Prado"
          ],
          [
           "Itagibá"
          ],
          [
           "Itagi"
          ],
          [
           "Itacaré"
          ],
          [
           "Itanhém"
          ],
          [
           "Itaparica"
          ],
          [
           "Pojuca"
          ],
          [
           "Poções"
          ],
          [
           "Itororó"
          ],
          [
           "Muniz Ferreira"
          ],
          [
           "Gandu"
          ],
          [
           "Gavião"
          ],
          [
           "Itiúba"
          ],
          [
           "Glória"
          ],
          [
           "Piraí do Norte"
          ],
          [
           "Governador Mangabeira"
          ],
          [
           "Filadélfia"
          ],
          [
           "Guajeru"
          ],
          [
           "Guaratinga"
          ],
          [
           "Itaquara"
          ],
          [
           "Ruy Barbosa"
          ],
          [
           "Rodelas"
          ],
          [
           "Planalto"
          ],
          [
           "Ibicoara"
          ],
          [
           "Ibicuí"
          ],
          [
           "Rio Real"
          ],
          [
           "Piripá"
          ],
          [
           "Saúde"
          ],
          [
           "Saubara"
          ],
          [
           "Lauro de Freitas"
          ],
          [
           "Araci"
          ],
          [
           "Mirangaba"
          ],
          [
           "Arataca"
          ],
          [
           "Aratuípe"
          ],
          [
           "Miguel Calmon"
          ],
          [
           "Uibaí"
          ],
          [
           "Ubatã"
          ],
          [
           "Ubaitaba"
          ],
          [
           "Barra da Estiva"
          ],
          [
           "Nova Redenção"
          ],
          [
           "Barra do Mendes"
          ],
          [
           "Mata de São João"
          ],
          [
           "Mascote"
          ],
          [
           "Nova Soure"
          ],
          [
           "Barro Preto"
          ],
          [
           "Uauá"
          ],
          [
           "Caravelas"
          ],
          [
           "Uruçuca"
          ],
          [
           "Mirante"
          ],
          [
           "Valença"
          ],
          [
           "Valente"
          ],
          [
           "Wanderley"
          ],
          [
           "Acajutiba"
          ],
          [
           "Adustina"
          ],
          [
           "Nazaré"
          ],
          [
           "Mulungu do Morro"
          ],
          [
           "Alagoinhas"
          ],
          [
           "Nilo Peçanha"
          ],
          [
           "Amargosa"
          ],
          [
           "Belo Campo"
          ],
          [
           "Nova Canaã"
          ],
          [
           "Anagé"
          ],
          [
           "Andaraí"
          ],
          [
           "Andorinha"
          ],
          [
           "Nova Fátima"
          ],
          [
           "Nova Ibiá"
          ],
          [
           "Várzea do Poço"
          ],
          [
           "Antônio Cardoso"
          ],
          [
           "Várzea da Roça"
          ],
          [
           "América Dourada"
          ],
          [
           "Biritinga"
          ],
          [
           "Maraú"
          ],
          [
           "Boa Vista do Tupim"
          ],
          [
           "Tremedal"
          ],
          [
           "Sítio do Mato"
          ],
          [
           "Mairi"
          ],
          [
           "Serrolândia"
          ],
          [
           "Camamu"
          ],
          [
           "Serrinha"
          ],
          [
           "Maiquinique"
          ],
          [
           "Serra Dourada"
          ],
          [
           "Cairu"
          ],
          [
           "Serra do Ramalho"
          ],
          [
           "Candeal"
          ],
          [
           "Madre de Deus"
          ],
          [
           "Luís Eduardo Magalhães"
          ],
          [
           "Cândido Sales"
          ],
          [
           "Senhor do Bonfim"
          ],
          [
           "Ourolândia"
          ],
          [
           "Capela do Alto Alegre"
          ],
          [
           "Capim Grosso"
          ],
          [
           "Maetinga"
          ],
          [
           "Cafarnaum"
          ],
          [
           "Presidente Tancredo Neves"
          ],
          [
           "Sobradinho"
          ],
          [
           "Bom Jesus da Lapa"
          ],
          [
           "Bom Jesus da Serra"
          ],
          [
           "Terra Nova"
          ],
          [
           "Teolândia"
          ],
          [
           "Teofilândia"
          ],
          [
           "Maragogipe"
          ],
          [
           "Brejões"
          ],
          [
           "Malhada"
          ],
          [
           "Taperoá"
          ],
          [
           "Tapiramutá"
          ],
          [
           "Tanquinho"
          ],
          [
           "Nova Viçosa"
          ],
          [
           "Tanhaçu"
          ],
          [
           "Manoel Vitorino"
          ],
          [
           "Souto Soares"
          ],
          [
           "Caém"
          ],
          [
           "Brumado"
          ]
         ],
         "hovertemplate": "Cluster=Cluster 0<br>PCA1=%{x}<br>PCA2=%{y}<br>Feature=%{customdata[0]}<extra></extra>",
         "legendgroup": "Cluster 0",
         "marker": {
          "color": "#636efa",
          "opacity": 0.5,
          "symbol": "circle"
         },
         "mode": "markers",
         "name": "Cluster 0",
         "orientation": "v",
         "showlegend": true,
         "textposition": "top center",
         "type": "scatter",
         "x": [
          0.8537580657555918,
          -0.5909341827938879,
          -0.33111523488063926,
          -0.39320113332507317,
          0.046969471261601475,
          -0.4771510689016168,
          0.3047453426359551,
          0.3457334593296883,
          -0.44027312097352933,
          -0.39687034307434144,
          -0.08105258267471091,
          0.6742003599745631,
          0.21720552654994396,
          0.17570843221432816,
          0.3123169467161737,
          -0.22929274695778695,
          -0.5850284540138555,
          0.712219053074177,
          -0.2125766661849969,
          -0.48694923712268184,
          -0.47011478224992304,
          -0.5349339758482241,
          -0.5433538759982784,
          0.5674723191994593,
          0.02830502097688893,
          -0.46153211771244307,
          -0.5514542125603302,
          -0.36561617200420965,
          -0.2825865795609336,
          -0.24088883802707117,
          -0.4050607772007031,
          0.5750115408361007,
          0.025408883965603687,
          0.9522062720696719,
          -0.10676873613327865,
          0.7816657598356996,
          0.5644190731078162,
          -0.42475937399100194,
          0.34377904716082625,
          0.4845218235860699,
          -0.47294568955428684,
          0.40880903652222766,
          0.45370163923588114,
          -0.25738041085371377,
          -0.5323594553788373,
          -0.5710274629541651,
          0.09764481919265834,
          -0.10991269954888355,
          -0.2916415009789185,
          0.3887590359901666,
          -0.4804668606900827,
          -0.000553081678327788,
          -0.53422706245672,
          -0.5856425196574451,
          -0.12664706323240016,
          -0.5973558227772877,
          0.019252036307919572,
          0.6933557374003135,
          -0.08233897137232327,
          -0.28380649903227606,
          0.35168996966896865,
          0.2190460578765572,
          0.16835622306284698,
          -0.5482381246113025,
          0.5520771787267822,
          0.6119041305867946,
          -0.4732398429951138,
          0.2575452196725115,
          0.6101221665504799,
          0.17819118951524934,
          -0.5595724834183504,
          -0.15162283627645848,
          -0.18289288868853693,
          0.181455928599606,
          0.3936839563325959,
          -0.5402120817415418,
          -0.3032349580695384,
          0.11652169210964655,
          0.2868759665580351,
          0.5494554403163425,
          -0.3620863307142947,
          -0.09794583724762665,
          0.2437540172664309,
          -0.27282993523881083,
          -0.6065794350347269,
          0.8653777851629251,
          0.9488228490055055,
          0.24382745878918727,
          -0.15104692458851976,
          0.36549139810986186,
          -0.35671712014717705,
          -0.1680047116387329,
          0.28640247015815784,
          0.322797702761076,
          -0.28763599413022906,
          -0.3498729589980824,
          0.49140549441512804,
          -0.15056645589221096,
          0.5310657759822768,
          -0.37376841343997097,
          0.27903802075285455,
          -0.15232579869996501,
          -0.5048560311916263,
          0.9072614546024993,
          0.4779706538283565,
          -0.3904414983845643,
          0.17636646206061993,
          0.1157735646990416,
          -0.2661204168814052,
          -0.5553276331260133,
          -0.25135828345770966,
          0.010978554383643492,
          -0.4564756533767221,
          -0.5170718044766506,
          -0.06483819736747476,
          -0.03608119301098799,
          0.27423705234759677,
          -0.3617705631544297,
          0.07179131149372461,
          -0.31774438448138626,
          -0.1434665664027408,
          0.0022531127085690344,
          -0.4061675905294048,
          0.6103085592759527,
          -0.5541524525569744,
          -0.228438718110891,
          0.14952606453216957,
          -0.5884147047315882,
          -0.22341765754721432,
          -0.08402301337829589,
          -0.38667568359431986,
          -0.5313016418002867,
          -0.09447247155907215,
          -0.022773480629718245,
          -0.07209790738589715,
          0.11358054505118655,
          -0.5431266178684958,
          -0.41252082453749656,
          0.218979278770422,
          -0.5515320311358675,
          -0.5620460992638757,
          -0.30890940028186414,
          0.6913546883151036,
          0.3699073408104097,
          0.6291726496494245,
          0.4648398053673937,
          0.38387455496722833,
          0.14142185447205027,
          0.016364808342117513,
          -0.11090299805667357,
          -0.07658427028069947,
          -0.5803258724586728,
          -0.2816389670014951,
          0.040574558414649235,
          0.15551650671423956,
          0.7454511871811934,
          -0.43872635573790936,
          -0.31871144200096324,
          0.08731567186086937,
          -0.4384218213223776,
          -0.47209142829750994,
          -0.39288102744740966,
          0.7442916168092449,
          -0.22982000751042897,
          -0.2722864834644365,
          -0.4207370561608367,
          -0.4374862940767807,
          -0.3233284192495604,
          0.7150058025009352
         ],
         "xaxis": "x",
         "y": [
          0.30426827175738663,
          0.8097687641175686,
          -0.0430892707906678,
          -0.23455397379279153,
          -0.052566778702160616,
          0.2153087359826292,
          0.19464563031022997,
          -0.5004808435265236,
          0.27512165407153466,
          -0.3688696391358181,
          0.0477969647142286,
          -0.21403920520221006,
          -0.09976331769690229,
          0.03971992391009419,
          -0.049870478291720775,
          0.041190473119370505,
          -0.18019069242181793,
          -0.10917049192418506,
          -0.3515825959024263,
          -0.04760473058396166,
          -0.10096688475666696,
          -0.11514675900687152,
          0.19362386307551202,
          -0.8159322288180917,
          -0.06846627207692023,
          -0.13871001874497732,
          0.07820364340511986,
          -0.20363675496701134,
          -0.1780350193413184,
          -0.2595838797364274,
          -0.03794204374312066,
          -0.057130708354616346,
          -0.15557484720001108,
          -0.24628234696791335,
          -0.01546314011750603,
          -0.9850048199705846,
          -0.046149462023779474,
          0.8804254154756167,
          -0.2532263455434283,
          0.5314530174183595,
          0.1068143588038196,
          0.038159519709943183,
          -0.20482030316087999,
          -0.3882419844121135,
          -0.16703056949210227,
          0.0027060565591275733,
          -0.19425156229480495,
          -0.01490024319095173,
          -0.2720338054596585,
          -0.4876684329004523,
          -0.0962511379376603,
          -0.27146977343414425,
          0.22101767617627488,
          -0.029757092210336865,
          -0.18760794601518196,
          0.18809467927296866,
          -0.15149567498788108,
          -0.0020087721180566207,
          -0.21299908733606468,
          -0.12572642188653954,
          -0.026243622179551267,
          -0.18824457909012313,
          -0.07636301895860223,
          0.006347259138927789,
          -0.00835597489928856,
          -0.23089812907667107,
          -0.1514258271982986,
          -0.48230565273228376,
          -0.44636261799738736,
          -0.10582059879872356,
          0.24801956074111695,
          -0.009273881885238549,
          -0.66643146053923,
          -0.2420516858925369,
          0.1962457883025241,
          0.02661361305280965,
          0.19532656150763766,
          -0.13488378188497124,
          -0.2022405869890801,
          -0.049094355503593715,
          -0.20017172309899015,
          -0.18748450111754678,
          -0.27125755430057635,
          0.12722659618116522,
          0.04872272757919383,
          0.06822329310858029,
          -0.06628609857677296,
          -0.3993261620193951,
          -0.0113248193072669,
          -0.08966454144165933,
          -0.24930207336743576,
          -0.13974011704521563,
          -0.03702666219805998,
          -0.012675838610365302,
          -0.09418447594805991,
          1.3484178541425826,
          0.13585165667991186,
          -0.3619899814522534,
          -0.22898332802851615,
          -0.1433666392207121,
          -0.6670103173842944,
          -0.9045891554920772,
          -0.09961251612054857,
          -0.5582100874594175,
          -0.11516661470726898,
          -0.05546851858345865,
          -0.22256689451908732,
          -0.04885296521410261,
          -0.07619923484402834,
          -0.27362693253156994,
          -0.12490489799373097,
          -0.10239638912838786,
          -0.1967274327670413,
          0.4469956600463217,
          -0.17867424262006493,
          0.28555771280150427,
          -0.36272549299369233,
          0.08570170687100324,
          0.5637437871279375,
          -0.20091270754307006,
          0.8258674043815907,
          -0.2308359992242893,
          0.07913038521607546,
          -0.3977075169183085,
          0.615148540054545,
          -0.0730326283057143,
          -0.06349554984531977,
          0.6665174826015293,
          0.18739057916345864,
          0.15998640235170491,
          -0.07932313921166953,
          0.10991338076297665,
          0.008639268232615896,
          -0.06168728647326354,
          -1.2049814558989973,
          -0.0434065933606702,
          -0.14793123226312574,
          -0.20174947431075824,
          -1.2285473203287167,
          0.001712013143169855,
          9.694381464381113,
          0.0089793250484111,
          -0.26288535762812176,
          0.01739622090835051,
          -0.00613972693643545,
          -0.017990580753044525,
          -0.13519047065745118,
          -0.10336561795193917,
          -0.049810700800930946,
          -0.5335913458081316,
          -0.10986927994977573,
          -0.2394329580050068,
          -0.20088679149400718,
          -0.24110902733481865,
          -0.14873149870758878,
          -0.18868733665630993,
          0.009332469066516882,
          0.03494641148160184,
          0.59503015641524,
          0.5294865325746371,
          -0.15556463035258672,
          -0.15678555111209364,
          -0.09898298333330603,
          0.4714021699677147,
          0.34276892541460946,
          0.6631756016045935,
          -0.1128401272646867,
          -0.5602815438067639,
          0.8488398122542823
         ],
         "yaxis": "y"
        },
        {
         "customdata": [
          [
           "Jussari"
          ],
          [
           "Maracás"
          ],
          [
           "Itamaraju"
          ],
          [
           "Itaju do Colônia"
          ],
          [
           "Mucuri"
          ],
          [
           "Medeiros Neto"
          ],
          [
           "Lajedão"
          ],
          [
           "Itapebi"
          ],
          [
           "Santa Cruz da Vitória"
          ],
          [
           "Barreiras"
          ],
          [
           "Eunápolis"
          ],
          [
           "Barra do Rocha"
          ],
          [
           "Floresta Azul"
          ],
          [
           "Barra do Choça"
          ],
          [
           "São Francisco do Conde"
          ],
          [
           "Guanambi"
          ],
          [
           "Una"
          ],
          [
           "Salinas da Margarida"
          ],
          [
           "Dário Meira"
          ],
          [
           "Ibicaraí"
          ],
          [
           "Buerarema"
          ],
          [
           "Ibiquera"
          ],
          [
           "Ibirapitanga"
          ],
          [
           "São Sebastião do Passé"
          ],
          [
           "Várzea Nova"
          ],
          [
           "Ribeirão do Largo"
          ],
          [
           "Ibotirama"
          ],
          [
           "Conceição do Almeida"
          ],
          [
           "Vera Cruz"
          ],
          [
           "Carinhanha"
          ],
          [
           "Almadina"
          ],
          [
           "Rafael Jambeiro"
          ],
          [
           "Simões Filho"
          ],
          [
           "Aiquara"
          ],
          [
           "Dias d'Ávila"
          ],
          [
           "Candeias"
          ],
          [
           "Canavieiras"
          ]
         ],
         "hovertemplate": "Cluster=Cluster 1<br>PCA1=%{x}<br>PCA2=%{y}<br>Feature=%{customdata[0]}<extra></extra>",
         "legendgroup": "Cluster 1",
         "marker": {
          "color": "#EF553B",
          "opacity": 0.5,
          "symbol": "circle"
         },
         "mode": "markers",
         "name": "Cluster 1",
         "orientation": "v",
         "showlegend": true,
         "textposition": "top center",
         "type": "scatter",
         "x": [
          1.9979917095814395,
          1.379309785973051,
          1.38133252664726,
          1.4426191675070208,
          1.8400834491413158,
          1.0097965112239868,
          1.6612502424328401,
          1.6339200798127607,
          1.488687144464608,
          1.382514718247736,
          2.2136752074420616,
          2.1726970069032996,
          2.1787260291258073,
          1.622723811210682,
          1.1505061305060422,
          2.04776089138204,
          1.8230992448344978,
          0.9592716874265946,
          1.2458662292461624,
          1.722095149576616,
          1.3875439131572844,
          1.317092885825051,
          1.4177492958992566,
          1.2093320155337248,
          1.400026028167239,
          1.7856998466008225,
          1.7605292366055705,
          1.1312455488736455,
          1.1846285494015691,
          1.611535599484582,
          2.1505433870580446,
          1.6298126224957712,
          1.4634316273924148,
          1.4903629746547467,
          1.840453135793836,
          1.1910013833097226,
          1.4016838853264941
         ],
         "xaxis": "x",
         "y": [
          -0.1477298384380901,
          0.06997326489480273,
          -0.1937581663377437,
          -0.18812626714887346,
          -0.13472378036750582,
          -0.17203528839967624,
          -0.4480938835395314,
          -0.28476838626941076,
          -0.0152263011450588,
          0.05051004366472085,
          1.4231768584044686,
          0.04156161253553544,
          -1.0246490745399943,
          0.29383906517783653,
          -0.14403959615462628,
          -0.7952045923123257,
          -0.12560977018348501,
          -0.04106483581250493,
          0.2545083746550836,
          -0.16871031586732113,
          -0.04495985513742721,
          0.5398057634024165,
          -0.11795536015802861,
          -0.1672726153578172,
          -0.34976713514513114,
          -0.620869215893846,
          -0.029923397361910332,
          -0.36360039175768327,
          -0.20268275461250973,
          0.28554014141915735,
          0.09386079663653306,
          -0.04126198907098708,
          -0.15294683780212476,
          1.0240258656749623,
          1.223283696871929,
          13.449358394499729,
          -3.139459720232809
         ],
         "yaxis": "y"
        },
        {
         "customdata": [
          [
           "Olindina"
          ],
          [
           "Novo Triunfo"
          ],
          [
           "Oliveira dos Brejinhos"
          ],
          [
           "Ouriçangas"
          ],
          [
           "Sento Sé"
          ],
          [
           "Sebastião Laranjeiras"
          ],
          [
           "Serra Preta"
          ],
          [
           "Sítio do Quinto"
          ],
          [
           "Presidente Jânio Quadros"
          ],
          [
           "Tabocas do Brejo Velho"
          ],
          [
           "Tanque Novo"
          ],
          [
           "Teodoro Sampaio"
          ],
          [
           "Tucano"
          ],
          [
           "Ubaíra"
          ],
          [
           "Palmas de Monte Alto"
          ],
          [
           "Umburanas"
          ],
          [
           "Nova Itarana"
          ],
          [
           "Urandi"
          ],
          [
           "Utinga"
          ],
          [
           "Varzedo"
          ],
          [
           "Nordestina"
          ],
          [
           "Vereda"
          ],
          [
           "Wagner"
          ],
          [
           "Novo Horizonte"
          ],
          [
           "Palmeiras"
          ],
          [
           "Pé de Serra"
          ],
          [
           "Paramirim"
          ],
          [
           "Pintadas"
          ],
          [
           "Santa Brígida"
          ],
          [
           "Santa Bárbara"
          ],
          [
           "Piritiba"
          ],
          [
           "Planaltino"
          ],
          [
           "Rio do Pires"
          ],
          [
           "Rio do Antônio"
          ],
          [
           "Rio de Contas"
          ],
          [
           "Ribeira do Amparo"
          ],
          [
           "Riacho de Santana"
          ],
          [
           "Riachão do Jacuípe"
          ],
          [
           "Riachão das Neves"
          ],
          [
           "Presidente Dutra"
          ],
          [
           "Quixabeira"
          ],
          [
           "Quijingue"
          ],
          [
           "Santa Teresinha"
          ],
          [
           "Seabra"
          ],
          [
           "Pindaí"
          ],
          [
           "Santaluz"
          ],
          [
           "Paratinga"
          ],
          [
           "Paripiranga"
          ],
          [
           "Sátiro Dias"
          ],
          [
           "Queimadas"
          ],
          [
           "São Miguel das Matas"
          ],
          [
           "Pedrão"
          ],
          [
           "São Gonçalo dos Campos"
          ],
          [
           "São Gabriel"
          ],
          [
           "Pedro Alexandre"
          ],
          [
           "São Desidério"
          ],
          [
           "Santo Estêvão"
          ],
          [
           "Piatã"
          ],
          [
           "Santo Amaro"
          ],
          [
           "Santanópolis"
          ],
          [
           "Santana"
          ],
          [
           "Pilão Arcado"
          ],
          [
           "Mutuípe"
          ],
          [
           "Abaíra"
          ],
          [
           "Muquém de São Francisco"
          ],
          [
           "Canápolis"
          ],
          [
           "Canarana"
          ],
          [
           "Candiba"
          ],
          [
           "Cansanção"
          ],
          [
           "Canudos"
          ],
          [
           "Caraíbas"
          ],
          [
           "Cardeal da Silva"
          ],
          [
           "Casa Nova"
          ],
          [
           "Catolândia"
          ],
          [
           "Caturama"
          ],
          [
           "Central"
          ],
          [
           "Chorrochó"
          ],
          [
           "Cícero Dantas"
          ],
          [
           "Cipó"
          ],
          [
           "Campo Formoso"
          ],
          [
           "Cocos"
          ],
          [
           "Coração de Maria"
          ],
          [
           "Coribe"
          ],
          [
           "Correntina"
          ],
          [
           "Crisópolis"
          ],
          [
           "Cristópolis"
          ],
          [
           "Cruz das Almas"
          ],
          [
           "Dom Basílio"
          ],
          [
           "Elísio Medrado"
          ],
          [
           "Entre Rios"
          ],
          [
           "Érico Cardoso"
          ],
          [
           "Muritiba"
          ],
          [
           "Euclides da Cunha"
          ],
          [
           "Fátima"
          ],
          [
           "Feira da Mata"
          ],
          [
           "Conceição do Coité"
          ],
          [
           "Formosa do Rio Preto"
          ],
          [
           "Campo Alegre de Lourdes"
          ],
          [
           "Caetité"
          ],
          [
           "Abaré"
          ],
          [
           "Água Fria"
          ],
          [
           "Amélia Rodrigues"
          ],
          [
           "Angical"
          ],
          [
           "Anguera"
          ],
          [
           "Antas"
          ],
          [
           "Antônio Gonçalves"
          ],
          [
           "Aporá"
          ],
          [
           "Araças"
          ],
          [
           "Aracatu"
          ],
          [
           "Aramari"
          ],
          [
           "Baianópolis"
          ],
          [
           "Baixa Grande"
          ],
          [
           "Banzaê"
          ],
          [
           "Caldeirão Grande"
          ],
          [
           "Barra"
          ],
          [
           "Barrocas"
          ],
          [
           "Boa Nova"
          ],
          [
           "Boninal"
          ],
          [
           "Bonito"
          ],
          [
           "Boquira"
          ],
          [
           "Botuporã"
          ],
          [
           "Brejolândia"
          ],
          [
           "Brotas de Macaúbas"
          ],
          [
           "Buritirama"
          ],
          [
           "Caatiba"
          ],
          [
           "Cabaceiras do Paraguaçu"
          ],
          [
           "Cachoeira"
          ],
          [
           "Caculé"
          ],
          [
           "Caetanos"
          ],
          [
           "Barro Alto"
          ],
          [
           "Gentio do Ouro"
          ],
          [
           "Esplanada"
          ],
          [
           "Itiruçu"
          ],
          [
           "Itatim"
          ],
          [
           "Ituaçu"
          ],
          [
           "Iuiú"
          ],
          [
           "Jaborandi"
          ],
          [
           "Jacaraci"
          ],
          [
           "Jeremoabo"
          ],
          [
           "Jucuruçu"
          ],
          [
           "Jussiape"
          ],
          [
           "Lagoa Real"
          ],
          [
           "Lajedinho"
          ],
          [
           "Lajedo do Tabocal"
          ],
          [
           "Lamarão"
          ],
          [
           "Lapão"
          ],
          [
           "Lençóis"
          ],
          [
           "Licínio de Almeida"
          ],
          [
           "Livramento de Nossa Senhora"
          ],
          [
           "Macajuba"
          ],
          [
           "Macaúbas"
          ],
          [
           "Macururé"
          ],
          [
           "Malhada de Pedras"
          ],
          [
           "Mansidão"
          ],
          [
           "Marcionílio Souza"
          ],
          [
           "Matina"
          ],
          [
           "Milagres"
          ],
          [
           "Monte Santo"
          ],
          [
           "Morpará"
          ],
          [
           "Mortugaba"
          ],
          [
           "Mucugê"
          ],
          [
           "Mundo Novo"
          ],
          [
           "Itarantim"
          ],
          [
           "Itapicuru"
          ],
          [
           "Xique-Xique"
          ],
          [
           "Irecê"
          ],
          [
           "Ipecaetá"
          ],
          [
           "Ichu"
          ],
          [
           "Ipirá"
          ],
          [
           "Iramaia"
          ],
          [
           "Iraquara"
          ],
          [
           "Ibitiara"
          ],
          [
           "Irará"
          ],
          [
           "Inhambupe"
          ],
          [
           "Ibirapuã"
          ],
          [
           "Ibipitanga"
          ],
          [
           "Igaporã"
          ],
          [
           "Ibipeba"
          ],
          [
           "Itaguaçu da Bahia"
          ],
          [
           "Ibiassucê"
          ],
          [
           "Iaçu"
          ],
          [
           "Heliópolis"
          ],
          [
           "Itaeté"
          ]
         ],
         "hovertemplate": "Cluster=Cluster 2<br>PCA1=%{x}<br>PCA2=%{y}<br>Feature=%{customdata[0]}<extra></extra>",
         "legendgroup": "Cluster 2",
         "marker": {
          "color": "#00cc96",
          "opacity": 0.5,
          "symbol": "circle"
         },
         "mode": "markers",
         "name": "Cluster 2",
         "orientation": "v",
         "showlegend": true,
         "textposition": "top center",
         "type": "scatter",
         "x": [
          -0.6878690134254145,
          -1.1503589848382887,
          -0.7856024044119673,
          -0.6838788456289444,
          -0.8276836028838677,
          -0.9725573100241944,
          -1.085518361112108,
          -0.9660490973596982,
          -0.7604594124577404,
          -1.1503589848383151,
          -1.0922185104461424,
          -0.6262741970619402,
          -0.9524556370283386,
          -1.0503797300069309,
          -0.9198388274517703,
          -1.0970968083978407,
          -0.7802412119857843,
          -1.0904497792474923,
          -0.8349542749016993,
          -0.9285383554249882,
          -0.9209442075862003,
          -0.6791576712831916,
          -0.6173003479578411,
          -1.1503589848382885,
          -0.8131316648310778,
          -1.1503589848382885,
          -1.0570462138011616,
          -0.9615133279974177,
          -0.942068871413268,
          -1.0046969433777502,
          -0.8204127952936049,
          -0.933330337314833,
          -0.8931988253441913,
          -1.15035898483829,
          -1.0745287484721342,
          -0.6117153448151569,
          -0.9506144859420383,
          -0.8215403705717788,
          -0.9719547874047499,
          -0.6216775556780596,
          -0.9293868839046725,
          -0.8235198442729301,
          -0.7609996104937611,
          -0.7168113259279261,
          -1.0272274545818714,
          -0.7444258420388012,
          -1.055738530548075,
          -0.7700555390212358,
          -0.9976666025455415,
          -0.9937177940243461,
          -1.0643695557085322,
          -0.8740778058460164,
          -0.8495113259718937,
          -1.1503589848382905,
          -0.8648451683381553,
          -0.8105703142550142,
          -0.9767336575037464,
          -1.0934375293291902,
          -0.7140459969453318,
          -0.7013535897270209,
          -1.0368949697141945,
          -0.9467079082331772,
          -0.7434515023429166,
          -0.9242943573022429,
          -0.7038696978460018,
          -1.0479272828281365,
          -0.7632752905896963,
          -0.798890555628159,
          -0.6619410958292159,
          -1.0302637928545568,
          -0.7247847666943611,
          -0.8235198442729296,
          -0.9519863821088094,
          -1.1503589848382898,
          -1.1503589848382898,
          -0.9188971994467974,
          -0.9709466514385048,
          -0.7605448618243761,
          -0.9745118383979949,
          -0.6690298296443128,
          -1.1503589848382896,
          -0.8892815955157315,
          -0.7325792131165704,
          -0.6828441180986852,
          -0.9598787118263794,
          -0.933782393903082,
          -0.8140769145567142,
          -0.9853662514309066,
          -0.9045761606119124,
          -1.006021360142349,
          -0.9648819542990894,
          -0.7430131385702238,
          -0.915280843578256,
          -0.981224203776459,
          -0.9747790710274736,
          -1.0590203130237887,
          -0.8694663676996103,
          -1.1503589848382885,
          -0.8159157028092108,
          -0.9958514523147922,
          -0.6158571600597209,
          -0.9141249336619517,
          -0.6548866037367536,
          -1.0597933373430155,
          -1.0972247306704666,
          -0.8058313992882549,
          -0.7533649071305399,
          -0.6555378162265055,
          -0.777996791018995,
          -0.9726636569127619,
          -1.0051681447300398,
          -1.1503589848382885,
          -1.074820718228442,
          -0.8470601570474521,
          -0.6959326679610998,
          -0.9589406861745797,
          -0.6330166401526491,
          -1.0799129010579243,
          -0.9075747516462398,
          -0.9652122281090982,
          -1.0549484337862556,
          -1.15035898483829,
          -1.0556091944486652,
          -1.054904634207219,
          -0.6199244879370609,
          -1.0426762817373212,
          -0.9136341614608364,
          -0.8011011609570972,
          -0.6984473041508548,
          -1.0820285524243902,
          -0.7036779209582572,
          -0.7107620065757118,
          -0.6796554157807689,
          -0.8027678109568902,
          -0.6192335720924441,
          -0.6942732614026331,
          -0.9207246577175393,
          -0.6795335942675481,
          -1.0753835568605103,
          -0.7312601320955151,
          -0.8560526764120838,
          -1.0854900458414654,
          -1.1503589848382887,
          -0.7993177249915292,
          -1.0349171906684322,
          -0.8558442628502764,
          -0.7035627618616577,
          -0.9098352282623864,
          -0.8166598792518179,
          -0.9752963960576229,
          -1.1095727354946834,
          -1.024568491855309,
          -0.9155387023425198,
          -1.0758705378754227,
          -0.9601139493620837,
          -0.8173083028229834,
          -1.0606063555294591,
          -1.0102614072970983,
          -0.9180049779092688,
          -0.9013883879335248,
          -0.8370766032104027,
          -1.1503589848382887,
          -0.8432454006095262,
          -0.6909254745203942,
          -0.7633825477503261,
          -0.8711585827864711,
          -0.8149230802025991,
          -0.8272941420238737,
          -1.017544987747132,
          -0.8353046909014913,
          -0.9060487870951008,
          -0.9035991675698738,
          -0.7675608126113831,
          -0.8162133036632895,
          -1.0328957863510455,
          -1.150358984838288,
          -0.9587878573095828,
          -0.9276832807336194,
          -1.009064757865204,
          -0.8440295515518601,
          -0.6281369622672759,
          -0.9987648457598389,
          -0.8995970887669447
         ],
         "xaxis": "x",
         "y": [
          0.03698118371653092,
          -0.18816142706103398,
          0.04205494351453168,
          -0.2907965966587741,
          -0.004327529546333914,
          -0.2571199876744651,
          0.21569236552185975,
          0.12113364732913548,
          -0.10220929363923995,
          0.3190636338829552,
          0.07528608831682802,
          -0.10307894303044861,
          -0.15452442644909817,
          0.2392165740031035,
          -0.009833731208767928,
          0.08532188413331222,
          -0.009687535485082301,
          -0.020995080246798862,
          0.31707217053884057,
          0.04396965770344466,
          0.09778641910981827,
          -0.08659011322130639,
          0.04149336383128687,
          -0.6215674140305459,
          -0.5258270157326095,
          0.09026534186164924,
          -0.3301291095222279,
          0.04167473475618506,
          -0.051553111337132494,
          0.024184016412846714,
          -0.01737151059404489,
          0.09935342794929478,
          -0.11613118502618468,
          -0.07916595077971443,
          0.10723869632312305,
          -0.13635288612338992,
          -0.21983352373339288,
          -0.08150074671560846,
          -0.29470395707578495,
          0.6279245277572861,
          -0.016613431452051478,
          -0.021963238067590454,
          -0.2877081211383414,
          0.14532471571899874,
          -0.04914057008197776,
          -0.14752471761819036,
          0.021568969996280662,
          -0.23287349502909677,
          -0.10388961447192499,
          -0.00671939269947234,
          0.11644880905246269,
          0.19099199061417185,
          0.059357202172591036,
          -0.2783952991539035,
          -0.08816862220563976,
          0.0338095369513992,
          -0.10216150563306241,
          0.1505946585323966,
          0.40839770167384826,
          -0.34003453751248813,
          -0.0980287587556329,
          0.22178772861086052,
          -0.13845249984489585,
          0,
          0.10306906484221824,
          2.238481161830339,
          0.3636332758633762,
          7.867263060868591,
          -0.05279667575445096,
          0.13407792399233576,
          -0.253160731528976,
          -0.22082714184217966,
          -1.1402948783276048,
          0.22222237000548553,
          -0.042594243392766525,
          -0.00017875167332801343,
          -0.23661158396325455,
          -0.33105720423296087,
          -0.3249763975195282,
          -1.3996250646941164,
          0.44786034676443226,
          0.18092391316720438,
          -0.17043251795487932,
          0.21964929287083187,
          -0.15330145573040815,
          -0.118156850653548,
          -0.15677757200351164,
          -0.2306417431027395,
          -0.630846218039339,
          -0.008802300567122206,
          0.1431586394698647,
          0.10362633794763529,
          -0.24769861389899872,
          -0.22443829446072502,
          -0.010856096298771076,
          0.553583468859961,
          0.06010145104467857,
          0.3014557307187138,
          -1.4191393943476613,
          -0.015977849111405262,
          0.10026773599048995,
          0.06770103495937704,
          0.47185901485971044,
          0.45040502779427766,
          -0.3085821732134958,
          -0.4227650342020376,
          -0.954161318347792,
          -0.5395061793062882,
          -0.46210582688641816,
          -1.7529531528443645,
          -0.5638496239622924,
          0.7576529149078081,
          0.03123143281523429,
          -0.4056358229247615,
          -1.0136517280626332,
          -0.19150676509205916,
          0.013665732835961281,
          -0.15786621012852184,
          -0.34076456768270336,
          -0.43577324921828253,
          -0.6289469594304355,
          -0.11061218168619298,
          -1.300127789671739,
          0.9685420730995956,
          -0.5820442078970625,
          1.480194107788408,
          0.3441227779839919,
          -0.15479292700507982,
          -0.054318132584781686,
          -1.0144653441096068,
          -0.3212385458563175,
          0.08960978641242506,
          -0.15439908919139758,
          -0.23343491270418976,
          -0.0033701255657410827,
          -0.05660233675964606,
          -0.2791608614009534,
          -0.2570076733988212,
          -0.4121558970172698,
          -0.22885673173749943,
          0.17907215183573358,
          -0.005546767827331611,
          0.27162820494883433,
          0.12736903869646943,
          -0.12861848467062933,
          -0.056862269251243,
          0.08523098602382417,
          -0.6143673759903442,
          -0.0024616609317693965,
          -0.04288065802823712,
          -0.06792440817318662,
          -0.15588357039786274,
          -0.42105907490833233,
          -0.0559937942887514,
          0.07255064118740026,
          0.12787231417105882,
          -0.046564455427594575,
          -0.17739451546123924,
          -0.20214805460803847,
          -0.07401788478933226,
          0.15587361507917843,
          0.1896950989411494,
          0.3547582505813212,
          -0.037795647631910796,
          -0.06645227200261952,
          0.7627681669599288,
          0.3081301601547211,
          -0.15611060382531267,
          -0.23965545332412505,
          0.4062553619727427,
          0.25604312783330013,
          -0.8414874164843554,
          0.13330496633262004,
          -0.5940224025291813,
          -0.45388349464793376,
          -0.009032533219914972,
          0.2081054525870714,
          -0.27520925541327906,
          -0.28173314858887155,
          -0.056746531871768056,
          0.37082847736872054,
          0.3766207008815604,
          0.08557571810939245
         ],
         "yaxis": "y"
        },
        {
         "customdata": [
          [
           "Apuarema"
          ],
          [
           "Ibirataia"
          ],
          [
           "Dom Macedo Costa"
          ],
          [
           "Morro do Chapéu"
          ],
          [
           "Alcobaça"
          ],
          [
           "Vitória da Conquista"
          ],
          [
           "Aurelino Leal"
          ],
          [
           "Salvador"
          ],
          [
           "Itapé"
          ],
          [
           "Belmonte"
          ],
          [
           "Ipiaú"
          ],
          [
           "Itapitanga"
          ],
          [
           "Itambé"
          ],
          [
           "Porto Seguro"
          ],
          [
           "Camaçari"
          ],
          [
           "Camacan"
          ],
          [
           "Gongogi"
          ],
          [
           "Itajuípe"
          ],
          [
           "Itagimirim"
          ],
          [
           "Itabuna"
          ],
          [
           "Itabela"
          ],
          [
           "São José da Vitória"
          ],
          [
           "Teixeira de Freitas"
          ],
          [
           "Pau Brasil"
          ],
          [
           "Coaraci"
          ],
          [
           "Itapetinga"
          ],
          [
           "Macarani"
          ],
          [
           "Santa Cruz Cabrália"
          ]
         ],
         "hovertemplate": "Cluster=Cluster 3<br>PCA1=%{x}<br>PCA2=%{y}<br>Feature=%{customdata[0]}<extra></extra>",
         "legendgroup": "Cluster 3",
         "marker": {
          "color": "#ab63fa",
          "opacity": 0.5,
          "symbol": "circle"
         },
         "mode": "markers",
         "name": "Cluster 3",
         "orientation": "v",
         "showlegend": true,
         "textposition": "top center",
         "type": "scatter",
         "x": [
          2.750513216355881,
          2.593129892369547,
          2.3057138590865836,
          2.7711192962659372,
          2.4970702398841933,
          4.201852813619327,
          2.368507910441891,
          3.386838768576674,
          2.3402694900024166,
          5.301473211409823,
          3.012788388108507,
          3.0861911758838207,
          4.820852673946488,
          4.399372084731558,
          2.653050427942068,
          3.7816706209459174,
          3.8842740060727565,
          4.230651806694521,
          4.126285515141704,
          3.370114553458009,
          5.931106908424214,
          7.105992161965741,
          4.148559678245827,
          9.955740780535272,
          2.4573458131896055,
          8.277475554592414,
          2.549553349348479,
          5.404738809760828
         ],
         "xaxis": "x",
         "y": [
          -0.1434297685516077,
          -0.15357783008915443,
          -0.9487689402171661,
          -0.20911128511930754,
          0.2049200377800802,
          -0.8160700350520803,
          0.9722934206993915,
          -0.8256698173687135,
          0.6261919375911609,
          0.22502831572182708,
          0.023620936558197605,
          0.155756671560028,
          0.35714090335196697,
          -0.3989994031390147,
          -1.9245116200784327,
          -0.2954371593382491,
          -0.40994181619937914,
          -0.10246618607762267,
          0.1781558340566395,
          -0.14076159700596294,
          0.48922048986469935,
          0.3506103797802509,
          -0.45074759631486333,
          0.22691099816705781,
          -0.13639054652609278,
          -0.38636531214218556,
          -0.12911687063411315,
          0.9425186083705511
         ],
         "yaxis": "y"
        }
       ],
       "layout": {
        "height": 600,
        "legend": {
         "title": {
          "text": "Cluster"
         },
         "tracegroupgap": 0
        },
        "margin": {
         "t": 60
        },
        "plot_bgcolor": "rgb(240,240,240)",
        "template": {
         "data": {
          "bar": [
           {
            "error_x": {
             "color": "#2a3f5f"
            },
            "error_y": {
             "color": "#2a3f5f"
            },
            "marker": {
             "line": {
              "color": "#E5ECF6",
              "width": 0.5
             },
             "pattern": {
              "fillmode": "overlay",
              "size": 10,
              "solidity": 0.2
             }
            },
            "type": "bar"
           }
          ],
          "barpolar": [
           {
            "marker": {
             "line": {
              "color": "#E5ECF6",
              "width": 0.5
             },
             "pattern": {
              "fillmode": "overlay",
              "size": 10,
              "solidity": 0.2
             }
            },
            "type": "barpolar"
           }
          ],
          "carpet": [
           {
            "aaxis": {
             "endlinecolor": "#2a3f5f",
             "gridcolor": "white",
             "linecolor": "white",
             "minorgridcolor": "white",
             "startlinecolor": "#2a3f5f"
            },
            "baxis": {
             "endlinecolor": "#2a3f5f",
             "gridcolor": "white",
             "linecolor": "white",
             "minorgridcolor": "white",
             "startlinecolor": "#2a3f5f"
            },
            "type": "carpet"
           }
          ],
          "choropleth": [
           {
            "colorbar": {
             "outlinewidth": 0,
             "ticks": ""
            },
            "type": "choropleth"
           }
          ],
          "contour": [
           {
            "colorbar": {
             "outlinewidth": 0,
             "ticks": ""
            },
            "colorscale": [
             [
              0,
              "#0d0887"
             ],
             [
              0.1111111111111111,
              "#46039f"
             ],
             [
              0.2222222222222222,
              "#7201a8"
             ],
             [
              0.3333333333333333,
              "#9c179e"
             ],
             [
              0.4444444444444444,
              "#bd3786"
             ],
             [
              0.5555555555555556,
              "#d8576b"
             ],
             [
              0.6666666666666666,
              "#ed7953"
             ],
             [
              0.7777777777777778,
              "#fb9f3a"
             ],
             [
              0.8888888888888888,
              "#fdca26"
             ],
             [
              1,
              "#f0f921"
             ]
            ],
            "type": "contour"
           }
          ],
          "contourcarpet": [
           {
            "colorbar": {
             "outlinewidth": 0,
             "ticks": ""
            },
            "type": "contourcarpet"
           }
          ],
          "heatmap": [
           {
            "colorbar": {
             "outlinewidth": 0,
             "ticks": ""
            },
            "colorscale": [
             [
              0,
              "#0d0887"
             ],
             [
              0.1111111111111111,
              "#46039f"
             ],
             [
              0.2222222222222222,
              "#7201a8"
             ],
             [
              0.3333333333333333,
              "#9c179e"
             ],
             [
              0.4444444444444444,
              "#bd3786"
             ],
             [
              0.5555555555555556,
              "#d8576b"
             ],
             [
              0.6666666666666666,
              "#ed7953"
             ],
             [
              0.7777777777777778,
              "#fb9f3a"
             ],
             [
              0.8888888888888888,
              "#fdca26"
             ],
             [
              1,
              "#f0f921"
             ]
            ],
            "type": "heatmap"
           }
          ],
          "heatmapgl": [
           {
            "colorbar": {
             "outlinewidth": 0,
             "ticks": ""
            },
            "colorscale": [
             [
              0,
              "#0d0887"
             ],
             [
              0.1111111111111111,
              "#46039f"
             ],
             [
              0.2222222222222222,
              "#7201a8"
             ],
             [
              0.3333333333333333,
              "#9c179e"
             ],
             [
              0.4444444444444444,
              "#bd3786"
             ],
             [
              0.5555555555555556,
              "#d8576b"
             ],
             [
              0.6666666666666666,
              "#ed7953"
             ],
             [
              0.7777777777777778,
              "#fb9f3a"
             ],
             [
              0.8888888888888888,
              "#fdca26"
             ],
             [
              1,
              "#f0f921"
             ]
            ],
            "type": "heatmapgl"
           }
          ],
          "histogram": [
           {
            "marker": {
             "pattern": {
              "fillmode": "overlay",
              "size": 10,
              "solidity": 0.2
             }
            },
            "type": "histogram"
           }
          ],
          "histogram2d": [
           {
            "colorbar": {
             "outlinewidth": 0,
             "ticks": ""
            },
            "colorscale": [
             [
              0,
              "#0d0887"
             ],
             [
              0.1111111111111111,
              "#46039f"
             ],
             [
              0.2222222222222222,
              "#7201a8"
             ],
             [
              0.3333333333333333,
              "#9c179e"
             ],
             [
              0.4444444444444444,
              "#bd3786"
             ],
             [
              0.5555555555555556,
              "#d8576b"
             ],
             [
              0.6666666666666666,
              "#ed7953"
             ],
             [
              0.7777777777777778,
              "#fb9f3a"
             ],
             [
              0.8888888888888888,
              "#fdca26"
             ],
             [
              1,
              "#f0f921"
             ]
            ],
            "type": "histogram2d"
           }
          ],
          "histogram2dcontour": [
           {
            "colorbar": {
             "outlinewidth": 0,
             "ticks": ""
            },
            "colorscale": [
             [
              0,
              "#0d0887"
             ],
             [
              0.1111111111111111,
              "#46039f"
             ],
             [
              0.2222222222222222,
              "#7201a8"
             ],
             [
              0.3333333333333333,
              "#9c179e"
             ],
             [
              0.4444444444444444,
              "#bd3786"
             ],
             [
              0.5555555555555556,
              "#d8576b"
             ],
             [
              0.6666666666666666,
              "#ed7953"
             ],
             [
              0.7777777777777778,
              "#fb9f3a"
             ],
             [
              0.8888888888888888,
              "#fdca26"
             ],
             [
              1,
              "#f0f921"
             ]
            ],
            "type": "histogram2dcontour"
           }
          ],
          "mesh3d": [
           {
            "colorbar": {
             "outlinewidth": 0,
             "ticks": ""
            },
            "type": "mesh3d"
           }
          ],
          "parcoords": [
           {
            "line": {
             "colorbar": {
              "outlinewidth": 0,
              "ticks": ""
             }
            },
            "type": "parcoords"
           }
          ],
          "pie": [
           {
            "automargin": true,
            "type": "pie"
           }
          ],
          "scatter": [
           {
            "fillpattern": {
             "fillmode": "overlay",
             "size": 10,
             "solidity": 0.2
            },
            "type": "scatter"
           }
          ],
          "scatter3d": [
           {
            "line": {
             "colorbar": {
              "outlinewidth": 0,
              "ticks": ""
             }
            },
            "marker": {
             "colorbar": {
              "outlinewidth": 0,
              "ticks": ""
             }
            },
            "type": "scatter3d"
           }
          ],
          "scattercarpet": [
           {
            "marker": {
             "colorbar": {
              "outlinewidth": 0,
              "ticks": ""
             }
            },
            "type": "scattercarpet"
           }
          ],
          "scattergeo": [
           {
            "marker": {
             "colorbar": {
              "outlinewidth": 0,
              "ticks": ""
             }
            },
            "type": "scattergeo"
           }
          ],
          "scattergl": [
           {
            "marker": {
             "colorbar": {
              "outlinewidth": 0,
              "ticks": ""
             }
            },
            "type": "scattergl"
           }
          ],
          "scattermapbox": [
           {
            "marker": {
             "colorbar": {
              "outlinewidth": 0,
              "ticks": ""
             }
            },
            "type": "scattermapbox"
           }
          ],
          "scatterpolar": [
           {
            "marker": {
             "colorbar": {
              "outlinewidth": 0,
              "ticks": ""
             }
            },
            "type": "scatterpolar"
           }
          ],
          "scatterpolargl": [
           {
            "marker": {
             "colorbar": {
              "outlinewidth": 0,
              "ticks": ""
             }
            },
            "type": "scatterpolargl"
           }
          ],
          "scatterternary": [
           {
            "marker": {
             "colorbar": {
              "outlinewidth": 0,
              "ticks": ""
             }
            },
            "type": "scatterternary"
           }
          ],
          "surface": [
           {
            "colorbar": {
             "outlinewidth": 0,
             "ticks": ""
            },
            "colorscale": [
             [
              0,
              "#0d0887"
             ],
             [
              0.1111111111111111,
              "#46039f"
             ],
             [
              0.2222222222222222,
              "#7201a8"
             ],
             [
              0.3333333333333333,
              "#9c179e"
             ],
             [
              0.4444444444444444,
              "#bd3786"
             ],
             [
              0.5555555555555556,
              "#d8576b"
             ],
             [
              0.6666666666666666,
              "#ed7953"
             ],
             [
              0.7777777777777778,
              "#fb9f3a"
             ],
             [
              0.8888888888888888,
              "#fdca26"
             ],
             [
              1,
              "#f0f921"
             ]
            ],
            "type": "surface"
           }
          ],
          "table": [
           {
            "cells": {
             "fill": {
              "color": "#EBF0F8"
             },
             "line": {
              "color": "white"
             }
            },
            "header": {
             "fill": {
              "color": "#C8D4E3"
             },
             "line": {
              "color": "white"
             }
            },
            "type": "table"
           }
          ]
         },
         "layout": {
          "annotationdefaults": {
           "arrowcolor": "#2a3f5f",
           "arrowhead": 0,
           "arrowwidth": 1
          },
          "autotypenumbers": "strict",
          "coloraxis": {
           "colorbar": {
            "outlinewidth": 0,
            "ticks": ""
           }
          },
          "colorscale": {
           "diverging": [
            [
             0,
             "#8e0152"
            ],
            [
             0.1,
             "#c51b7d"
            ],
            [
             0.2,
             "#de77ae"
            ],
            [
             0.3,
             "#f1b6da"
            ],
            [
             0.4,
             "#fde0ef"
            ],
            [
             0.5,
             "#f7f7f7"
            ],
            [
             0.6,
             "#e6f5d0"
            ],
            [
             0.7,
             "#b8e186"
            ],
            [
             0.8,
             "#7fbc41"
            ],
            [
             0.9,
             "#4d9221"
            ],
            [
             1,
             "#276419"
            ]
           ],
           "sequential": [
            [
             0,
             "#0d0887"
            ],
            [
             0.1111111111111111,
             "#46039f"
            ],
            [
             0.2222222222222222,
             "#7201a8"
            ],
            [
             0.3333333333333333,
             "#9c179e"
            ],
            [
             0.4444444444444444,
             "#bd3786"
            ],
            [
             0.5555555555555556,
             "#d8576b"
            ],
            [
             0.6666666666666666,
             "#ed7953"
            ],
            [
             0.7777777777777778,
             "#fb9f3a"
            ],
            [
             0.8888888888888888,
             "#fdca26"
            ],
            [
             1,
             "#f0f921"
            ]
           ],
           "sequentialminus": [
            [
             0,
             "#0d0887"
            ],
            [
             0.1111111111111111,
             "#46039f"
            ],
            [
             0.2222222222222222,
             "#7201a8"
            ],
            [
             0.3333333333333333,
             "#9c179e"
            ],
            [
             0.4444444444444444,
             "#bd3786"
            ],
            [
             0.5555555555555556,
             "#d8576b"
            ],
            [
             0.6666666666666666,
             "#ed7953"
            ],
            [
             0.7777777777777778,
             "#fb9f3a"
            ],
            [
             0.8888888888888888,
             "#fdca26"
            ],
            [
             1,
             "#f0f921"
            ]
           ]
          },
          "colorway": [
           "#636efa",
           "#EF553B",
           "#00cc96",
           "#ab63fa",
           "#FFA15A",
           "#19d3f3",
           "#FF6692",
           "#B6E880",
           "#FF97FF",
           "#FECB52"
          ],
          "font": {
           "color": "#2a3f5f"
          },
          "geo": {
           "bgcolor": "white",
           "lakecolor": "white",
           "landcolor": "#E5ECF6",
           "showlakes": true,
           "showland": true,
           "subunitcolor": "white"
          },
          "hoverlabel": {
           "align": "left"
          },
          "hovermode": "closest",
          "mapbox": {
           "style": "light"
          },
          "paper_bgcolor": "white",
          "plot_bgcolor": "#E5ECF6",
          "polar": {
           "angularaxis": {
            "gridcolor": "white",
            "linecolor": "white",
            "ticks": ""
           },
           "bgcolor": "#E5ECF6",
           "radialaxis": {
            "gridcolor": "white",
            "linecolor": "white",
            "ticks": ""
           }
          },
          "scene": {
           "xaxis": {
            "backgroundcolor": "#E5ECF6",
            "gridcolor": "white",
            "gridwidth": 2,
            "linecolor": "white",
            "showbackground": true,
            "ticks": "",
            "zerolinecolor": "white"
           },
           "yaxis": {
            "backgroundcolor": "#E5ECF6",
            "gridcolor": "white",
            "gridwidth": 2,
            "linecolor": "white",
            "showbackground": true,
            "ticks": "",
            "zerolinecolor": "white"
           },
           "zaxis": {
            "backgroundcolor": "#E5ECF6",
            "gridcolor": "white",
            "gridwidth": 2,
            "linecolor": "white",
            "showbackground": true,
            "ticks": "",
            "zerolinecolor": "white"
           }
          },
          "shapedefaults": {
           "line": {
            "color": "#2a3f5f"
           }
          },
          "ternary": {
           "aaxis": {
            "gridcolor": "white",
            "linecolor": "white",
            "ticks": ""
           },
           "baxis": {
            "gridcolor": "white",
            "linecolor": "white",
            "ticks": ""
           },
           "bgcolor": "#E5ECF6",
           "caxis": {
            "gridcolor": "white",
            "linecolor": "white",
            "ticks": ""
           }
          },
          "title": {
           "x": 0.05
          },
          "xaxis": {
           "automargin": true,
           "gridcolor": "white",
           "linecolor": "white",
           "ticks": "",
           "title": {
            "standoff": 15
           },
           "zerolinecolor": "white",
           "zerolinewidth": 2
          },
          "yaxis": {
           "automargin": true,
           "gridcolor": "white",
           "linecolor": "white",
           "ticks": "",
           "title": {
            "standoff": 15
           },
           "zerolinecolor": "white",
           "zerolinewidth": 2
          }
         }
        },
        "title": {
         "text": "2D Cluster PCA Plot"
        },
        "xaxis": {
         "anchor": "y",
         "domain": [
          0,
          1
         ],
         "title": {
          "text": "PCA1"
         }
        },
        "yaxis": {
         "anchor": "x",
         "domain": [
          0,
          1
         ],
         "title": {
          "text": "PCA2"
         }
        }
       }
      }
     },
     "metadata": {},
     "output_type": "display_data"
    }
   ],
   "source": [
    "plot_model(modelo, plot = 'cluster', feature = 'Nome Município', label=False)"
   ]
  },
  {
   "cell_type": "code",
   "execution_count": 118,
   "id": "1973e54f",
   "metadata": {},
   "outputs": [
    {
     "name": "stdout",
     "output_type": "stream",
     "text": [
      "Transformation Pipeline and Model Successfully Saved\n"
     ]
    },
    {
     "data": {
      "text/plain": [
       "(Pipeline(memory=Memory(location=None),\n",
       "          steps=[('numerical_imputer',\n",
       "                  TransformerWrapper(include=['Porcentagem de Casos'],\n",
       "                                     transformer=SimpleImputer())),\n",
       "                 ('categorical_imputer',\n",
       "                  TransformerWrapper(include=['Nome Município'],\n",
       "                                     transformer=SimpleImputer(strategy='most_frequent'))),\n",
       "                 ('onehot_encoding',\n",
       "                  TransformerWrapper(include=['Nome Município'],\n",
       "                                     transformer=OneHotEncoder(cols=['Nome '\n",
       "                                                                     'Município'],\n",
       "                                                               handle_missing='return_nan',\n",
       "                                                               use_cat_names=True))),\n",
       "                 ('normalize', TransformerWrapper(transformer=StandardScaler())),\n",
       "                 ('trained_model', KMeans(n_clusters=4, random_state=6748))]),\n",
       " 'kmeans_pipeline.pkl')"
      ]
     },
     "execution_count": 118,
     "metadata": {},
     "output_type": "execute_result"
    }
   ],
   "source": [
    "# save pipeline\n",
    "save_model(modelo, 'kmeans_pipeline')"
   ]
  },
  {
   "cell_type": "code",
   "execution_count": 119,
   "id": "0e7dc580",
   "metadata": {},
   "outputs": [],
   "source": [
    "# forming dataframe \n",
    "excel = pd.DataFrame(data= cluster)  \n",
    "\n",
    "excel.to_excel('resultados_modelo_oficial.xlsx', index=False)"
   ]
  },
  {
   "cell_type": "code",
   "execution_count": 120,
   "id": "57f35f22",
   "metadata": {},
   "outputs": [],
   "source": [
    "#kmeans_pipeline = load_model('kmeans_pipeline')\n",
    "#kmeans_pipeline"
   ]
  },
  {
   "cell_type": "code",
   "execution_count": 121,
   "id": "a6a2e5ba",
   "metadata": {},
   "outputs": [],
   "source": [
    "resultado_excel = pd.read_excel('resultados_modelo_oficial.xlsx')"
   ]
  },
  {
   "cell_type": "code",
   "execution_count": 122,
   "id": "cd33cbf2",
   "metadata": {},
   "outputs": [
    {
     "ename": "KeyError",
     "evalue": "'qtd_casos'",
     "output_type": "error",
     "traceback": [
      "\u001b[1;31m---------------------------------------------------------------------------\u001b[0m",
      "\u001b[1;31mKeyError\u001b[0m                                  Traceback (most recent call last)",
      "File \u001b[1;32mc:\\Users\\lucla\\Desktop\\new_sifilis\\.venv\\Lib\\site-packages\\pandas\\core\\indexes\\base.py:3791\u001b[0m, in \u001b[0;36mIndex.get_loc\u001b[1;34m(self, key)\u001b[0m\n\u001b[0;32m   3790\u001b[0m \u001b[38;5;28;01mtry\u001b[39;00m:\n\u001b[1;32m-> 3791\u001b[0m     \u001b[38;5;28;01mreturn\u001b[39;00m \u001b[38;5;28;43mself\u001b[39;49m\u001b[38;5;241;43m.\u001b[39;49m\u001b[43m_engine\u001b[49m\u001b[38;5;241;43m.\u001b[39;49m\u001b[43mget_loc\u001b[49m\u001b[43m(\u001b[49m\u001b[43mcasted_key\u001b[49m\u001b[43m)\u001b[49m\n\u001b[0;32m   3792\u001b[0m \u001b[38;5;28;01mexcept\u001b[39;00m \u001b[38;5;167;01mKeyError\u001b[39;00m \u001b[38;5;28;01mas\u001b[39;00m err:\n",
      "File \u001b[1;32mindex.pyx:152\u001b[0m, in \u001b[0;36mpandas._libs.index.IndexEngine.get_loc\u001b[1;34m()\u001b[0m\n",
      "File \u001b[1;32mindex.pyx:181\u001b[0m, in \u001b[0;36mpandas._libs.index.IndexEngine.get_loc\u001b[1;34m()\u001b[0m\n",
      "File \u001b[1;32mpandas\\_libs\\hashtable_class_helper.pxi:7080\u001b[0m, in \u001b[0;36mpandas._libs.hashtable.PyObjectHashTable.get_item\u001b[1;34m()\u001b[0m\n",
      "File \u001b[1;32mpandas\\_libs\\hashtable_class_helper.pxi:7088\u001b[0m, in \u001b[0;36mpandas._libs.hashtable.PyObjectHashTable.get_item\u001b[1;34m()\u001b[0m\n",
      "\u001b[1;31mKeyError\u001b[0m: 'qtd_casos'",
      "\nThe above exception was the direct cause of the following exception:\n",
      "\u001b[1;31mKeyError\u001b[0m                                  Traceback (most recent call last)",
      "Cell \u001b[1;32mIn[122], line 10\u001b[0m\n\u001b[0;32m      8\u001b[0m \u001b[38;5;28;01mfor\u001b[39;00m indice, linha \u001b[38;5;129;01min\u001b[39;00m resultado_excel\u001b[38;5;241m.\u001b[39miterrows():\n\u001b[0;32m      9\u001b[0m     \u001b[38;5;28;01mif\u001b[39;00m(linha[\u001b[38;5;124m'\u001b[39m\u001b[38;5;124mCluster\u001b[39m\u001b[38;5;124m'\u001b[39m] \u001b[38;5;241m==\u001b[39m \u001b[38;5;124m'\u001b[39m\u001b[38;5;124mCluster 3\u001b[39m\u001b[38;5;124m'\u001b[39m):\n\u001b[1;32m---> 10\u001b[0m         total_casos_cluster_3 \u001b[38;5;241m+\u001b[39m\u001b[38;5;241m=\u001b[39m \u001b[43mlinha\u001b[49m\u001b[43m[\u001b[49m\u001b[38;5;124;43m'\u001b[39;49m\u001b[38;5;124;43mqtd_casos\u001b[39;49m\u001b[38;5;124;43m'\u001b[39;49m\u001b[43m]\u001b[49m\n\u001b[0;32m     11\u001b[0m         qtd_cidades \u001b[38;5;241m=\u001b[39m qtd_cidades \u001b[38;5;241m+\u001b[39m \u001b[38;5;241m1\u001b[39m\n\u001b[0;32m     13\u001b[0m         \u001b[38;5;28;01mif\u001b[39;00m(linha[\u001b[38;5;124m'\u001b[39m\u001b[38;5;124mlitoral\u001b[39m\u001b[38;5;124m'\u001b[39m] \u001b[38;5;241m==\u001b[39m \u001b[38;5;241m2\u001b[39m):\n",
      "File \u001b[1;32mc:\\Users\\lucla\\Desktop\\new_sifilis\\.venv\\Lib\\site-packages\\pandas\\core\\series.py:1040\u001b[0m, in \u001b[0;36mSeries.__getitem__\u001b[1;34m(self, key)\u001b[0m\n\u001b[0;32m   1037\u001b[0m     \u001b[38;5;28;01mreturn\u001b[39;00m \u001b[38;5;28mself\u001b[39m\u001b[38;5;241m.\u001b[39m_values[key]\n\u001b[0;32m   1039\u001b[0m \u001b[38;5;28;01melif\u001b[39;00m key_is_scalar:\n\u001b[1;32m-> 1040\u001b[0m     \u001b[38;5;28;01mreturn\u001b[39;00m \u001b[38;5;28;43mself\u001b[39;49m\u001b[38;5;241;43m.\u001b[39;49m\u001b[43m_get_value\u001b[49m\u001b[43m(\u001b[49m\u001b[43mkey\u001b[49m\u001b[43m)\u001b[49m\n\u001b[0;32m   1042\u001b[0m \u001b[38;5;66;03m# Convert generator to list before going through hashable part\u001b[39;00m\n\u001b[0;32m   1043\u001b[0m \u001b[38;5;66;03m# (We will iterate through the generator there to check for slices)\u001b[39;00m\n\u001b[0;32m   1044\u001b[0m \u001b[38;5;28;01mif\u001b[39;00m is_iterator(key):\n",
      "File \u001b[1;32mc:\\Users\\lucla\\Desktop\\new_sifilis\\.venv\\Lib\\site-packages\\pandas\\core\\series.py:1156\u001b[0m, in \u001b[0;36mSeries._get_value\u001b[1;34m(self, label, takeable)\u001b[0m\n\u001b[0;32m   1153\u001b[0m     \u001b[38;5;28;01mreturn\u001b[39;00m \u001b[38;5;28mself\u001b[39m\u001b[38;5;241m.\u001b[39m_values[label]\n\u001b[0;32m   1155\u001b[0m \u001b[38;5;66;03m# Similar to Index.get_value, but we do not fall back to positional\u001b[39;00m\n\u001b[1;32m-> 1156\u001b[0m loc \u001b[38;5;241m=\u001b[39m \u001b[38;5;28;43mself\u001b[39;49m\u001b[38;5;241;43m.\u001b[39;49m\u001b[43mindex\u001b[49m\u001b[38;5;241;43m.\u001b[39;49m\u001b[43mget_loc\u001b[49m\u001b[43m(\u001b[49m\u001b[43mlabel\u001b[49m\u001b[43m)\u001b[49m\n\u001b[0;32m   1158\u001b[0m \u001b[38;5;28;01mif\u001b[39;00m is_integer(loc):\n\u001b[0;32m   1159\u001b[0m     \u001b[38;5;28;01mreturn\u001b[39;00m \u001b[38;5;28mself\u001b[39m\u001b[38;5;241m.\u001b[39m_values[loc]\n",
      "File \u001b[1;32mc:\\Users\\lucla\\Desktop\\new_sifilis\\.venv\\Lib\\site-packages\\pandas\\core\\indexes\\base.py:3798\u001b[0m, in \u001b[0;36mIndex.get_loc\u001b[1;34m(self, key)\u001b[0m\n\u001b[0;32m   3793\u001b[0m     \u001b[38;5;28;01mif\u001b[39;00m \u001b[38;5;28misinstance\u001b[39m(casted_key, \u001b[38;5;28mslice\u001b[39m) \u001b[38;5;129;01mor\u001b[39;00m (\n\u001b[0;32m   3794\u001b[0m         \u001b[38;5;28misinstance\u001b[39m(casted_key, abc\u001b[38;5;241m.\u001b[39mIterable)\n\u001b[0;32m   3795\u001b[0m         \u001b[38;5;129;01mand\u001b[39;00m \u001b[38;5;28many\u001b[39m(\u001b[38;5;28misinstance\u001b[39m(x, \u001b[38;5;28mslice\u001b[39m) \u001b[38;5;28;01mfor\u001b[39;00m x \u001b[38;5;129;01min\u001b[39;00m casted_key)\n\u001b[0;32m   3796\u001b[0m     ):\n\u001b[0;32m   3797\u001b[0m         \u001b[38;5;28;01mraise\u001b[39;00m InvalidIndexError(key)\n\u001b[1;32m-> 3798\u001b[0m     \u001b[38;5;28;01mraise\u001b[39;00m \u001b[38;5;167;01mKeyError\u001b[39;00m(key) \u001b[38;5;28;01mfrom\u001b[39;00m \u001b[38;5;21;01merr\u001b[39;00m\n\u001b[0;32m   3799\u001b[0m \u001b[38;5;28;01mexcept\u001b[39;00m \u001b[38;5;167;01mTypeError\u001b[39;00m:\n\u001b[0;32m   3800\u001b[0m     \u001b[38;5;66;03m# If we have a listlike key, _check_indexing_error will raise\u001b[39;00m\n\u001b[0;32m   3801\u001b[0m     \u001b[38;5;66;03m#  InvalidIndexError. Otherwise we fall through and re-raise\u001b[39;00m\n\u001b[0;32m   3802\u001b[0m     \u001b[38;5;66;03m#  the TypeError.\u001b[39;00m\n\u001b[0;32m   3803\u001b[0m     \u001b[38;5;28mself\u001b[39m\u001b[38;5;241m.\u001b[39m_check_indexing_error(key)\n",
      "\u001b[1;31mKeyError\u001b[0m: 'qtd_casos'"
     ]
    }
   ],
   "source": [
    "total_casos_cluster_3 = 0\n",
    "total_casos_litoral = 0\n",
    "total_caso_nao_litoral = 0\n",
    "qtd_cidades_litoral = 0\n",
    "qtd_cidades_nao_litoral = 0\n",
    "qtd_cidades = 0\n",
    "\n",
    "for indice, linha in resultado_excel.iterrows():\n",
    "    if(linha['Cluster'] == 'Cluster 3'):\n",
    "        total_casos_cluster_3 += linha['qtd_casos']\n",
    "        qtd_cidades = qtd_cidades + 1\n",
    "        \n",
    "        if(linha['litoral'] == 2):\n",
    "            total_casos_litoral = total_casos_litoral + linha['qtd_casos']\n",
    "            qtd_cidades_litoral = qtd_cidades_litoral + 1\n",
    "        else:    \n",
    "            total_caso_nao_litoral = total_caso_nao_litoral + linha['qtd_casos']\n",
    "            qtd_cidades_nao_litoral = qtd_cidades_nao_litoral + 1\n",
    "\n",
    "porcentagem_casos_litoral = (total_casos_litoral * 100)/total_casos_cluster_3\n",
    "porcentagem_casos_nao_litoral = (total_caso_nao_litoral * 100)/total_casos_cluster_3\n",
    "\n",
    "print(f\"O número de cidades no cluster 3 é de {qtd_cidades}, tendo o total de casos de {total_casos_cluster_3}\")\n",
    "print(\"\\n\")\n",
    "print(f\"Sendo {qtd_cidades_litoral} cidades no litoral com {total_casos_litoral} casos representando {porcentagem_casos_litoral} %\")\n",
    "print(\"\\n\")\n",
    "print(f\"Sendo {qtd_cidades_nao_litoral} cidades fora do litoral com {total_caso_nao_litoral} casos representando {porcentagem_casos_nao_litoral} %\")"
   ]
  },
  {
   "cell_type": "code",
   "execution_count": null,
   "id": "aca4c612",
   "metadata": {},
   "outputs": [
    {
     "name": "stdout",
     "output_type": "stream",
     "text": [
      "O número de cidades no cluster 2 é de 50, tendo o total de casos de 4370\n",
      "\n",
      "\n",
      "Sendo 12 cidades no litoral com 1744 casos representando 39.90846681922197 %\n",
      "\n",
      "\n",
      "Sendo 38 cidades fora do litoral com 2626 casos representando 60.09153318077803 %\n"
     ]
    }
   ],
   "source": [
    "total_casos_cluster_2 = 0\n",
    "total_casos_litoral = 0\n",
    "total_caso_nao_litoral = 0\n",
    "qtd_cidades_litoral = 0\n",
    "qtd_cidades_nao_litoral = 0\n",
    "qtd_cidades = 0\n",
    "\n",
    "for indice, linha in resultado_excel.iterrows():\n",
    "    if(linha['Cluster'] == 'Cluster 2'):\n",
    "        total_casos_cluster_2 += linha['qtd_casos']\n",
    "        qtd_cidades = qtd_cidades + 1\n",
    "        \n",
    "        if(linha['litoral'] == 2):\n",
    "            total_casos_litoral = total_casos_litoral + linha['qtd_casos']\n",
    "            qtd_cidades_litoral = qtd_cidades_litoral + 1\n",
    "        else:    \n",
    "            total_caso_nao_litoral = total_caso_nao_litoral + linha['qtd_casos']\n",
    "            qtd_cidades_nao_litoral = qtd_cidades_nao_litoral + 1\n",
    "\n",
    "porcentagem_casos_litoral = (total_casos_litoral * 100)/total_casos_cluster_2\n",
    "porcentagem_casos_nao_litoral = (total_caso_nao_litoral * 100)/total_casos_cluster_2\n",
    "\n",
    "print(f\"O número de cidades no cluster 2 é de {qtd_cidades}, tendo o total de casos de {total_casos_cluster_2}\")\n",
    "print(\"\\n\")\n",
    "print(f\"Sendo {qtd_cidades_litoral} cidades no litoral com {total_casos_litoral} casos representando {porcentagem_casos_litoral} %\")\n",
    "print(\"\\n\")\n",
    "print(f\"Sendo {qtd_cidades_nao_litoral} cidades fora do litoral com {total_caso_nao_litoral} casos representando {porcentagem_casos_nao_litoral} %\")"
   ]
  },
  {
   "cell_type": "code",
   "execution_count": null,
   "id": "2c18206a",
   "metadata": {},
   "outputs": [
    {
     "name": "stdout",
     "output_type": "stream",
     "text": [
      "O número de cidades no cluster 1 é de 87, tendo o total de casos de 4934\n",
      "\n",
      "\n",
      "Sendo 9 cidades no litoral com 1549 casos representando 31.39440616132955 %\n",
      "\n",
      "\n",
      "Sendo 78 cidades fora do litoral com 3385 casos representando 68.60559383867044 %\n"
     ]
    }
   ],
   "source": [
    "total_casos_cluster_1 = 0\n",
    "total_casos_litoral = 0\n",
    "total_caso_nao_litoral = 0\n",
    "qtd_cidades_litoral = 0\n",
    "qtd_cidades_nao_litoral = 0\n",
    "qtd_cidades = 0\n",
    "\n",
    "for indice, linha in resultado_excel.iterrows():\n",
    "    if(linha['Cluster'] == 'Cluster 1'):\n",
    "        total_casos_cluster_1 += linha['qtd_casos']\n",
    "        qtd_cidades = qtd_cidades + 1\n",
    "        \n",
    "        if(linha['litoral'] == 2):\n",
    "            total_casos_litoral = total_casos_litoral + linha['qtd_casos']\n",
    "            qtd_cidades_litoral = qtd_cidades_litoral + 1\n",
    "        else:    \n",
    "            total_caso_nao_litoral = total_caso_nao_litoral + linha['qtd_casos']\n",
    "            qtd_cidades_nao_litoral = qtd_cidades_nao_litoral + 1\n",
    "\n",
    "porcentagem_casos_litoral = (total_casos_litoral * 100)/total_casos_cluster_1\n",
    "porcentagem_casos_nao_litoral = (total_caso_nao_litoral * 100)/total_casos_cluster_1\n",
    "\n",
    "print(f\"O número de cidades no cluster 1 é de {qtd_cidades}, tendo o total de casos de {total_casos_cluster_1}\")\n",
    "print(\"\\n\")\n",
    "print(f\"Sendo {qtd_cidades_litoral} cidades no litoral com {total_casos_litoral} casos representando {porcentagem_casos_litoral} %\")\n",
    "print(\"\\n\")\n",
    "print(f\"Sendo {qtd_cidades_nao_litoral} cidades fora do litoral com {total_caso_nao_litoral} casos representando {porcentagem_casos_nao_litoral} %\")"
   ]
  },
  {
   "cell_type": "code",
   "execution_count": null,
   "id": "0b856db5",
   "metadata": {},
   "outputs": [
    {
     "name": "stdout",
     "output_type": "stream",
     "text": [
      "O número de cidades no cluster 0 é de 257, tendo o total de casos de 2069\n",
      "\n",
      "\n",
      "Sendo 6 cidades no litoral com 141 casos representando 6.8148864185596905 %\n",
      "\n",
      "\n",
      "Sendo 251 cidades fora do litoral com 1928 casos representando 93.1851135814403 %\n"
     ]
    }
   ],
   "source": [
    "total_casos_cluster_0 = 0\n",
    "total_casos_litoral = 0\n",
    "total_caso_nao_litoral = 0\n",
    "qtd_cidades_litoral = 0\n",
    "qtd_cidades_nao_litoral = 0\n",
    "qtd_cidades = 0\n",
    "\n",
    "for indice, linha in resultado_excel.iterrows():\n",
    "    if(linha['Cluster'] == 'Cluster 0'):\n",
    "        total_casos_cluster_0 += linha['qtd_casos']\n",
    "        qtd_cidades = qtd_cidades + 1\n",
    "        \n",
    "        if(linha['litoral'] == 2):\n",
    "            total_casos_litoral = total_casos_litoral + linha['qtd_casos']\n",
    "            qtd_cidades_litoral = qtd_cidades_litoral + 1\n",
    "        else:    \n",
    "            total_caso_nao_litoral = total_caso_nao_litoral + linha['qtd_casos']\n",
    "            qtd_cidades_nao_litoral = qtd_cidades_nao_litoral + 1\n",
    "\n",
    "porcentagem_casos_litoral = (total_casos_litoral * 100)/total_casos_cluster_0\n",
    "porcentagem_casos_nao_litoral = (total_caso_nao_litoral * 100)/total_casos_cluster_0\n",
    "\n",
    "print(f\"O número de cidades no cluster 0 é de {qtd_cidades}, tendo o total de casos de {total_casos_cluster_0}\")\n",
    "print(\"\\n\")\n",
    "print(f\"Sendo {qtd_cidades_litoral} cidades no litoral com {total_casos_litoral} casos representando {porcentagem_casos_litoral} %\")\n",
    "print(\"\\n\")\n",
    "print(f\"Sendo {qtd_cidades_nao_litoral} cidades fora do litoral com {total_caso_nao_litoral} casos representando {porcentagem_casos_nao_litoral} %\")"
   ]
  },
  {
   "cell_type": "code",
   "execution_count": null,
   "id": "769b773e",
   "metadata": {},
   "outputs": [
    {
     "name": "stdout",
     "output_type": "stream",
     "text": [
      "Total de cidades: 417 \n",
      "\n",
      "Total de cidades litoraneas: 32 \n",
      "\n",
      "Total de cidade não litoraneas: 385 \n",
      "\n",
      "Total de casos no litoral: 18536.0 \n",
      "\n",
      "Total de casos fora do litoral: nan \n",
      "\n",
      "Total de casos com categoria de turismo 0: nan \n",
      "\n",
      "Total de casos com categoria de turismo 1: 136.0 \n",
      "\n",
      "Total de casos com categoria de turismo 2: 1603.0 \n",
      "\n",
      "Total de casos com categoria de turismo 3: 2152.0 \n",
      "\n",
      "Total de casos com categoria de turismo 4: 7680.0 \n",
      "\n",
      "Total de casos com categoria de turismo 5: 13982.0 \n",
      "\n"
     ]
    }
   ],
   "source": [
    "total_casos_por_cluster = {'Cluster 0': 0, 'Cluster 1': 0, 'Cluster 2': 0, 'Cluster 3': 0}\n",
    "total_casos_litoral = {'Cluster 0': 0, 'Cluster 1': 0, 'Cluster 2': 0, 'Cluster 3': 0}\n",
    "total_casos_nao_litoral = {'Cluster 0': 0, 'Cluster 1': 0, 'Cluster 2': 0, 'Cluster 3': 0}\n",
    "qtd_cidades_litoral = {'Cluster 0': 0, 'Cluster 1': 0, 'Cluster 2': 0, 'Cluster 3': 0}\n",
    "qtd_cidades_nao_litoral = {'Cluster 0': 0, 'Cluster 1': 0, 'Cluster 2': 0, 'Cluster 3': 0}\n",
    "total_casos_por_categoria = {'0': 0, '1':0, '2': 0, '3': 0, '4':0, '5':0}\n",
    "qtd_cidades = 0\n",
    "\n",
    "for indice, linha in resultado_excel.iterrows():\n",
    "    cluster = linha['Cluster']\n",
    "    total_casos_por_cluster[cluster] += linha['qtd_casos']\n",
    "\n",
    "    qtd_cidades += 1\n",
    "    \n",
    "    if linha['litoral'] == 2:\n",
    "        total_casos_litoral[cluster] += linha['qtd_casos']\n",
    "        qtd_cidades_litoral[cluster] += 1\n",
    "    else:    \n",
    "        total_casos_nao_litoral[cluster] += linha['qtd_casos']\n",
    "        qtd_cidades_nao_litoral[cluster] += 1\n",
    "        \n",
    "    if linha['categoria'] == 0:\n",
    "        total_casos_por_categoria['0'] += linha['qtd_casos']\n",
    "    elif linha['categoria'] == 1:\n",
    "        total_casos_por_categoria['1'] += linha['qtd_casos']\n",
    "    elif linha['categoria'] == 2:\n",
    "        total_casos_por_categoria['2'] += linha['qtd_casos']\n",
    "    elif linha['categoria'] == 3:\n",
    "        total_casos_por_categoria['3'] += linha['qtd_casos']\n",
    "    elif linha['categoria'] == 4:\n",
    "        total_casos_por_categoria['4'] += linha['qtd_casos']\n",
    "    else:    \n",
    "        total_casos_por_categoria['5'] += linha['qtd_casos']\n",
    "\n",
    "print(f\"Total de cidades: {qtd_cidades} \\n\")\n",
    "print(f\"Total de cidades litoraneas: {sum(qtd_cidades_litoral.values())} \\n\")\n",
    "print(f\"Total de cidade não litoraneas: {sum(qtd_cidades_nao_litoral.values())} \\n\")\n",
    "print(f\"Total de casos no litoral: {sum(total_casos_litoral.values())} \\n\")\n",
    "print(f\"Total de casos fora do litoral: {sum(total_casos_nao_litoral.values())} \\n\")\n",
    "print(f\"Total de casos com categoria de turismo 0: {total_casos_por_categoria['0']} \\n\")\n",
    "print(f\"Total de casos com categoria de turismo 1: {total_casos_por_categoria['1']} \\n\")\n",
    "print(f\"Total de casos com categoria de turismo 2: {total_casos_por_categoria['2']} \\n\")\n",
    "print(f\"Total de casos com categoria de turismo 3: {total_casos_por_categoria['3']} \\n\")\n",
    "print(f\"Total de casos com categoria de turismo 4: {total_casos_por_categoria['4']} \\n\")\n",
    "print(f\"Total de casos com categoria de turismo 5: {total_casos_por_categoria['5']} \\n\")\n"
   ]
  },
  {
   "cell_type": "markdown",
   "id": "be94f354",
   "metadata": {},
   "source": [
    "\n",
    "    "
   ]
  },
  {
   "cell_type": "code",
   "execution_count": null,
   "id": "619d0778",
   "metadata": {},
   "outputs": [
    {
     "name": "stdout",
     "output_type": "stream",
     "text": [
      "{'Cluster 0': 4, 'Cluster 1': 8, 'Cluster 2': 4, 'Cluster 3': 5}\n",
      "\n",
      "\n",
      "{'Cluster 0': 16, 'Cluster 1': 5, 'Cluster 2': 9, 'Cluster 3': 1}\n"
     ]
    }
   ],
   "source": [
    "qtd_cidade_categoria_4 = {'Cluster 0': 0, 'Cluster 1': 0, 'Cluster 2': 0, 'Cluster 3': 0}\n",
    "qtd_cidade_categoria_3 = {'Cluster 0': 0, 'Cluster 1': 0, 'Cluster 2': 0, 'Cluster 3': 0}\n",
    "qtd_cidade_categoria_2 = {'Cluster 0': 0, 'Cluster 1': 0, 'Cluster 2': 0, 'Cluster 3': 0}\n",
    "qtd_cidade_categoria_1 = {'Cluster 0': 0, 'Cluster 1': 0, 'Cluster 2': 0, 'Cluster 3': 0}\n",
    "qtd_cidade_categoria_0 = {'Cluster 0': 0, 'Cluster 1': 0, 'Cluster 2': 0, 'Cluster 3': 0}\n",
    "\n",
    "for indice, linha in resultado_excel.iterrows():\n",
    "    if linha['Cluster'] == 'Cluster 0':\n",
    "        if linha['categoria'] == 0:\n",
    "            qtd_cidade_categoria_0['Cluster 0'] += 1\n",
    "        elif linha['categoria'] == 1:\n",
    "            qtd_cidade_categoria_1['Cluster 0'] += 1\n",
    "        elif linha['categoria'] == 2:\n",
    "            qtd_cidade_categoria_2['Cluster 0'] += 1\n",
    "        elif linha['categoria'] == 3:\n",
    "            qtd_cidade_categoria_3['Cluster 0'] += 1\n",
    "        elif linha['categoria'] == 4:\n",
    "            qtd_cidade_categoria_4['Cluster 0'] += 1\n",
    "    elif linha['Cluster'] == 'Cluster 1':\n",
    "        if linha['categoria'] == 0:\n",
    "            qtd_cidade_categoria_0['Cluster 1'] += 1\n",
    "        elif linha['categoria'] == 1:\n",
    "            qtd_cidade_categoria_1['Cluster 1'] += 1\n",
    "        elif linha['categoria'] == 2:\n",
    "            qtd_cidade_categoria_2['Cluster 1'] += 1\n",
    "        elif linha['categoria'] == 3:\n",
    "            qtd_cidade_categoria_3['Cluster 1'] += 1\n",
    "        elif linha['categoria'] == 4:\n",
    "            qtd_cidade_categoria_4['Cluster 1'] += 1\n",
    "    elif linha['Cluster'] == 'Cluster 2':\n",
    "        if linha['categoria'] == 0:\n",
    "            qtd_cidade_categoria_0['Cluster 2'] += 1\n",
    "        elif linha['categoria'] == 1:\n",
    "            qtd_cidade_categoria_1['Cluster 2'] += 1\n",
    "        elif linha['categoria'] == 2:\n",
    "            qtd_cidade_categoria_2['Cluster 2'] += 1\n",
    "        elif linha['categoria'] == 3:\n",
    "            qtd_cidade_categoria_3['Cluster 2'] += 1\n",
    "        elif linha['categoria'] == 4:\n",
    "            qtd_cidade_categoria_4['Cluster 2'] += 1\n",
    "    elif linha['Cluster'] == 'Cluster 3':\n",
    "        if linha['categoria'] == 0:\n",
    "            qtd_cidade_categoria_0['Cluster 3'] += 1\n",
    "        elif linha['categoria'] == 1:\n",
    "            qtd_cidade_categoria_1['Cluster 3'] += 1\n",
    "        elif linha['categoria'] == 2:\n",
    "            qtd_cidade_categoria_2['Cluster 3'] += 1\n",
    "        elif linha['categoria'] == 3:\n",
    "            qtd_cidade_categoria_3['Cluster 3'] += 1\n",
    "        elif linha['categoria'] == 4:\n",
    "            qtd_cidade_categoria_4['Cluster 3'] += 1\n",
    "    elif linha['Cluster'] == 'Cluster 4':\n",
    "        if linha['categoria'] == 0:\n",
    "            qtd_cidade_categoria_0['Cluster 4'] += 1\n",
    "        elif linha['categoria'] == 1:\n",
    "            qtd_cidade_categoria_1['Cluster 4'] += 1\n",
    "        elif linha['categoria'] == 2:\n",
    "            qtd_cidade_categoria_2['Cluster 4'] += 1\n",
    "        elif linha['categoria'] == 3:\n",
    "            qtd_cidade_categoria_3['Cluster 4'] += 1\n",
    "        elif linha['categoria'] == 4:\n",
    "            qtd_cidade_categoria_4['Cluster 4'] += 1\n",
    "            \n",
    "print(qtd_cidade_categoria_2)\n",
    "print(\"\\n\")\n",
    "print(qtd_cidade_categoria_3)"
   ]
  },
  {
   "cell_type": "code",
   "execution_count": null,
   "id": "6b7e6841",
   "metadata": {},
   "outputs": [],
   "source": []
  }
 ],
 "metadata": {
  "kernelspec": {
   "display_name": "Python 3 (ipykernel)",
   "language": "python",
   "name": "python3"
  },
  "language_info": {
   "codemirror_mode": {
    "name": "ipython",
    "version": 3
   },
   "file_extension": ".py",
   "mimetype": "text/x-python",
   "name": "python",
   "nbconvert_exporter": "python",
   "pygments_lexer": "ipython3",
   "version": "3.11.7"
  }
 },
 "nbformat": 4,
 "nbformat_minor": 5
}
